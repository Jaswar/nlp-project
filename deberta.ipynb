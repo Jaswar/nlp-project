{
 "cells": [
  {
   "cell_type": "code",
   "id": "initial_id",
   "metadata": {
    "collapsed": true,
    "ExecuteTime": {
     "end_time": "2024-05-13T23:19:41.717761Z",
     "start_time": "2024-05-13T23:19:41.124739Z"
    }
   },
   "source": [
    "import os\n",
    "import torch\n",
    "import logging\n",
    "logging.basicConfig(level=logging.ERROR)\n",
    "# If there's a GPU available...\n",
    "if torch.cuda.is_available():\n",
    "\n",
    "    # Tell PyTorch to use the GPU.\n",
    "    device = torch.device(\"cuda\")\n",
    "\n",
    "    print('There are %d GPU(s) available.' % torch.cuda.device_count())\n",
    "\n",
    "    print('We will use the GPU:', torch.cuda.get_device_name(0))\n",
    "\n",
    "# If not...\n",
    "else:\n",
    "    print('No GPU available, using the CPU instead.')\n",
    "    device = torch.device(\"cpu\")"
   ],
   "outputs": [
    {
     "name": "stdout",
     "output_type": "stream",
     "text": [
      "There are 1 GPU(s) available.\n",
      "We will use the GPU: NVIDIA GeForce RTX 4090\n"
     ]
    }
   ],
   "execution_count": 1
  },
  {
   "metadata": {
    "ExecuteTime": {
     "end_time": "2024-05-13T23:19:42.108295Z",
     "start_time": "2024-05-13T23:19:41.718564Z"
    }
   },
   "cell_type": "code",
   "source": [
    "from transformers import AutoTokenizer,AutoModel\n",
    "\n",
    "# Load the BERT tokenizer.\n",
    "print('Loading BERT tokenizer...')\n",
    "tokenizer = AutoTokenizer.from_pretrained('sileod/deberta-v3-base-tasksource-nli', do_lower_case=True)"
   ],
   "id": "9c890d12be32ae16",
   "outputs": [
    {
     "name": "stdout",
     "output_type": "stream",
     "text": [
      "Loading BERT tokenizer...\n"
     ]
    },
    {
     "name": "stderr",
     "output_type": "stream",
     "text": [
      "/home/jan/anaconda3/envs/pytorch/lib/python3.10/site-packages/huggingface_hub/file_download.py:1132: FutureWarning: `resume_download` is deprecated and will be removed in version 1.0.0. Downloads always resume when possible. If you want to force a new download, use `force_download=True`.\n",
      "  warnings.warn(\n"
     ]
    }
   ],
   "execution_count": 2
  },
  {
   "metadata": {
    "ExecuteTime": {
     "end_time": "2024-05-13T23:19:42.685438Z",
     "start_time": "2024-05-13T23:19:42.108881Z"
    }
   },
   "cell_type": "code",
   "source": [
    "import json\n",
    "with open(\"NumTemp-E9C0/output/bm25_top_100_train\") as f:\n",
    "    train_data = json.load(f)\n",
    "with open('NumTemp-E9C0/output/bm25_top_100_val') as f:\n",
    "    val_data = json.load(f)\n",
    "len(train_data), len(val_data)"
   ],
   "id": "f624bbf13de23279",
   "outputs": [
    {
     "data": {
      "text/plain": [
       "(9935, 3084)"
      ]
     },
     "execution_count": 3,
     "metadata": {},
     "output_type": "execute_result"
    }
   ],
   "execution_count": 3
  },
  {
   "metadata": {
    "ExecuteTime": {
     "end_time": "2024-05-13T23:19:42.688690Z",
     "start_time": "2024-05-13T23:19:42.685898Z"
    }
   },
   "cell_type": "code",
   "source": "train_data[-1]",
   "id": "a501f5785acbef39",
   "outputs": [
    {
     "data": {
      "text/plain": [
       "{'country_of_origin': 'usa',\n",
       " 'label': 'Conflicting',\n",
       " 'url': 'https://www.politifact.com/factchecks/2016/may/03/alan-grayson/grayson-right-about-lack-paid-vacation-us-misses-d/',\n",
       " 'lang': 'en',\n",
       " 'claim': '\"There\\'s only three countries in the entire world wherethere\\'s no paid vacation by law, we happen to be one of them.\"',\n",
       " 'doc': 'American workers aren’t getting the compensation they deserve, in either time or money, U.S. Rep. Alan Grayson said at a recent Orlando debate. At a Senate campaign debate with U.S. Rep. David Jolly, R-Indian Shores, on April 25, 2016, Grayson said he supported a higher minimum wage. Providing more pay won’t hurt the businesses, he said, because other nations have higher wages with no ill effects. Furthermore, many countries also guarantee paid time off and their economies are fine, Grayson said. But not the United States. \"There\\'s only three countries in the entire world wherethere\\'s no paid vacation by law, we happen to be one of them. The other two are in Africa,\" he said. That stat stopped us cold, and not just because we’re overdue for a long weekend off. Could Grayson be right that the United States is one of the only countries in the entire world that doesn’t grant a legal right to paid time off? Well, not exactly; Grayson’s campaign admitted he had misspoken. But available research shows he’s not far off the mark by suggesting that America is unique by not guaranteeing vacation time. Zero guarantee Grayson campaign spokesman David Damron told us via email that the Orlando Democrat meant to say only a handful of island nations in the Pacific Ocean joined the United States in not guaranteeing paid time off — not two countries in Africa. Those five countries, according to Wikipedia, were Kiribati, the Marshall Islands, the Federated States of Micronesia, Palau and Nauru, he said. \"The congressman accidentally conflated guaranteed paid vacation and paid sick time in his recollection of which countries fell into this category of weak worker protections with the United States, which was the basis for his reference to Africa (rather than the Pacific),\" Damron wrote. We don’t take Wikipedia’s word as gospel, of course, but we could not get experts to speak to specific conditions in those five countries. Together, they have a population of around 300,000 — or about the population of Pittsburgh. The biggest repository of trusted data we found came from UCLA’s World Policy Analysis Center. Their database showed 13 countries, including the United States, with no guaranteed paid annual leave. Their list did include Kiribati, the Marshall Islands and Nauru, but also larger countries like Pakistan and India. Now, sometimes leave varies by how long a worker is at a job or some other classification. The World Policy Analysis Center’s database notes they \"report the lowest amount of leave guaranteed to a worker with at least one year of tenure.\" The World Bank has its own detailed numbers for vacation available to workers based on tenure. The bank measured paid annual leave for 189 economies, including splitting some countries into large metro areas. The United States, for example, is split into New York and Los Angeles. The bank’s table did list five Pacific island nations that did not guarantee paid leave time for any workers with one or more years of service: The Federated States of Micronesia, the Marshall Islands, Kiribati, Palau and Tonga. It didn’t have data for Nauru, where unemployment among its 10,000 or so residents hovered around 90 percent in 2004. If it sounds to you like those aren’t the kind of countries normally associated with a global economic powerhouse like the United States, you’d be right. Most studies on this issue stuck to smaller sets of much more comparable nations. These usually involved grouping countries with words like \"developed\" or \"rich.\" For example, the Organization for Economic Co-operation and Development, an international economic group composed of 34 generally wealthy countries, notes that in 2014 the United States was its only member country with no statutory minimum of paid days off. A 2011 Business Insider roundup using data from global human resources firm Mercer said 39 developed countries offered more vacation time than the United States. Mercer’s Worldwide Benefit and Employment Guidelines, last updated in 2015, tracks 74 countries across the planet (the Pacific island nations Damron cited are absent). It notes the United States ranks the lowest among the surveyed countries with no \"statutory holiday entitlement.\" Often cited in media reports is the Center for Economic and Policy Research’s 2013 study, No-Vacation Nation Revisited. That paper compared paid vacation and paid holidays in 21 countries with advanced economies: 16 in Europe, Australia, Canada, Japan, New Zealand, and the United States. France led the pack with 30 paid vacation days. While the French get one paid holiday, Austrians get 13, plus 25 vacation days. The United Kingdom offers 28 vacation days. But almost every country in the CEPR study had more than 20 paid vacation days, except Canada and Japan, which only awarded 10. America came in dead last in guaranteed time off, with a grand total of zero days. Many employers do offer paid vacation and holidays, but there’s no law that says they must. And businesses do take advantage of the fact. \"In the absence of a legal requirement for paid vacation and paid holidays, about one fourth of the U.S. workforce has no paid vacation or paid holidays in the course of their work year,\" the CEPR report read. \"The sum of the average paid vacation and paid holidays ― 16 in total ― offered in the private sector in the United States would not meet even the minimum required by law in 19 other rich countries analyzed here.\" Our ruling Grayson said, \"There\\'s only three countries in the entire world wherethere\\'s no paid vacation by law, we happen to be one of them.\" Grayson’s claim, taken literally, is incorrect. A Grayson spokesman said the congressman had fumbled his talking point a bit, especially the part about a pair of African nations being the other two. But the point he was trying to make to viewers and voters largely holds up. The United States is certainly one of just a few countries that does not guarantee paid vacation as a right, and an outlier among developed nations. In that sense, Grayson’s claim is partially accurate. We rate it Half True.',\n",
       " 'taxonomy_label': 'statistical',\n",
       " 'label_original': 'half-true',\n",
       " 'top_n': ['18 ago 2023  ... days of paid vacation in all eu countries. several countries offer even ... while swedes are guaranteed 25 paid vacation days by law, her ...',\n",
       "  'jun 22, 2023  if the plan becomes law, the united states will no longer be one of six countries in the world  and the only rich country  without any form ...',\n",
       "  '22 juin 2023  if the plan becomes law, the united states will no longer be one of six countries in the world  and the only rich country  without any form of ...',\n",
       "  'de r ray  2013  cit 105 fois  vacation and holiday laws. figure 1 summarizes the legal right to paid vacation for 21 of the richest countries in the world (see also table 1).24 pages',\n",
       "  '24 dc. 2019  for the next three decades, the two weeks of paid vacation time ... without any benefits, sought to pass a paid vacation law in the state.',\n",
       "  'figure 1 summarizes the legal right to paid vacation for 21 of the richest countries in the world (see also table 1). figure 1 also shows the total number of ...12 pages',\n",
       "  '5 dc. 2022  countries were then ranked based on a combination of required days of paid leave, as well as paid public holidays. only one country in the world ...',\n",
       "  'geneva  more than 120 countries around the world provide paid maternity leave and health benefits by law, including most industrialized nations except ...',\n",
       "  'yes, there are a few countries that have no paid vacation law. these countries include: * united states * micronesia * nauru * palau * kiribati * mexico ...',\n",
       "  'some employers offer no vacation at all. the average number of paid vacation days offered by private employers is 10 days after 1 year of service, 14 days ...',\n",
       "  'geneva (ilo news)  more than 120 countries around the world provide paid maternity leave and health benefits by law, including most industrialized nations ...',\n",
       "  'the amount of paid vacation days differs per european country. in ... in the united states, there is no legal requirement for employers to provide paid vacation.',\n",
       "  'jan 5, 2022  find out the legal paid vacation days entitlements in 15 countries worldwide. plus get an idea of the common practice when it comes to paid ...',\n",
       "  'the paid vacation column gives the minimum mandatory vacation days for an employee who has one year of service with the same employer. in some countries, the ...',\n",
       "  '2023-03-14  invests in paid family and medical leave, so we will no longer be the only major economy without national paid leave,\" biden said in a speech.',\n",
       "  '13 oct. 2022  under brazil labor law, employees are entitled to 30 paid vacation days each year after their first 12 months of work and accrue 30 days each 12 ...',\n",
       "  '4 dc. 2022  the 10 countries with the least paid vacationthe u.s. is no. 2  1. micronesia. continent: oceania total paid vacation days: 9  2. united states ...',\n",
       "  'if the employer paid the entire cost of the insurance coverage, then no part of the rebate would be attributable to participant contributions. however, if ...',\n",
       "  '1 mars 2022  the u.s. is the only oecd member countryand one of only six countries in the worldwithout a national paid parental leave policy. the u.s.',\n",
       "  'mar 1, 2022  the u.s. is the only oecd member countryand one of only six countries in the worldwithout a national paid parental leave policy. the u.s.',\n",
       "  'under the 1935 law, what we now think of as social security only paid retirement benefits to the primary worker. ... q5: is it true that members of congress do ...',\n",
       "  'apr 24, 2023  25 countries provide at least 28 days of paid vacation per year, according to a recent study. do you live or work in a country that guarantees ...',\n",
       "  '3 mars 2023  countries with the most and least paid vacation ; 3, yemen, 45, united states, 10 ; 4, andorra, 44, palau, 12.',\n",
       "  'the united states is not one of them. in fact, the u.s. is the only country classified by the world bank as high-income that does not have paid maternity leave.',\n",
       "  'a global economic powerhouse, the usa, stands out for its limited paid vacation policies. on average, american workers are entitled to only eight national ...',\n",
       "  'mar 18, 2019  no world region has reached gender parity in the share of legislative seats held by women. only three nations individually have reached or ...',\n",
       "  \"apr 24, 2023  in some european countries like france, italy, and spain  where paid vacation is a legal right  it's common for workers to take a full month ...\",\n",
       "  '31 mag 2023  by law, all d.c. contracts worth more than $1 million have to be reviewed and approved by the d.c. council. that did not happen with 36 ...',\n",
       "  'the prophecies foretold by prophet muhammad were revealed to him by god but no one knows the time they will happen except god. the majority of the ...',\n",
       "  'education reform has been in a need in the philippines for generations. before k to 12, the philippines had been one of only three remaining countries in ...',\n",
       "  '13 aot 2013  a new report has found that the united states is the only advanced economy that does not require employers to provide paid vacation time.',\n",
       "  \"22 oct. 2021  ... them? we're one of the few industrial countries in the world that doesn't have paid leave  so that when you stay home to help that person ...\",\n",
       "  \"president: donald trump. the second of the three shutdowns to happen during trump's presidency only lasted several hours. it happened due to sen\",\n",
       "  '15 mar 2022  to be clear on the law, there is no prohibition against dual nationals serving in congress. the only qualifications for serving in congress ...',\n",
       "  'the senators and representatives shall receive a compensation for their services, to be ascertained by law, and paid out of the treasury of the united states.',\n",
       "  '22 ago 2018  british people enjoy the highest number of paid vacation days. americans ... not so much. check out the average vacation time per country.',\n",
       "  'in law, corroboration refers to the requirement in some jurisdictions, such as in scots law, that any evidence adduced be backed up by at least one other source ...',\n",
       "  'the federal government offers generous vacation, sick leave and holiday policies. vacation federal employees start with 13 paid vacation days a year, and the ...',\n",
       "  'sep 7, 2023  under the new law, there will be only three tax brackets and the highest rate will be 3.75%. once fully phased in for 2024, there will be two ...',\n",
       "  'rejection letters should be short and polite. the entire letter should be no longer than one to two paragraphs. remember that the candidate has probably been ...',\n",
       "  '29 lug 2021  before the pandemic, developing countries paid a median price of $0.80 a dose for all non-covid vaccines, according to analysis by the world ...',\n",
       "  '29 lug 2021  before the pandemic, developing countries paid a median price of $0.80 a dose for all non-covid-19 vaccines, according to analysis by the world ...',\n",
       "  \"a: yes. under the 1935 law, what we now think of as social security only paid retirement benefits to the primary worker. a 1939 change in the law added survivors benefits and benefits for the retiree's spouse and children. in 1956 disability benefits were added.\",\n",
       "  '6 avr. 2023  while american workers are not legally entitled to any paid holidays, in reality, most u.s. employers do offer some paid vacation time. the ...',\n",
       "  'the united states is one out of 193 countries in the united nations, and yet we pay 22 percent of the entire budget and more. in fact, we pay far more than anybody realizes. the united states bears an unfair cost burden, but, to be fair, if it could actually accomplish all of its stated goals, especially the goal of peace, this investment would easily be well worth it.',\n",
       "  '... vote at all - most likely he got the money on the other side , as they not only paid for votes , but paid persons not to vote . i lost one out of the three ...',\n",
       "  '22 juin 2023  the u.s. is one of six countries with no national paid leave. the democrats have cut their plan to four weeks, which would still make it an ...',\n",
       "  'uplifted by the titans of mount rushmore, we will find unity that no one expected; we will make strides that no one thought possible. this ...',\n",
       "  '// schools closedsalary paid except as provided by budgetary action. + winter vacation schools are closed from december 20, 2021 to december 31, 2021.',\n",
       "  'according to the great waves of change prophecy , there will be no three days of darkness. there will be no one defining moment or event that will announce a ...',\n",
       "  'when the pandemic hit the world in early 2020, the u.s. was the only one among 22 highly economically developed countries without guaranteed paid sick time, according to the center for economic and policy research. more than two years later, it still is. on sept. 22, the bureau of labor statistics released its annual paid leave benefits report that showed that 77% of private industry workers received paid sick leave in march 2022. that number has barely budged since the start of the pandemic, when 75% had paid sick leave.',\n",
       "  'as military forces around the world are constantly changing in size, no definitive list can ever be compiled. all of the 172 countries listed here, especially ...',\n",
       "  'for some, the decision to prosecute is easy; no one is above the law, including donald trump, and the decision to prosecute should be based solely on evidence.',\n",
       "  'according to attom data research, only \"34 percent of all american homeowners have 100 percent equity in their properties  they\\'ve either paid off their entire ...',\n",
       "  '2017-11-07  : \"in 2010, 48,000 felons & fugitives...illegally tried to purchase guns, [the obama administration] prosecuted only 44 of them.\" embedded ...',\n",
       "  '2015-04-22  under federal law, no one can be forced to join a union as a condition of employment, and the supreme court has made clear that workers ...',\n",
       "  '17 lug 2009  we were riled up. we would only repeat the allah o akbar we were invited to chant. no one felt like saying death to america or any of the other ...',\n",
       "  \"it is not unusual for large u.s. corporations to pay no u.s. income taxes despite making billions of dollars in profits. in fact, one study of corporate securities filings found 55 of america's largest companies paid no income taxes in 2020 despite generating hefty profits, while netting $3.5 billion in aggregate tax rebates. nearly half of those companies paid no u.s. income taxes for three successive years.\",\n",
       "  'zaila avant-garde (usa) is featured as one of our young achievers in the guinness world records 2022 book. not only does she hold three record titles for ...',\n",
       "  '29 set 2023  if you employ staff in europe, it can be difficult to manage from overseas. in this blog, we explore the different vacation standards in the ...',\n",
       "  'this report spells out what the world would be like if it warmed by 4 degrees celsius, which is what scientists are nearly unanimously predicting will happen by ...',\n",
       "  'sixty-three percent of countries around the world provide guaranteed paid parental leave many others have been reported missing or injured.',\n",
       "  'we start with the poverty line defined by each country, which usually reflects the amount below which a persons minimum nutritional, clothing, and shelter needs cannot be met in that country. not surprisingly, richer countries tend to have higher poverty lines, while poorer countries have lower poverty lines. however, when we want to identify how many people in the world live in extreme poverty across countries, we cannot simply add up the national poverty rates of each country. this would be the equivalent of using a different yardstick in each country to identify who is poor. thats why we need a poverty line that measures poverty in all countries by the same standard.',\n",
       "  'three women will be raped or beaten in their lifetime: approximately one billion women and girls. many african countries were involved in the campaign',\n",
       "  'how much does the average vacation cost for one person? the average vacation cost for one person in the u.s. is about $1,919 per week. individual costs will vary based on the travelers mode of transportation and lodging.',\n",
       "  'how many people know coke\\'s \"secret formula\"? coke has a new ad that declares that only two people know cokes secret formula, and if something happened to one of them, the formula would be lost forever. it then goes on to talk, facetiously, about all the terrible things that would happen to the world if something bad happened to one of the two men and the formula was lost forever.',\n",
       "  'dec 24, 2019  workers have paid vacation days in turkmenistan, brazil, and the european union  but not here.',\n",
       "  '24 dc. 2019  workers have paid vacation days in turkmenistan, brazil, and the european union  but not here.',\n",
       "  '22 avr. 2015  under federal law, no one can be forced to join a union as a condition of employment, and the supreme court has made clear that workers ...',\n",
       "  '22 apr 2015  under federal law, no one can be forced to join a union as a condition of employment, and the supreme court has made clear that workers ...',\n",
       "  'countries in the world by population (2023)',\n",
       "  'the projected global economic growth ... what will happen to countries and regions that remain in food deficit in 2050  how can their food security be assured?4 puslapiai',\n",
       "  '7 dc. 2005  if nothing is done, there could be only one person employed for every retiree in european countries by 2050. as a result, the labour market.12 pages',\n",
       "  'it is one of only five countries that ranks among the top ten globally in ... criteria, rather than be a pre-determined selection. there must be an inclusive ...',\n",
       "  'average indexed earnings in each of the three brackets are multiplied by three ... as under current law, workers could still choose to begin receiving reduced ...',\n",
       "  \"in last night's episode of the walking dead, we witnessed one of the biggest character deaths in the show's entire 8-year run.\",\n",
       "  'in summary, the figures presented in this report should be considered as only a partial picture of the extent of killings of land and environmental defenders across the world in 2021. we identified relevant cases in 17 countries in 2021, but it is likely that attacks affecting land and environmental defenders also occurred in other countries where human rights violations are widespread. reasons why we may not have been able to document such cases in line with our methodology and criteria include:',\n",
       "  'there can be no perfect democracy curtailed by color, race, or poverty. but with all we accomplish all, even peace. w. e. b. du bois in the world and africa: ...',\n",
       "  'by law, no more than three commissioners can represent the same political party, and at least four votes are required for any official commission action. this ...',\n",
       "  'according to the us bureau of labor statistics, the average number of paid vacation days is 11 days. this average is based on a us employee working in the ...',\n",
       "  'according to missed opportunities: the high cost of not educating girls, less than two thirds of girls in low-income countries complete primary school, and only one in three girls completes lower secondary school. on average, women who have a secondary education are more likely to work and they earn almost twice as much as those with no education.',\n",
       "  'msf teams adapted to the spread of the novel coronavirus in the more than 70 countries where we had existing medical projects. over the past three years, we ...',\n",
       "  'snopes - we invite readers to follow along as we document our entire research process. on june 19, 2023, a twitter user posted a strange image of three ...',\n",
       "  \"iran with 27 unesco world heritage sites is one of the 10 countries with the most cultural heritage sites in the unesco's world heritage list.\",\n",
       "  'no bill shall become a law unless on its final passage the vote be taken by ... no act, law, or bill subject to referendum shall take effect until ninety ...',\n",
       "  'in a public hearing you often have only one to three minutes; as an expert witness invited to a formal committee or commission hearing, you often have no ...1 page',\n",
       "  'world population review. \"ranking of the most dangerous countries in the world in 2023, by murder rate (per 100,000 inhabitants).\" statista , statista inc., 5 may 2022, https://www.statista.com/statistics/262963/ranking-the-20-countries-with-the-most-murders-per-100-000-inhabitants/ world population review. \"ranking of the most dangerous countries in the world in 2023, by murder rate (per 100,000 inhabitants).\" chart. may 5, 2022. statista. accessed october 31, 2023. https://www.statista.com/statistics/262963/ranking-the-20-countries-with-the-most-murders-per-100-000-inhabitants/ ranking of the most dangerous countries in the world in 2023, by murder rate (per 100,000 inhabitants) [graph], world population review, may 5, 2022. [online]. available: https://www.statista.com/statistics/262963/ranking-the-20-countries-with-the-most-murders-per-100-000-inhabitants/',\n",
       "  'oct 28, 2022  one is listed as endangered under federal law, and three are recognized as endangered or critically endangered by the international union ...',\n",
       "  'while you should never accept rides from strangers no matter what they happen to be driving and illegal and suspicious behavior should be reported to ...',\n",
       "  'in the middle east-north africa region, medians of more than half favor religiously motivated violence. in only three of the 15 countries',\n",
       "  'the following list of countries by age structure sorts the countries of the world according to the age distribution of their population.',\n",
       "  '18 set 2021  planters put up the nutmobile as an ultra-exclusive vacation rental that will only be available to the guest who booked it first for $3.59, ...',\n",
       "  'saudi arabia used to be the only country in the world that banned women from driving. this ban was one of the things that the kingdom of saudi arabia (ksa) was ...',\n",
       "  '30 dc. 2022  the documents confirmed that mr trump paid no federal taxes in 2020 and only $750 (622) in 2016 and 2017. he paid close to $1m in 2018, however ...',\n",
       "  'dec 30, 2022  the documents confirmed that mr trump paid no federal taxes in 2020 and only $750 (622) in 2016 and 2017. he paid close to $1m in 2018, however ...',\n",
       "  'that means it takes latina workers almost an entire extra year of full-time, year-round work to be paid the average annual earnings of white men. that ...',\n",
       "  '2021-08-04  the entire project ram temple complex could be complete by 2025.thursday marks one year of the bhoomi pujan of the temple by prime minister ...',\n",
       "  'high-income countries are expected to increase theirs by only 0.8 percent to achieve the same vaccination rate in one year. covax provides a global risk sharing ...',\n",
       "  'mar 22, 2023  companies must legally provide a certain number of paid vacation days to all full-time employees: the number varies depending on employment law ...',\n",
       "  '22 mar 2023  companies must legally provide a certain number of paid vacation days to all full-time employees: the number varies depending on employment law ...']}"
      ]
     },
     "execution_count": 4,
     "metadata": {},
     "output_type": "execute_result"
    }
   ],
   "execution_count": 4
  },
  {
   "metadata": {
    "ExecuteTime": {
     "end_time": "2024-05-13T23:19:42.703220Z",
     "start_time": "2024-05-13T23:19:42.689303Z"
    }
   },
   "cell_type": "code",
   "source": "val_data[-1]",
   "id": "800e1ebb3c2cba44",
   "outputs": [
    {
     "data": {
      "text/plain": [
       "{'crawled_date': '2022-10-07T00:00:06',\n",
       " 'country_of_origin': 'usa',\n",
       " 'label': 'False',\n",
       " 'url': 'https://www.snopes.com/fact-check/never-forget-january-6th/',\n",
       " 'lang': 'en',\n",
       " 'claim': 'Social media posts with pictures of gas prices and captions urging people to “Never forget January 6th” accurately documented the cost of fuel on the day of the 2021 U.S. Capitol riot.',\n",
       " 'doc': 'The gas prices pictured in two different shared pictures did not reflect the national average price for regular unleaded gasoline on Jan. 6, 2021. Further, reverse image searches found that both photographs were taken while former U.S. President Barack Obama was in his second term in the White House. On June 12, 2022, the Cullman Daily Facebook page, which is managed by a self-described “conservative and Christian news organization,” posted a picture of an Exxon gas station sign showing the price for regular unleaded fuel at $1.73 per gallon, with the caption, “We will never forget January 6th, 2021.” At the time that post was published, U.S. gas prices had just reached a record high of $5 a gallon. The “Never forget January 6th” Facebook post was created when a U.S. House panel was conducting televised hearings to lay out evidence about events leading up to the day of the U.S. Capitol riot. On that day, Jan. 6, 2021, 140 law enforcement officers were injured as a result of the actions of a mob of supporters of then-U.S. President Donald Trump, who lost the 2020 U.S. presidential election. According to CNBC,Capitol Police OfficerBrian Sicknickdied the day after the riot, and at least four other officers later died by suicide. As for the accuracy of the “Never forget January 6th” Facebook post, in reality, the national average price of regular unleaded gasoline on Jan. 6, 2021, was between $2.25 and $2.31, not $1.73, according to the U.S. Energy Information Administration (EIA). Further, the photograph in the post was captured in Woodbridge, Virginia on Jan. 5, 2016, five years before the violence at the Capitol. At the time, former U.S. President Barack Obama was serving his second elected term in the White House. Future U.S. President Joe Biden was Obama’s vice president for both terms. (EIA numbers showed that the national average price of regular unleaded gasoline in early January 2016 was around $2.02 per gallon.) We also found that a second picture of gas prices was used to promote a “Never forget January 6th” message, again in reference to the Jan. 6 Capitol riot. The photograph in these posts was shared on Facebook and Twitter in June 2022: Never forget January 6th, 2021 pic.twitter.com/8J9Zmz6jcN However, again, this picture was somewhat misleading, both because of the prices displayed on the sign and the origins of the photograph. The picture was captured at a Citgo gas station in January 2015, also when Obama was president and Biden was vice president. (In January 2015, the national average for regular unleaded gasoline ranged between $2.04 and $2.21 per gallon.) In early 2020, when Trump still occupied the White House, gas prices fell due to a dramatic decrease in demand for gasoline following the onset of the COVID-19 pandemic. Basically, fewer drivers on the road meant less gasoline purchased, which drove down costs. More than two years later, when U.S. President Joe Biden was in his second year in the White House, gas prices reached the aforementioned record high national average of $5 per gallon. The Associated Press reported that a variety of non-political factors were believed to have contributed to higher gas prices not just in the U.S., but around the world: Global oil prices have been rising — unevenly, but sharply overall — since December. The price of international crude has roughly doubled in that time, with the U.S. benchmark rising nearly as much … Russia’s invasion of Ukraine and the resulting sanctions by the United States and its allies have contributed to the rise. Russia is a leading oil producer. The United States is the world’s largest oil producer, but U.S. capacity to turn oil into gasoline is down 900,000 barrels of oil per day since the end of 2019, according to the Energy Department. Tighter oil and gasoline supplies are hitting as energy consumption rises because of the economic recovery. The reporting also mentioned that the record high was likely reached in part due to demand for gasoline for all of the travelers who hit the road around the Memorial Day holiday. In sum, two pictures were making the rounds on social media with captions that read, “Never Forget January 6th.” Neither photograph accurately represented the national average gas price on Jan. 6, 2021, the day of the Capitol riot. In fact, both pictures were captured years before, while Obama was president and Biden was vice president. Note: As of June 2022,more than 800 peoplehad been arrested for their alleged participation in the violent Jan. 6 Capitol riot. Sources: Bussewitz, Cathy. “Q&A: Oil Prices Hit New Lows as Economic Pain Deepens.”AP News, 20 Apr. 2021, https://apnews.com/article/financial-markets-us-news-ap-top-news-ca-state-wire-virus-outbreak-3f322ec91ad35b51312156d80c3902ed. FOX 13 News Staff. “Capitol Riots: Complete List of Tampa Bay Area Arrests in Jan. 6 Attack.” FOX 13 News, 9 June 2022, https://www.fox13news.com/news/capitol-riot-tampa-bay-arrests. Jackman, Tom. “Police Union Says 140 Officers Injured in Capitol Riot.” Washington Post, 27 Jan. 2021, https://www.washingtonpost.com/local/public-safety/police-union-says-140-officers-injured-in-capitol-riot/2021/01/27/60743642-60e2-11eb-9430-e7c77b5b0297_story.html. Koenig, David. “Several Factors Are Converging to Push Gas Prices Higher.” AP News, 11 June 2022, https://apnews.com/article/why-are-gas-prices-rising-541819ca1aa4d3dc0a0206271f9f8589. Mangan, Dan, and Kevin Breuninger. “Two More Police Officers Die by Suicide after Defending Capitol during Riot by Pro-Trump Mob, Tally Now 4.” CNBC, 2 Aug. 2021, https://www.cnbc.com/2021/08/02/3rd-police-officer-gunther-hashida-kills-himself-after-capitol-riot-by-trump-mob.html. Mozart, Mike. Low Cheap Gas Price Citgo Station, $1.99. 22 Jan. 2015. Flickr, https://www.flickr.com/photos/jeepersmedia/16341361541/. Palma, Bethania. “Did US Capitol Police Officer Brian Sicknick Die After Hit With a Fire Extinguisher?” Snopes.com, 16 Feb. 2021, https://www.snopes.com/fact-check/brian-sicknick-fire-extinguisher/. SAUL LOEB/AFP via Getty Images. “Gas Prices Are Displayed at an Exxon Gas Station in Woodbridge,…” Getty Images, https://www.gettyimages.com/detail/news-photo/gas-prices-are-displayed-at-an-exxon-gas-station-in-news-photo/503469534. Weekly U.S. Regular All Formulations Retail Gasoline Prices. U.S. Energy Information Administration, https://www.eia.gov/.',\n",
       " 'taxonomy_label': 'interval',\n",
       " 'label_original': 'False',\n",
       " 'top_n': ['2022-06-17  ... cost of fuel on the day of the 2021 u.s. capitol riot. conte. ... average price for regular unleaded gasoline on jan. 6, 2021. further, reverse ...',\n",
       "  'click on your local gas station on the fuel prices map to check out reviews and other information about each location. the average cost of us gas prices might',\n",
       "  'we try to make sure people have the cheapest price of fuel on the water $500 speedway fuel cards for $1.95 is a scam  yes, u.s. gas prices',\n",
       "  \"6 oct. 2021  if you're using social media pictures as evidence, you'll need to verify the date they were taken. learn how to accurately date social media ...\",\n",
       "  \"6 ott 2021  if you're using social media pictures as evidence, you'll need to verify the date they were taken. learn how to accurately date social media ...\",\n",
       "  '18 nov 2019  are social media posts with pictures more popular than those without? why do pictures with certain characteristics induce higher engagement ...',\n",
       "  \"with the price of gas now, a lot of times we'll just go out and float $500 speedway fuel cards for $1.95 is a scam  yes, u.s. gas prices\",\n",
       "  '2023-01-08  seeing pictures of \"the brazilian qanon shaman\" being shared as ... brazil with the jan 6 capitol riot. these pictures are from a rally ...',\n",
       "  'however, a study has shown that the type of gas purchased changes depending on pricing. the economist studied how consumers make gasoline purchases when prices rise. when gas prices increased, people behaved as if they were considerably poorer, buying less expensive gasoline. this article will outline how the market reacts to fuel pricing changes and how you can optimize your fuel pricing decisions.',\n",
       "  'sep 12, 2023  monitor your local gas prices  optimize gas cards and fuel rewards programs  pay for gas with cash  keep your tires inflated to the proper ...',\n",
       "  \"jun 10, 2022  the owner of an amherst, mass. gas station has had his fill of high fuel prices and says he's hitting the brakes on sales.\",\n",
       "  'mar 4, 2021  1. video posts on social media get 48% more views (the marketing helpline)  2. 73% of people want to see entertaining videos on social media ( ...',\n",
       "  '4 lug 2022  posts circulate across social media platforms too, with a tweet, for ... in several instances nude pictures of female politicians have been shared ...',\n",
       "  'the average cost of fuel in august 2022 was $4.09 per gallon. one tank of gas for a typical gasoline-powered car would cost $58 and last',\n",
       "  '28 aot 2023  gas prices change based on the cost of crude oil, refining, distribution and marketing, and federal, state, and local taxes.',\n",
       "  '31, 2023, to reflect the most recent average fuel prices in the united states. how much does a gallon of gas cost? the average regular gas price in the u.s. as ...',\n",
       "  'jul 3, 2021  pushed to the corner once again on rising fuel prices, the bjp government contended that the increase in fuel prices was a result of the ...',\n",
       "  '2023-10-11  according to rac fuel watch, figures show that retailers are today ... how do regional fuel prices compare? cost of petrol and diesel in ...',\n",
       "  'senator kirkpatrick received a complaint from. complainant who provided pictures of social media posts reportedly posted by. ruby freeman, an elections worker ...',\n",
       "  'distribution of regular gasoline fuel prices in the united states from 2020 to 2022, by cost component [graph], eia, october 11, 2022. [online]. available: https://www.statista.com/statistics/616129/breakdown-of-the-united-states-gasoline-price-by-expense/ eia. (2022). distribution of regular gasoline fuel prices in the united states from 2020 to 2022, by cost component . statista . statista inc.. accessed: october 23, 2023. https://www.statista.com/statistics/616129/breakdown-of-the-united-states-gasoline-price-by-expense/ eia. (october 11, 2022). distribution of regular gasoline fuel prices in the united states from 2020 to 2022, by cost component [graph]. in statista . retrieved october 23, 2023, from https://www.statista.com/statistics/616129/breakdown-of-the-united-states-gasoline-price-by-expense/',\n",
       "  '9 dc. 2021  and gas prices can and do swing sharply and unpredictably, in ways that can seem unconnected to the rest of the economy. regular gas costs, on ...',\n",
       "  'west virginia gas prices (selected cities)  gasbuddy.com. national and regional fuel prices. gasoline and diesel fuel update  energy information ...',\n",
       "  '20 ago 2021  5, the day before the riot. advertisement  scroll to continue. fbi investigators did find that cells of protesters, including ...',\n",
       "  'throughout much of 2023, gas prices have been on the rise. gas prices have been going up largely due to increased oil prices.',\n",
       "  '23 fvr. 2023  many people are still sharing pictures and videos on social media related to the earthquakes in turkey and syria. a picture of an imam ...',\n",
       "  \"17 mar 2022  experts say the higher prices are due to a unique combination of emission regulations, higher gas taxes and the golden state's status as a fuel ...\",\n",
       "  'four broad factors can impact retail fuel prices: the main components of retail gasoline prices are the cost of crude oil, taxes, refining costs, and distribution and marketing costs. (www.eia.gov) wholesale gas price changes: competing retailers may have different wholesale prices based on the terms of their fuel purchase (as noted above) and when they purchased their fuel, especially during times of extreme price volatility. gasoline is a commodity, and its wholesale price can have wild swings. its not unusual to see wholesale price swings of 10 cents or more during the day.',\n",
       "  'with the current national average price of $3.38 a gallon for regular gasoline, several models from crs tests cost almost $100 to fill their tanks from empty. these vehicles all have a large tank capable of holding 28 to 32 gallons, and their fuel economy, based on crs tests, spans from 16 to 17 mpg overall. even with gas prices coming down, drivers of these full-sized models are still feeling the pinch.',\n",
       "  'what are gas prices in bucks county? the philadelphia 5-county metropolitan area gas price average, which according to aaa sat at $3.85 on friday, was still 66 cents lower than the year prior, when a gallon of gas in the area cost you $4.51 on average.',\n",
       "  \"bolivia university deaths students pictures please don't forget to like comments share and subscribe to our channel the ancient times news.\",\n",
       "  'cheapest petrol prices in tenerife 1.158 - find and compare the cheapest tenerife fuel prices near you. save money on fuel today. current fuel prices in tenerife, cheapest petrol prices in tenerife today, diesel price in tenerife per litre.',\n",
       "  '8 days ago  throughout much of 2023, gas prices have been on the rise. gas prices have been going up largely due to increased oil prices.',\n",
       "  '16 ott 2021  rise in the prices of petroleum fuels and cooking gas has a huge ... the hike has not been withdrawn in 2021, and the crude prices are on the rise ...',\n",
       "  'jan 22, 2021  fury erupted after pictures went viral on social media showing thousands of troops sleeping on the floor of a garage or up against a pillar.',\n",
       "  'these charts represent the wholesale prices that suppliers typically face when buying gas or electricity to supply their customers. the cost of suppliers ...',\n",
       "  \"9 dic 2021  when inflation is factored in, today's prices appear more modest. in today's dollars, gas cost an average of $5.20 a gallon in june 2008, and ...\",\n",
       "  'social media posts claiming the usda predicted egg prices will be $12 a dozen by fall 2022 are false.',\n",
       "  'title 13 of the alaska administrative code, chapters 50 through 55, was adopted and amended to the 2021 international building, fire, fuel gas and ...',\n",
       "  '26 mag 2022  the cost of gas used to fuel barbecues, boats and cars is up a whopping 43.6% compared to a year ago. as of monday, the national average for a ...',\n",
       "  '2022-10-06  sen. tom cotton (r-ar) reminded voters thursday about the gasoline price on jan. 6, 2021, the day of the capitol riot.',\n",
       "  'how often do brands post a day on facebook? brands post an average of 2.37 posts per day (hootsuite/we are social). how many people use',\n",
       "  \"2023-01-08  ... unfolding in brazil with the jan 6 capitol riot. these pictures are from a rally by bolsonaro's supporters in september 2021, not today.\",\n",
       "  '1 giu 2021  false. a slew of articles and social media posts say atf chief nominee david chipman was part of the 1993 federal assault on the branch ...',\n",
       "  \"that volatility has hit consumers hard, raising gas prices and straining budgets ...  raising fuel economy standards: taken together, the obama administration's.\",\n",
       "  'the number of times that people engaged with your posts through reactions, comments, shares, and clicks. the sum of reactions, comments, and shares received on the posts published in the selected time period.',\n",
       "  '29 janv. 2020  coronavirus a message urging people to avoid ice creams and cold drinks for the next 90 days to prevent coronavirus is viral on social media ...',\n",
       "  \"16 mars 2021  the term gas tax refers to an excise tax on motor and diesel fuel that funds roughly 80 percent of the highway trust fund's revenues, which ...\",\n",
       "  'fuels subject to use fuel tax: the following types of fuel are subject to use fuel tax: liquefied petroleum gas (lpg, propane, butane); liquid and compressed ...',\n",
       "  'the fuel cost of driving an electric vehicle depends on the cost of electricity per kilowatt-hour (kwh) and the energy efficiency of the vehicle. for...',\n",
       "  'the nationwide average sits at $3.56 per gallon, ... stacker compiled statistics on gas prices in north carolina. gas prices are as of october 20. north carolina by the numbers  gas current ...',\n",
       "  'elon musk announced new limits on the number of posts twitter users will be able to read each day in an effort to fight what he calls extreme levels of data scraping and system manipulation. the announcement from the billionaire owner of twitter comes just a day after the social media platform decided to make it impossible for anyone without a twitter account to read tweets. many twitter users were not happy with musks announcement about limiting the number of tweets any given user can read in a day. musk explained that verified twitter users would be limited to reading 6,000 posts per day, regular users would be limited to reading 600 posts per day and newly created accounts would be limited to reading 300 posts per day.',\n",
       "  'all prices collected in mid-2022: gas prices  hotel  lost wages  child care  abortion cost. avery. the heavy cost of abortion bans | avery | planned ...',\n",
       "  'in february 2023, residential gas prices based on pps varied from 4.3 per 100 kwh to 25.2 per 100 kwh in the eu. the eu average was 14.1 pps. germany and italy were among the top four countries in terms of highest gas prices in pps, similarly to the current prices. measured in c/kwh, residential natural gas prices including taxes were lower than electricity prices in the eu. gas prices varied from 2.5 c/kwh in hungary to 30.1 c/kwh in sweden. while electricity prices were lower than the eu average in france and spain, gas prices were higher than the eu average at current prices.',\n",
       "  'may 29, 2018  with gas prices on the rise, learning to save money at the gas station is one thing savvy drivers can do to help take some of the sting out ...',\n",
       "  'jun 23, 2021  one of the main reasons behind the rise in fuel prices in india is that we have to import 80% of the oil we consume,\" pradhan said on wednesday.',\n",
       "  'oct 21, 2021  for now, evs cost more to power than gasoline costs to fuel an internal combustion car that gets reasonable gas mileage. charging costs vary ...',\n",
       "  'the fuel cost of driving an electric vehicle depends on the cost of electricity per kilowatt-hour (kwh) and the energy efficiency of the vehicle. for example,...',\n",
       "  'despite some media reports, energy experts indicate the united states isnt going to run out of diesel fuel and heating oil, although prices will be high. the diesel fuel situation is complicated. news of a shortage prompted criticism that exports continued while the united states was running out of a critical fuel.',\n",
       "  'for example, the average cost of diesel fuel per gallon in 2020 was $2.551. in 2022, the cost of diesel rose by 95% to $4.989 a gallon, ultimately reaching a record high of $5.816 by the summer. additionally, fertilizer prices increased 125% from january 2021 to january 2022 and continued to break records throughout 2022, which largely affected farm profitability, food prices, and the costs of consumer products.',\n",
       "  'expressed in euro, average household gas prices in the second half of 2022 were lowest in hungary (3.5 per 100 kwh), croatia (4.5) and slovakia (4.9) and highest in sweden (27.5), denmark (20.8) and the netherlands (19.3). the price of natural gas for households in sweden was 157 % higher than the eu average price. however, natural gas use in sweden is very limited. between the second half of 2021 and the second half of 2022, gas prices increased in all 27 eu countries. gas prices (in national currencies) surged the most in czechia (+231%), romania (+165%), latvia (+157%), lithuania (+112%) and belgium (+102%). there were only two increases below 20%: croatia (+14%) and slovakia (18%). all price increases are from the energy and supply component, mainly driven by the recent energy crisis. in the second half of 2022, average household electricity prices in the eu continued to show a sharp increase compared with the same period in 2021, from 23.5 per 100 kwh to 28.4 per 100 kwh. average gas prices also increased compared with the same period in 2021 from 7.8 per 100 kwh to 11.4 per 100 kwh in the second half of 2022. these prices are the highest on eurostats record.',\n",
       "  'this group intends to connect free meals with recipients. we take no ... strictly no screen shots or sharing of posts and pictures - we must respect ...',\n",
       "  'below is a table describing the petrol price per liter in each eu country: below is a map of fuel prices in europe from 5 years back (2017): gas prices in europe (eu, october 2023)  interactive map:',\n",
       "  '... people are sharing with their friends. producing posts of this ... learn what types of posts have the most engagement, weighing shared posts the most heavily.',\n",
       "  'may 19, 2021  a social media post going around claims to show a 1963 newspaper article accurately predicting people would be able to carry a phone in ...',\n",
       "  'cation of an increase in consumer demand for fuel economy. the gasoline prices and driving behavior. the effects of rising gasoline prices can',\n",
       "  'current fuel prices. here are the current prices of fuel in south africa ... use the current fuel price to calculate you fuel usage for your vehicle fleet; use ...',\n",
       "  'but when you look at the long-term trends, there are going to be more ups in gas prices than downs in gas prices. since the day i took office.',\n",
       "  '... we\\'re already spending 7 million a day to put economic chancers up in hotels.\" many of the posts sharing his claim across social media will also have ...',\n",
       "  'so, as we celebrate daughters day in india, we shouldnt forget to celebrate the spirit of these 10 daughters of india who made our hearts puffed up with pride:',\n",
       "  '2018-07-10  some widespread social media posts claim that the tata evision electric car requires no fuel and can run for 1000 kms in a single charge and ...',\n",
       "  'jan 12, 2021  update: on tuesday night, the house approved a resolution urging pence to invoke the 25th amendment with a vote of 223-205, ...',\n",
       "  'average fuel prices on 18 october 2023. show prices in. country gasoline 95 (l) diesel (l) lpg (l) price 1 day 7 days 30 days price 1 day 7 days 30 days price 1 day 7 days 30 days; austria: 1,702  -0,023-0,043-0,087: 1,824 ...',\n",
       "  'your trip begins at tenerife north airport in san cristobal de la laguna, spain. our data is primarily for u.s. gas prices, but rough estimates show that fuel prices in spain are around 1.8 times u.s. prices, so we estimated an average gas price of $6.94 in spain. l/100 km fuel price: (us dollars/gallon) your trip ends in santa cruz de tenerife, spain. our data is primarily for u.s. gas prices, but rough estimates show that fuel prices in spain are around 1.8 times u.s. prices, so we estimated an average gas price of $6.94 in spain.',\n",
       "  \"aug 26, 2020  i am active only on one social media , instagram. i am an introvert person, rarely upload stories. i have 0 posts (cause i don't click pictures often , and even ...\",\n",
       "  \"may 11, 2021  in virginia, 7.7% of the state's nearly 3,900 gas stations reported running out of fuel tuesday, according to gasbuddy.com, which tracks supply.\",\n",
       "  'recently a social media post has been circulating urging people to eat alkaline food with ph level that is higher than sars-cov-2, including lemon, lime, avocado and garlic, among others.',\n",
       "  \"2020-04-15  and the people stayed home. this is the opening line of an untitled poem that's gone wildly viral. social media posts shared now 10s of ...\",\n",
       "  'the fuel contains up to 15% ethanol and gas stations promote it as an affordable option in a time of soaring gas prices.',\n",
       "  'most miss universe experts will tell you that the real pageant is the preliminary competition, where all the girls compete in swimsuits and evening gowns. coming out of the preliminaries are the 12 finalists. the 13th finalist is chosen by online voting. belize, with a population of only 350,000 did not have a chance, but that did not keep the people back home from showing their support. facebook posts in belize were dominated by people voting every day and often, and urging others to do so also.',\n",
       "  'national average: the current national average cost for gas is $3.61 (oct. 19, 2023)(1) previous week average: previous weeks average cost for gas was $3.68 (oct. 12, 2023)(1) annual average: the annual average cost for gas in 2023 is $3.60(1) most expensive week to buy gas in 2023: sep. 14, 2023 saw the highest gas prices in 2023 at $3.90(1) cheapest week to buy gas in 2023: jan. 12, 2023 saw the lowest gas prices in 2023 at $3.28(1) most expensive state to buy gas in 2023: the highest average gas price in 2023 was $6.03 in california (sep. 28, 2023)(1) cheapest state to buy gas in 2023: the lowest average gas price in 2023 was $2.83 in georgia (jan. 05, 2023)(1) most expensive weekly national average since 2018: the highest weekly gas price was $4.99 per gallon the week of jun. 16th, 2022(2) cheapest weekly national average since 2018: the lowest weekly gas price was $1.84 per gallon on apr. 16, 2020(2) most expensive weekly state gas price since 2018: california at $6.43 per gallon on june 16th, 2022(2) cheapest weekly state gas price since 2018: wisconsin at $1.29 per gallon on (apr. 16, 2020)(2) are gas prices going up or down? the national average gas price this week is $3.61, down from $3.68. us gas prices over the last year are among the highest since 2018. over the past six years, the price of gas has averaged $3.00 per gallon  or $0.61 a gallon less expensive than today.',\n",
       "  \"oct 1, 2021  several posts on social media claimed that yohani de silva, of 'manike mage hithe' fame, has been appointed the cultural ambassador between ...\",\n",
       "  '14 janv. 2014  the fuel price report contains a bi-annual collection of fuel prices quoted in 100 communities during the months of january and june.',\n",
       "  'today, far fewer consider gas prices as a top pressure than did so seven years ago: in april 2011, when gas prices were far higher than they have been in recent years, fully 69% of americans said gas prices affected their situation a lot  the highest of the six factors included in the survey. today, the cost of health care  asked for the first time in this survey  ranks higher than most other pressures.',\n",
       "  '27 giu 2023  starting july 1, the gas tax will go up from 28 cents to 29.8 cents. find the lowest gas prices. below is the breakdown of the fuel rates: fuel ...',\n",
       "  '22 giu 2021  prices in the express toll lanes would vary based on the amount of traffic and time of day but could range anywhere from $0.50 to $1.75 per trip ...',\n",
       "  'other types of fuel are taxed as well, including diesel, ethanol, aviation fuel ... gas taxes thus accounted, on average, for about 15% of the average retail ...',\n",
       "  '1 nov. 2022  in 1973 gas prices were 39c/gallon. by the time 1980 came gas prices flared up to over 1.00/gallon. average gas prices in the u.s. through history [updated].',\n",
       "  '26 sept. 2023  interest rates have gone up, as have the prices of rent, fuel and heating oil. the price of everything people are buying is going up and up.',\n",
       "  'for gasoline costs, we used the national average price of gas in september 2022: $3.70 per gallon for regular, which both the kona and the f-150 take. as you likely know, gas prices are quite volatile these days, with inflation, the russian invasion, and other factors both raising the price and making future prices hard to predict. nevertheless, the price of gas has trended downwards recently and may continue in that direction, though its unlikely we see pre-pandemic prices anytime soon. still, for the sake of math, lets assume it stays at octobers price for the foreseeable future. here is the cost to drive the gasoline-powered kona and f-150 for 45,000 miles.',\n",
       "  '2022-04-13  a look at the average price of a gallon of gas for every year between 1978 and 2021 to show how much prices have grown over the years.',\n",
       "  '2020-10-22  when quaden bayles found himself at the centre of a social media storm, many seemed to forget he was a young boy with dwarfism, just looking ...',\n",
       "  'current fuel prices in tenerife. cheapest petrol and diesel prices in tenerife today. petrol prices in tenerife are one of the most economical in spain. prices...',\n",
       "  \"7 oct. 2021  washington, d.c. -- americans' trust in the media to report the news fully, accurately and fairly has edged down four percentage points ...\",\n",
       "  '18 ago 2022  from january to june 2022, the price of regular motor gasoline rose 49% and the price of diesel fuel rose slightly more at 55%. fuel prices ...',\n",
       "  '... current way to determine sale prices (e.g. euros/litre diesel, euros ... fuel prices per conventional unit are the average prices of these fuels for the previous ...',\n",
       "  '9 sept. 2021  as the oil and gas industry shows signs of recovery, oil prices also staged a significant recovery last year on both demand and supply sides ...36 pages',\n",
       "  '2020-09-17  social media platforms including twitter and facebook are buzzing with posts claiming that a muslim regiment of the indian army refused to ...',\n",
       "  'on june 19, 2008, then-senator obama said he would have preferred a gradual adjustment of gas prices. on january 19, 2009, the day before president obama was inaugurated, americans paid $1.85 per gallon of regular gasoline. today, families and small businesses pay $3.59 per gallon of regular gasoline. according to the presidents plan, gas prices have undergone a gradual adjustment since he took office. there has been a 94 percent increase in the price of gasoline over the first three years of the obama presidency. in the name of clean energy, president obamas policies systematically inflate u.s. gas prices and lighten american wallets and pocketbooks:',\n",
       "  'how are fuel prices affecting companies? the surge in gasoline prices is impossible to miss and at the top of consumers\\' minds as billboards announce that gas now costs $4, or $5, or even above $6 a gallon in some places. with prices at record highs, americans are feeling the impact at the pump immediately. but higher fuel prices are a headwind for the wider economy too, beyond just consumers having less spending money. the rising cost of fuel, especially diesel, means that anything transported on a truck, train or ship is affected. energy costs are a major contributor to the decades-high inflation numbers showing up, as prices for all manner of goods and services march higher. \"energy, in a way, is the tail wagging the dog here,\" bob mcnally, president at rapidan energy group, said wednesday on cnbc\\'s \"power lunch.\" \"diesel is really the economic fuel. it\\'s the lifeblood of the economy, transportation, power in some cases ... so it really is embedded in economic activity and it\\'s filtered through so many goods and services.\" demand destruction, or the level at which high prices influence consumer behavior, from surging fuel costs might not have set in yet on a wide scale, but the impacts are filtering throughout the economy. higher prices at the pump mean not only less spending money in consumers\\' pockets but also expanding costs for companies, some or all of which will later be passed along to consumers. target is one of the companies grappling with higher costs. shares of the store chain cratered 25% on wednesday  the single worst day since 1987  following target\\'s earnings results, during which it warned about inflationary pressures. \"we did not anticipate the rapid shifts we\\'ve seen over the last 60 days. we did not anticipate that transportation and freight costs would soar the way they have as fuel prices have risen to all-time highs,\" target ceo brian cornell said wednesday on the company\\'s quarterly earnings call. he told cnbc that higher fuel and diesel costs will be a roughly $1 billion incremental cost during the fiscal year and a \"significant increase that [target] didn\\'t anticipate.\"',\n",
       "  '18 janv. 2021  ... capitol for possible \"reconnaissance\" the day before the insurrection. ... \" that message came hours before the riot. boebert denounced the ...']}"
      ]
     },
     "execution_count": 5,
     "metadata": {},
     "output_type": "execute_result"
    }
   ],
   "execution_count": 5
  },
  {
   "metadata": {
    "ExecuteTime": {
     "end_time": "2024-05-13T23:19:42.868391Z",
     "start_time": "2024-05-13T23:19:42.703568Z"
    }
   },
   "cell_type": "code",
   "source": [
    "from sklearn.preprocessing import LabelEncoder\n",
    "LE = LabelEncoder()\n",
    "k = 100"
   ],
   "id": "c21d011b4e6490bc",
   "outputs": [],
   "execution_count": 6
  },
  {
   "metadata": {
    "ExecuteTime": {
     "end_time": "2024-05-13T23:19:42.870851Z",
     "start_time": "2024-05-13T23:19:42.868875Z"
    }
   },
   "cell_type": "code",
   "source": [
    "def get_features(data):\n",
    "    features = []\n",
    "    evidences = []\n",
    "    \n",
    "    for index, fact in enumerate(data):\n",
    "        claim = fact[\"claim\"]\n",
    "        evidences = fact['top_n'][:k]\n",
    "        evidences = ''.join(f'[Evidence]:{e}' for e in evidences)\n",
    "        \n",
    "        feature = \"[Claim]:\" + claim + evidences\n",
    "        features.append(feature)\n",
    "    return features"
   ],
   "id": "22bfddf90b0e7d4a",
   "outputs": [],
   "execution_count": 7
  },
  {
   "metadata": {
    "ExecuteTime": {
     "end_time": "2024-05-13T23:19:43.053863Z",
     "start_time": "2024-05-13T23:19:42.871576Z"
    }
   },
   "cell_type": "code",
   "source": [
    "train_features = get_features(train_data)\n",
    "val_features = get_features(val_data)\n",
    "len(train_features), len(val_features)"
   ],
   "id": "2a074de52927cb7b",
   "outputs": [
    {
     "data": {
      "text/plain": [
       "(9935, 3084)"
      ]
     },
     "execution_count": 8,
     "metadata": {},
     "output_type": "execute_result"
    }
   ],
   "execution_count": 8
  },
  {
   "metadata": {
    "ExecuteTime": {
     "end_time": "2024-05-13T23:19:43.056458Z",
     "start_time": "2024-05-13T23:19:43.054404Z"
    }
   },
   "cell_type": "code",
   "source": "train_features[-1]",
   "id": "93357db3f0286902",
   "outputs": [
    {
     "data": {
      "text/plain": [
       "'[Claim]:\"There\\'s only three countries in the entire world wherethere\\'s no paid vacation by law, we happen to be one of them.\"[Evidence]:18 ago 2023  ... days of paid vacation in all eu countries. several countries offer even ... while swedes are guaranteed 25 paid vacation days by law, her ...[Evidence]:jun 22, 2023  if the plan becomes law, the united states will no longer be one of six countries in the world  and the only rich country  without any form ...[Evidence]:22 juin 2023  if the plan becomes law, the united states will no longer be one of six countries in the world  and the only rich country  without any form of ...[Evidence]:de r ray  2013  cit 105 fois  vacation and holiday laws. figure 1 summarizes the legal right to paid vacation for 21 of the richest countries in the world (see also table 1).24 pages[Evidence]:24 dc. 2019  for the next three decades, the two weeks of paid vacation time ... without any benefits, sought to pass a paid vacation law in the state.[Evidence]:figure 1 summarizes the legal right to paid vacation for 21 of the richest countries in the world (see also table 1). figure 1 also shows the total number of ...12 pages[Evidence]:5 dc. 2022  countries were then ranked based on a combination of required days of paid leave, as well as paid public holidays. only one country in the world ...[Evidence]:geneva  more than 120 countries around the world provide paid maternity leave and health benefits by law, including most industrialized nations except ...[Evidence]:yes, there are a few countries that have no paid vacation law. these countries include: * united states * micronesia * nauru * palau * kiribati * mexico ...[Evidence]:some employers offer no vacation at all. the average number of paid vacation days offered by private employers is 10 days after 1 year of service, 14 days ...[Evidence]:geneva (ilo news)  more than 120 countries around the world provide paid maternity leave and health benefits by law, including most industrialized nations ...[Evidence]:the amount of paid vacation days differs per european country. in ... in the united states, there is no legal requirement for employers to provide paid vacation.[Evidence]:jan 5, 2022  find out the legal paid vacation days entitlements in 15 countries worldwide. plus get an idea of the common practice when it comes to paid ...[Evidence]:the paid vacation column gives the minimum mandatory vacation days for an employee who has one year of service with the same employer. in some countries, the ...[Evidence]:2023-03-14  invests in paid family and medical leave, so we will no longer be the only major economy without national paid leave,\" biden said in a speech.[Evidence]:13 oct. 2022  under brazil labor law, employees are entitled to 30 paid vacation days each year after their first 12 months of work and accrue 30 days each 12 ...[Evidence]:4 dc. 2022  the 10 countries with the least paid vacationthe u.s. is no. 2  1. micronesia. continent: oceania total paid vacation days: 9  2. united states ...[Evidence]:if the employer paid the entire cost of the insurance coverage, then no part of the rebate would be attributable to participant contributions. however, if ...[Evidence]:1 mars 2022  the u.s. is the only oecd member countryand one of only six countries in the worldwithout a national paid parental leave policy. the u.s.[Evidence]:mar 1, 2022  the u.s. is the only oecd member countryand one of only six countries in the worldwithout a national paid parental leave policy. the u.s.[Evidence]:under the 1935 law, what we now think of as social security only paid retirement benefits to the primary worker. ... q5: is it true that members of congress do ...[Evidence]:apr 24, 2023  25 countries provide at least 28 days of paid vacation per year, according to a recent study. do you live or work in a country that guarantees ...[Evidence]:3 mars 2023  countries with the most and least paid vacation ; 3, yemen, 45, united states, 10 ; 4, andorra, 44, palau, 12.[Evidence]:the united states is not one of them. in fact, the u.s. is the only country classified by the world bank as high-income that does not have paid maternity leave.[Evidence]:a global economic powerhouse, the usa, stands out for its limited paid vacation policies. on average, american workers are entitled to only eight national ...[Evidence]:mar 18, 2019  no world region has reached gender parity in the share of legislative seats held by women. only three nations individually have reached or ...[Evidence]:apr 24, 2023  in some european countries like france, italy, and spain  where paid vacation is a legal right  it\\'s common for workers to take a full month ...[Evidence]:31 mag 2023  by law, all d.c. contracts worth more than $1 million have to be reviewed and approved by the d.c. council. that did not happen with 36 ...[Evidence]:the prophecies foretold by prophet muhammad were revealed to him by god but no one knows the time they will happen except god. the majority of the ...[Evidence]:education reform has been in a need in the philippines for generations. before k to 12, the philippines had been one of only three remaining countries in ...[Evidence]:13 aot 2013  a new report has found that the united states is the only advanced economy that does not require employers to provide paid vacation time.[Evidence]:22 oct. 2021  ... them? we\\'re one of the few industrial countries in the world that doesn\\'t have paid leave  so that when you stay home to help that person ...[Evidence]:president: donald trump. the second of the three shutdowns to happen during trump\\'s presidency only lasted several hours. it happened due to sen[Evidence]:15 mar 2022  to be clear on the law, there is no prohibition against dual nationals serving in congress. the only qualifications for serving in congress ...[Evidence]:the senators and representatives shall receive a compensation for their services, to be ascertained by law, and paid out of the treasury of the united states.[Evidence]:22 ago 2018  british people enjoy the highest number of paid vacation days. americans ... not so much. check out the average vacation time per country.[Evidence]:in law, corroboration refers to the requirement in some jurisdictions, such as in scots law, that any evidence adduced be backed up by at least one other source ...[Evidence]:the federal government offers generous vacation, sick leave and holiday policies. vacation federal employees start with 13 paid vacation days a year, and the ...[Evidence]:sep 7, 2023  under the new law, there will be only three tax brackets and the highest rate will be 3.75%. once fully phased in for 2024, there will be two ...[Evidence]:rejection letters should be short and polite. the entire letter should be no longer than one to two paragraphs. remember that the candidate has probably been ...[Evidence]:29 lug 2021  before the pandemic, developing countries paid a median price of $0.80 a dose for all non-covid vaccines, according to analysis by the world ...[Evidence]:29 lug 2021  before the pandemic, developing countries paid a median price of $0.80 a dose for all non-covid-19 vaccines, according to analysis by the world ...[Evidence]:a: yes. under the 1935 law, what we now think of as social security only paid retirement benefits to the primary worker. a 1939 change in the law added survivors benefits and benefits for the retiree\\'s spouse and children. in 1956 disability benefits were added.[Evidence]:6 avr. 2023  while american workers are not legally entitled to any paid holidays, in reality, most u.s. employers do offer some paid vacation time. the ...[Evidence]:the united states is one out of 193 countries in the united nations, and yet we pay 22 percent of the entire budget and more. in fact, we pay far more than anybody realizes. the united states bears an unfair cost burden, but, to be fair, if it could actually accomplish all of its stated goals, especially the goal of peace, this investment would easily be well worth it.[Evidence]:... vote at all - most likely he got the money on the other side , as they not only paid for votes , but paid persons not to vote . i lost one out of the three ...[Evidence]:22 juin 2023  the u.s. is one of six countries with no national paid leave. the democrats have cut their plan to four weeks, which would still make it an ...[Evidence]:uplifted by the titans of mount rushmore, we will find unity that no one expected; we will make strides that no one thought possible. this ...[Evidence]:// schools closedsalary paid except as provided by budgetary action. + winter vacation schools are closed from december 20, 2021 to december 31, 2021.[Evidence]:according to the great waves of change prophecy , there will be no three days of darkness. there will be no one defining moment or event that will announce a ...[Evidence]:when the pandemic hit the world in early 2020, the u.s. was the only one among 22 highly economically developed countries without guaranteed paid sick time, according to the center for economic and policy research. more than two years later, it still is. on sept. 22, the bureau of labor statistics released its annual paid leave benefits report that showed that 77% of private industry workers received paid sick leave in march 2022. that number has barely budged since the start of the pandemic, when 75% had paid sick leave.[Evidence]:as military forces around the world are constantly changing in size, no definitive list can ever be compiled. all of the 172 countries listed here, especially ...[Evidence]:for some, the decision to prosecute is easy; no one is above the law, including donald trump, and the decision to prosecute should be based solely on evidence.[Evidence]:according to attom data research, only \"34 percent of all american homeowners have 100 percent equity in their properties  they\\'ve either paid off their entire ...[Evidence]:2017-11-07  : \"in 2010, 48,000 felons & fugitives...illegally tried to purchase guns, [the obama administration] prosecuted only 44 of them.\" embedded ...[Evidence]:2015-04-22  under federal law, no one can be forced to join a union as a condition of employment, and the supreme court has made clear that workers ...[Evidence]:17 lug 2009  we were riled up. we would only repeat the allah o akbar we were invited to chant. no one felt like saying death to america or any of the other ...[Evidence]:it is not unusual for large u.s. corporations to pay no u.s. income taxes despite making billions of dollars in profits. in fact, one study of corporate securities filings found 55 of america\\'s largest companies paid no income taxes in 2020 despite generating hefty profits, while netting $3.5 billion in aggregate tax rebates. nearly half of those companies paid no u.s. income taxes for three successive years.[Evidence]:zaila avant-garde (usa) is featured as one of our young achievers in the guinness world records 2022 book. not only does she hold three record titles for ...[Evidence]:29 set 2023  if you employ staff in europe, it can be difficult to manage from overseas. in this blog, we explore the different vacation standards in the ...[Evidence]:this report spells out what the world would be like if it warmed by 4 degrees celsius, which is what scientists are nearly unanimously predicting will happen by ...[Evidence]:sixty-three percent of countries around the world provide guaranteed paid parental leave many others have been reported missing or injured.[Evidence]:we start with the poverty line defined by each country, which usually reflects the amount below which a persons minimum nutritional, clothing, and shelter needs cannot be met in that country. not surprisingly, richer countries tend to have higher poverty lines, while poorer countries have lower poverty lines. however, when we want to identify how many people in the world live in extreme poverty across countries, we cannot simply add up the national poverty rates of each country. this would be the equivalent of using a different yardstick in each country to identify who is poor. thats why we need a poverty line that measures poverty in all countries by the same standard.[Evidence]:three women will be raped or beaten in their lifetime: approximately one billion women and girls. many african countries were involved in the campaign[Evidence]:how much does the average vacation cost for one person? the average vacation cost for one person in the u.s. is about $1,919 per week. individual costs will vary based on the travelers mode of transportation and lodging.[Evidence]:how many people know coke\\'s \"secret formula\"? coke has a new ad that declares that only two people know cokes secret formula, and if something happened to one of them, the formula would be lost forever. it then goes on to talk, facetiously, about all the terrible things that would happen to the world if something bad happened to one of the two men and the formula was lost forever.[Evidence]:dec 24, 2019  workers have paid vacation days in turkmenistan, brazil, and the european union  but not here.[Evidence]:24 dc. 2019  workers have paid vacation days in turkmenistan, brazil, and the european union  but not here.[Evidence]:22 avr. 2015  under federal law, no one can be forced to join a union as a condition of employment, and the supreme court has made clear that workers ...[Evidence]:22 apr 2015  under federal law, no one can be forced to join a union as a condition of employment, and the supreme court has made clear that workers ...[Evidence]:countries in the world by population (2023)[Evidence]:the projected global economic growth ... what will happen to countries and regions that remain in food deficit in 2050  how can their food security be assured?4 puslapiai[Evidence]:7 dc. 2005  if nothing is done, there could be only one person employed for every retiree in european countries by 2050. as a result, the labour market.12 pages[Evidence]:it is one of only five countries that ranks among the top ten globally in ... criteria, rather than be a pre-determined selection. there must be an inclusive ...[Evidence]:average indexed earnings in each of the three brackets are multiplied by three ... as under current law, workers could still choose to begin receiving reduced ...[Evidence]:in last night\\'s episode of the walking dead, we witnessed one of the biggest character deaths in the show\\'s entire 8-year run.[Evidence]:in summary, the figures presented in this report should be considered as only a partial picture of the extent of killings of land and environmental defenders across the world in 2021. we identified relevant cases in 17 countries in 2021, but it is likely that attacks affecting land and environmental defenders also occurred in other countries where human rights violations are widespread. reasons why we may not have been able to document such cases in line with our methodology and criteria include:[Evidence]:there can be no perfect democracy curtailed by color, race, or poverty. but with all we accomplish all, even peace. w. e. b. du bois in the world and africa: ...[Evidence]:by law, no more than three commissioners can represent the same political party, and at least four votes are required for any official commission action. this ...[Evidence]:according to the us bureau of labor statistics, the average number of paid vacation days is 11 days. this average is based on a us employee working in the ...[Evidence]:according to missed opportunities: the high cost of not educating girls, less than two thirds of girls in low-income countries complete primary school, and only one in three girls completes lower secondary school. on average, women who have a secondary education are more likely to work and they earn almost twice as much as those with no education.[Evidence]:msf teams adapted to the spread of the novel coronavirus in the more than 70 countries where we had existing medical projects. over the past three years, we ...[Evidence]:snopes - we invite readers to follow along as we document our entire research process. on june 19, 2023, a twitter user posted a strange image of three ...[Evidence]:iran with 27 unesco world heritage sites is one of the 10 countries with the most cultural heritage sites in the unesco\\'s world heritage list.[Evidence]:no bill shall become a law unless on its final passage the vote be taken by ... no act, law, or bill subject to referendum shall take effect until ninety ...[Evidence]:in a public hearing you often have only one to three minutes; as an expert witness invited to a formal committee or commission hearing, you often have no ...1 page[Evidence]:world population review. \"ranking of the most dangerous countries in the world in 2023, by murder rate (per 100,000 inhabitants).\" statista , statista inc., 5 may 2022, https://www.statista.com/statistics/262963/ranking-the-20-countries-with-the-most-murders-per-100-000-inhabitants/ world population review. \"ranking of the most dangerous countries in the world in 2023, by murder rate (per 100,000 inhabitants).\" chart. may 5, 2022. statista. accessed october 31, 2023. https://www.statista.com/statistics/262963/ranking-the-20-countries-with-the-most-murders-per-100-000-inhabitants/ ranking of the most dangerous countries in the world in 2023, by murder rate (per 100,000 inhabitants) [graph], world population review, may 5, 2022. [online]. available: https://www.statista.com/statistics/262963/ranking-the-20-countries-with-the-most-murders-per-100-000-inhabitants/[Evidence]:oct 28, 2022  one is listed as endangered under federal law, and three are recognized as endangered or critically endangered by the international union ...[Evidence]:while you should never accept rides from strangers no matter what they happen to be driving and illegal and suspicious behavior should be reported to ...[Evidence]:in the middle east-north africa region, medians of more than half favor religiously motivated violence. in only three of the 15 countries[Evidence]:the following list of countries by age structure sorts the countries of the world according to the age distribution of their population.[Evidence]:18 set 2021  planters put up the nutmobile as an ultra-exclusive vacation rental that will only be available to the guest who booked it first for $3.59, ...[Evidence]:saudi arabia used to be the only country in the world that banned women from driving. this ban was one of the things that the kingdom of saudi arabia (ksa) was ...[Evidence]:30 dc. 2022  the documents confirmed that mr trump paid no federal taxes in 2020 and only $750 (622) in 2016 and 2017. he paid close to $1m in 2018, however ...[Evidence]:dec 30, 2022  the documents confirmed that mr trump paid no federal taxes in 2020 and only $750 (622) in 2016 and 2017. he paid close to $1m in 2018, however ...[Evidence]:that means it takes latina workers almost an entire extra year of full-time, year-round work to be paid the average annual earnings of white men. that ...[Evidence]:2021-08-04  the entire project ram temple complex could be complete by 2025.thursday marks one year of the bhoomi pujan of the temple by prime minister ...[Evidence]:high-income countries are expected to increase theirs by only 0.8 percent to achieve the same vaccination rate in one year. covax provides a global risk sharing ...[Evidence]:mar 22, 2023  companies must legally provide a certain number of paid vacation days to all full-time employees: the number varies depending on employment law ...[Evidence]:22 mar 2023  companies must legally provide a certain number of paid vacation days to all full-time employees: the number varies depending on employment law ...'"
      ]
     },
     "execution_count": 9,
     "metadata": {},
     "output_type": "execute_result"
    }
   ],
   "execution_count": 9
  },
  {
   "metadata": {
    "ExecuteTime": {
     "end_time": "2024-05-13T23:19:43.068605Z",
     "start_time": "2024-05-13T23:19:43.056794Z"
    }
   },
   "cell_type": "code",
   "source": "val_features[-1]",
   "id": "e6f30cca58b7924c",
   "outputs": [
    {
     "data": {
      "text/plain": [
       "'[Claim]:Social media posts with pictures of gas prices and captions urging people to “Never forget January 6th” accurately documented the cost of fuel on the day of the 2021 U.S. Capitol riot.[Evidence]:2022-06-17  ... cost of fuel on the day of the 2021 u.s. capitol riot. conte. ... average price for regular unleaded gasoline on jan. 6, 2021. further, reverse ...[Evidence]:click on your local gas station on the fuel prices map to check out reviews and other information about each location. the average cost of us gas prices might[Evidence]:we try to make sure people have the cheapest price of fuel on the water $500 speedway fuel cards for $1.95 is a scam  yes, u.s. gas prices[Evidence]:6 oct. 2021  if you\\'re using social media pictures as evidence, you\\'ll need to verify the date they were taken. learn how to accurately date social media ...[Evidence]:6 ott 2021  if you\\'re using social media pictures as evidence, you\\'ll need to verify the date they were taken. learn how to accurately date social media ...[Evidence]:18 nov 2019  are social media posts with pictures more popular than those without? why do pictures with certain characteristics induce higher engagement ...[Evidence]:with the price of gas now, a lot of times we\\'ll just go out and float $500 speedway fuel cards for $1.95 is a scam  yes, u.s. gas prices[Evidence]:2023-01-08  seeing pictures of \"the brazilian qanon shaman\" being shared as ... brazil with the jan 6 capitol riot. these pictures are from a rally ...[Evidence]:however, a study has shown that the type of gas purchased changes depending on pricing. the economist studied how consumers make gasoline purchases when prices rise. when gas prices increased, people behaved as if they were considerably poorer, buying less expensive gasoline. this article will outline how the market reacts to fuel pricing changes and how you can optimize your fuel pricing decisions.[Evidence]:sep 12, 2023  monitor your local gas prices  optimize gas cards and fuel rewards programs  pay for gas with cash  keep your tires inflated to the proper ...[Evidence]:jun 10, 2022  the owner of an amherst, mass. gas station has had his fill of high fuel prices and says he\\'s hitting the brakes on sales.[Evidence]:mar 4, 2021  1. video posts on social media get 48% more views (the marketing helpline)  2. 73% of people want to see entertaining videos on social media ( ...[Evidence]:4 lug 2022  posts circulate across social media platforms too, with a tweet, for ... in several instances nude pictures of female politicians have been shared ...[Evidence]:the average cost of fuel in august 2022 was $4.09 per gallon. one tank of gas for a typical gasoline-powered car would cost $58 and last[Evidence]:28 aot 2023  gas prices change based on the cost of crude oil, refining, distribution and marketing, and federal, state, and local taxes.[Evidence]:31, 2023, to reflect the most recent average fuel prices in the united states. how much does a gallon of gas cost? the average regular gas price in the u.s. as ...[Evidence]:jul 3, 2021  pushed to the corner once again on rising fuel prices, the bjp government contended that the increase in fuel prices was a result of the ...[Evidence]:2023-10-11  according to rac fuel watch, figures show that retailers are today ... how do regional fuel prices compare? cost of petrol and diesel in ...[Evidence]:senator kirkpatrick received a complaint from. complainant who provided pictures of social media posts reportedly posted by. ruby freeman, an elections worker ...[Evidence]:distribution of regular gasoline fuel prices in the united states from 2020 to 2022, by cost component [graph], eia, october 11, 2022. [online]. available: https://www.statista.com/statistics/616129/breakdown-of-the-united-states-gasoline-price-by-expense/ eia. (2022). distribution of regular gasoline fuel prices in the united states from 2020 to 2022, by cost component . statista . statista inc.. accessed: october 23, 2023. https://www.statista.com/statistics/616129/breakdown-of-the-united-states-gasoline-price-by-expense/ eia. (october 11, 2022). distribution of regular gasoline fuel prices in the united states from 2020 to 2022, by cost component [graph]. in statista . retrieved october 23, 2023, from https://www.statista.com/statistics/616129/breakdown-of-the-united-states-gasoline-price-by-expense/[Evidence]:9 dc. 2021  and gas prices can and do swing sharply and unpredictably, in ways that can seem unconnected to the rest of the economy. regular gas costs, on ...[Evidence]:west virginia gas prices (selected cities)  gasbuddy.com. national and regional fuel prices. gasoline and diesel fuel update  energy information ...[Evidence]:20 ago 2021  5, the day before the riot. advertisement  scroll to continue. fbi investigators did find that cells of protesters, including ...[Evidence]:throughout much of 2023, gas prices have been on the rise. gas prices have been going up largely due to increased oil prices.[Evidence]:23 fvr. 2023  many people are still sharing pictures and videos on social media related to the earthquakes in turkey and syria. a picture of an imam ...[Evidence]:17 mar 2022  experts say the higher prices are due to a unique combination of emission regulations, higher gas taxes and the golden state\\'s status as a fuel ...[Evidence]:four broad factors can impact retail fuel prices: the main components of retail gasoline prices are the cost of crude oil, taxes, refining costs, and distribution and marketing costs. (www.eia.gov) wholesale gas price changes: competing retailers may have different wholesale prices based on the terms of their fuel purchase (as noted above) and when they purchased their fuel, especially during times of extreme price volatility. gasoline is a commodity, and its wholesale price can have wild swings. its not unusual to see wholesale price swings of 10 cents or more during the day.[Evidence]:with the current national average price of $3.38 a gallon for regular gasoline, several models from crs tests cost almost $100 to fill their tanks from empty. these vehicles all have a large tank capable of holding 28 to 32 gallons, and their fuel economy, based on crs tests, spans from 16 to 17 mpg overall. even with gas prices coming down, drivers of these full-sized models are still feeling the pinch.[Evidence]:what are gas prices in bucks county? the philadelphia 5-county metropolitan area gas price average, which according to aaa sat at $3.85 on friday, was still 66 cents lower than the year prior, when a gallon of gas in the area cost you $4.51 on average.[Evidence]:bolivia university deaths students pictures please don\\'t forget to like comments share and subscribe to our channel the ancient times news.[Evidence]:cheapest petrol prices in tenerife 1.158 - find and compare the cheapest tenerife fuel prices near you. save money on fuel today. current fuel prices in tenerife, cheapest petrol prices in tenerife today, diesel price in tenerife per litre.[Evidence]:8 days ago  throughout much of 2023, gas prices have been on the rise. gas prices have been going up largely due to increased oil prices.[Evidence]:16 ott 2021  rise in the prices of petroleum fuels and cooking gas has a huge ... the hike has not been withdrawn in 2021, and the crude prices are on the rise ...[Evidence]:jan 22, 2021  fury erupted after pictures went viral on social media showing thousands of troops sleeping on the floor of a garage or up against a pillar.[Evidence]:these charts represent the wholesale prices that suppliers typically face when buying gas or electricity to supply their customers. the cost of suppliers ...[Evidence]:9 dic 2021  when inflation is factored in, today\\'s prices appear more modest. in today\\'s dollars, gas cost an average of $5.20 a gallon in june 2008, and ...[Evidence]:social media posts claiming the usda predicted egg prices will be $12 a dozen by fall 2022 are false.[Evidence]:title 13 of the alaska administrative code, chapters 50 through 55, was adopted and amended to the 2021 international building, fire, fuel gas and ...[Evidence]:26 mag 2022  the cost of gas used to fuel barbecues, boats and cars is up a whopping 43.6% compared to a year ago. as of monday, the national average for a ...[Evidence]:2022-10-06  sen. tom cotton (r-ar) reminded voters thursday about the gasoline price on jan. 6, 2021, the day of the capitol riot.[Evidence]:how often do brands post a day on facebook? brands post an average of 2.37 posts per day (hootsuite/we are social). how many people use[Evidence]:2023-01-08  ... unfolding in brazil with the jan 6 capitol riot. these pictures are from a rally by bolsonaro\\'s supporters in september 2021, not today.[Evidence]:1 giu 2021  false. a slew of articles and social media posts say atf chief nominee david chipman was part of the 1993 federal assault on the branch ...[Evidence]:that volatility has hit consumers hard, raising gas prices and straining budgets ...  raising fuel economy standards: taken together, the obama administration\\'s.[Evidence]:the number of times that people engaged with your posts through reactions, comments, shares, and clicks. the sum of reactions, comments, and shares received on the posts published in the selected time period.[Evidence]:29 janv. 2020  coronavirus a message urging people to avoid ice creams and cold drinks for the next 90 days to prevent coronavirus is viral on social media ...[Evidence]:16 mars 2021  the term gas tax refers to an excise tax on motor and diesel fuel that funds roughly 80 percent of the highway trust fund\\'s revenues, which ...[Evidence]:fuels subject to use fuel tax: the following types of fuel are subject to use fuel tax: liquefied petroleum gas (lpg, propane, butane); liquid and compressed ...[Evidence]:the fuel cost of driving an electric vehicle depends on the cost of electricity per kilowatt-hour (kwh) and the energy efficiency of the vehicle. for...[Evidence]:the nationwide average sits at $3.56 per gallon, ... stacker compiled statistics on gas prices in north carolina. gas prices are as of october 20. north carolina by the numbers  gas current ...[Evidence]:elon musk announced new limits on the number of posts twitter users will be able to read each day in an effort to fight what he calls extreme levels of data scraping and system manipulation. the announcement from the billionaire owner of twitter comes just a day after the social media platform decided to make it impossible for anyone without a twitter account to read tweets. many twitter users were not happy with musks announcement about limiting the number of tweets any given user can read in a day. musk explained that verified twitter users would be limited to reading 6,000 posts per day, regular users would be limited to reading 600 posts per day and newly created accounts would be limited to reading 300 posts per day.[Evidence]:all prices collected in mid-2022: gas prices  hotel  lost wages  child care  abortion cost. avery. the heavy cost of abortion bans | avery | planned ...[Evidence]:in february 2023, residential gas prices based on pps varied from 4.3 per 100 kwh to 25.2 per 100 kwh in the eu. the eu average was 14.1 pps. germany and italy were among the top four countries in terms of highest gas prices in pps, similarly to the current prices. measured in c/kwh, residential natural gas prices including taxes were lower than electricity prices in the eu. gas prices varied from 2.5 c/kwh in hungary to 30.1 c/kwh in sweden. while electricity prices were lower than the eu average in france and spain, gas prices were higher than the eu average at current prices.[Evidence]:may 29, 2018  with gas prices on the rise, learning to save money at the gas station is one thing savvy drivers can do to help take some of the sting out ...[Evidence]:jun 23, 2021  one of the main reasons behind the rise in fuel prices in india is that we have to import 80% of the oil we consume,\" pradhan said on wednesday.[Evidence]:oct 21, 2021  for now, evs cost more to power than gasoline costs to fuel an internal combustion car that gets reasonable gas mileage. charging costs vary ...[Evidence]:the fuel cost of driving an electric vehicle depends on the cost of electricity per kilowatt-hour (kwh) and the energy efficiency of the vehicle. for example,...[Evidence]:despite some media reports, energy experts indicate the united states isnt going to run out of diesel fuel and heating oil, although prices will be high. the diesel fuel situation is complicated. news of a shortage prompted criticism that exports continued while the united states was running out of a critical fuel.[Evidence]:for example, the average cost of diesel fuel per gallon in 2020 was $2.551. in 2022, the cost of diesel rose by 95% to $4.989 a gallon, ultimately reaching a record high of $5.816 by the summer. additionally, fertilizer prices increased 125% from january 2021 to january 2022 and continued to break records throughout 2022, which largely affected farm profitability, food prices, and the costs of consumer products.[Evidence]:expressed in euro, average household gas prices in the second half of 2022 were lowest in hungary (3.5 per 100 kwh), croatia (4.5) and slovakia (4.9) and highest in sweden (27.5), denmark (20.8) and the netherlands (19.3). the price of natural gas for households in sweden was 157 % higher than the eu average price. however, natural gas use in sweden is very limited. between the second half of 2021 and the second half of 2022, gas prices increased in all 27 eu countries. gas prices (in national currencies) surged the most in czechia (+231%), romania (+165%), latvia (+157%), lithuania (+112%) and belgium (+102%). there were only two increases below 20%: croatia (+14%) and slovakia (18%). all price increases are from the energy and supply component, mainly driven by the recent energy crisis. in the second half of 2022, average household electricity prices in the eu continued to show a sharp increase compared with the same period in 2021, from 23.5 per 100 kwh to 28.4 per 100 kwh. average gas prices also increased compared with the same period in 2021 from 7.8 per 100 kwh to 11.4 per 100 kwh in the second half of 2022. these prices are the highest on eurostats record.[Evidence]:this group intends to connect free meals with recipients. we take no ... strictly no screen shots or sharing of posts and pictures - we must respect ...[Evidence]:below is a table describing the petrol price per liter in each eu country: below is a map of fuel prices in europe from 5 years back (2017): gas prices in europe (eu, october 2023)  interactive map:[Evidence]:... people are sharing with their friends. producing posts of this ... learn what types of posts have the most engagement, weighing shared posts the most heavily.[Evidence]:may 19, 2021  a social media post going around claims to show a 1963 newspaper article accurately predicting people would be able to carry a phone in ...[Evidence]:cation of an increase in consumer demand for fuel economy. the gasoline prices and driving behavior. the effects of rising gasoline prices can[Evidence]:current fuel prices. here are the current prices of fuel in south africa ... use the current fuel price to calculate you fuel usage for your vehicle fleet; use ...[Evidence]:but when you look at the long-term trends, there are going to be more ups in gas prices than downs in gas prices. since the day i took office.[Evidence]:... we\\'re already spending 7 million a day to put economic chancers up in hotels.\" many of the posts sharing his claim across social media will also have ...[Evidence]:so, as we celebrate daughters day in india, we shouldnt forget to celebrate the spirit of these 10 daughters of india who made our hearts puffed up with pride:[Evidence]:2018-07-10  some widespread social media posts claim that the tata evision electric car requires no fuel and can run for 1000 kms in a single charge and ...[Evidence]:jan 12, 2021  update: on tuesday night, the house approved a resolution urging pence to invoke the 25th amendment with a vote of 223-205, ...[Evidence]:average fuel prices on 18 october 2023. show prices in. country gasoline 95 (l) diesel (l) lpg (l) price 1 day 7 days 30 days price 1 day 7 days 30 days price 1 day 7 days 30 days; austria: 1,702  -0,023-0,043-0,087: 1,824 ...[Evidence]:your trip begins at tenerife north airport in san cristobal de la laguna, spain. our data is primarily for u.s. gas prices, but rough estimates show that fuel prices in spain are around 1.8 times u.s. prices, so we estimated an average gas price of $6.94 in spain. l/100 km fuel price: (us dollars/gallon) your trip ends in santa cruz de tenerife, spain. our data is primarily for u.s. gas prices, but rough estimates show that fuel prices in spain are around 1.8 times u.s. prices, so we estimated an average gas price of $6.94 in spain.[Evidence]:aug 26, 2020  i am active only on one social media , instagram. i am an introvert person, rarely upload stories. i have 0 posts (cause i don\\'t click pictures often , and even ...[Evidence]:may 11, 2021  in virginia, 7.7% of the state\\'s nearly 3,900 gas stations reported running out of fuel tuesday, according to gasbuddy.com, which tracks supply.[Evidence]:recently a social media post has been circulating urging people to eat alkaline food with ph level that is higher than sars-cov-2, including lemon, lime, avocado and garlic, among others.[Evidence]:2020-04-15  and the people stayed home. this is the opening line of an untitled poem that\\'s gone wildly viral. social media posts shared now 10s of ...[Evidence]:the fuel contains up to 15% ethanol and gas stations promote it as an affordable option in a time of soaring gas prices.[Evidence]:most miss universe experts will tell you that the real pageant is the preliminary competition, where all the girls compete in swimsuits and evening gowns. coming out of the preliminaries are the 12 finalists. the 13th finalist is chosen by online voting. belize, with a population of only 350,000 did not have a chance, but that did not keep the people back home from showing their support. facebook posts in belize were dominated by people voting every day and often, and urging others to do so also.[Evidence]:national average: the current national average cost for gas is $3.61 (oct. 19, 2023)(1) previous week average: previous weeks average cost for gas was $3.68 (oct. 12, 2023)(1) annual average: the annual average cost for gas in 2023 is $3.60(1) most expensive week to buy gas in 2023: sep. 14, 2023 saw the highest gas prices in 2023 at $3.90(1) cheapest week to buy gas in 2023: jan. 12, 2023 saw the lowest gas prices in 2023 at $3.28(1) most expensive state to buy gas in 2023: the highest average gas price in 2023 was $6.03 in california (sep. 28, 2023)(1) cheapest state to buy gas in 2023: the lowest average gas price in 2023 was $2.83 in georgia (jan. 05, 2023)(1) most expensive weekly national average since 2018: the highest weekly gas price was $4.99 per gallon the week of jun. 16th, 2022(2) cheapest weekly national average since 2018: the lowest weekly gas price was $1.84 per gallon on apr. 16, 2020(2) most expensive weekly state gas price since 2018: california at $6.43 per gallon on june 16th, 2022(2) cheapest weekly state gas price since 2018: wisconsin at $1.29 per gallon on (apr. 16, 2020)(2) are gas prices going up or down? the national average gas price this week is $3.61, down from $3.68. us gas prices over the last year are among the highest since 2018. over the past six years, the price of gas has averaged $3.00 per gallon  or $0.61 a gallon less expensive than today.[Evidence]:oct 1, 2021  several posts on social media claimed that yohani de silva, of \\'manike mage hithe\\' fame, has been appointed the cultural ambassador between ...[Evidence]:14 janv. 2014  the fuel price report contains a bi-annual collection of fuel prices quoted in 100 communities during the months of january and june.[Evidence]:today, far fewer consider gas prices as a top pressure than did so seven years ago: in april 2011, when gas prices were far higher than they have been in recent years, fully 69% of americans said gas prices affected their situation a lot  the highest of the six factors included in the survey. today, the cost of health care  asked for the first time in this survey  ranks higher than most other pressures.[Evidence]:27 giu 2023  starting july 1, the gas tax will go up from 28 cents to 29.8 cents. find the lowest gas prices. below is the breakdown of the fuel rates: fuel ...[Evidence]:22 giu 2021  prices in the express toll lanes would vary based on the amount of traffic and time of day but could range anywhere from $0.50 to $1.75 per trip ...[Evidence]:other types of fuel are taxed as well, including diesel, ethanol, aviation fuel ... gas taxes thus accounted, on average, for about 15% of the average retail ...[Evidence]:1 nov. 2022  in 1973 gas prices were 39c/gallon. by the time 1980 came gas prices flared up to over 1.00/gallon. average gas prices in the u.s. through history [updated].[Evidence]:26 sept. 2023  interest rates have gone up, as have the prices of rent, fuel and heating oil. the price of everything people are buying is going up and up.[Evidence]:for gasoline costs, we used the national average price of gas in september 2022: $3.70 per gallon for regular, which both the kona and the f-150 take. as you likely know, gas prices are quite volatile these days, with inflation, the russian invasion, and other factors both raising the price and making future prices hard to predict. nevertheless, the price of gas has trended downwards recently and may continue in that direction, though its unlikely we see pre-pandemic prices anytime soon. still, for the sake of math, lets assume it stays at octobers price for the foreseeable future. here is the cost to drive the gasoline-powered kona and f-150 for 45,000 miles.[Evidence]:2022-04-13  a look at the average price of a gallon of gas for every year between 1978 and 2021 to show how much prices have grown over the years.[Evidence]:2020-10-22  when quaden bayles found himself at the centre of a social media storm, many seemed to forget he was a young boy with dwarfism, just looking ...[Evidence]:current fuel prices in tenerife. cheapest petrol and diesel prices in tenerife today. petrol prices in tenerife are one of the most economical in spain. prices...[Evidence]:7 oct. 2021  washington, d.c. -- americans\\' trust in the media to report the news fully, accurately and fairly has edged down four percentage points ...[Evidence]:18 ago 2022  from january to june 2022, the price of regular motor gasoline rose 49% and the price of diesel fuel rose slightly more at 55%. fuel prices ...[Evidence]:... current way to determine sale prices (e.g. euros/litre diesel, euros ... fuel prices per conventional unit are the average prices of these fuels for the previous ...[Evidence]:9 sept. 2021  as the oil and gas industry shows signs of recovery, oil prices also staged a significant recovery last year on both demand and supply sides ...36 pages[Evidence]:2020-09-17  social media platforms including twitter and facebook are buzzing with posts claiming that a muslim regiment of the indian army refused to ...[Evidence]:on june 19, 2008, then-senator obama said he would have preferred a gradual adjustment of gas prices. on january 19, 2009, the day before president obama was inaugurated, americans paid $1.85 per gallon of regular gasoline. today, families and small businesses pay $3.59 per gallon of regular gasoline. according to the presidents plan, gas prices have undergone a gradual adjustment since he took office. there has been a 94 percent increase in the price of gasoline over the first three years of the obama presidency. in the name of clean energy, president obamas policies systematically inflate u.s. gas prices and lighten american wallets and pocketbooks:[Evidence]:how are fuel prices affecting companies? the surge in gasoline prices is impossible to miss and at the top of consumers\\' minds as billboards announce that gas now costs $4, or $5, or even above $6 a gallon in some places. with prices at record highs, americans are feeling the impact at the pump immediately. but higher fuel prices are a headwind for the wider economy too, beyond just consumers having less spending money. the rising cost of fuel, especially diesel, means that anything transported on a truck, train or ship is affected. energy costs are a major contributor to the decades-high inflation numbers showing up, as prices for all manner of goods and services march higher. \"energy, in a way, is the tail wagging the dog here,\" bob mcnally, president at rapidan energy group, said wednesday on cnbc\\'s \"power lunch.\" \"diesel is really the economic fuel. it\\'s the lifeblood of the economy, transportation, power in some cases ... so it really is embedded in economic activity and it\\'s filtered through so many goods and services.\" demand destruction, or the level at which high prices influence consumer behavior, from surging fuel costs might not have set in yet on a wide scale, but the impacts are filtering throughout the economy. higher prices at the pump mean not only less spending money in consumers\\' pockets but also expanding costs for companies, some or all of which will later be passed along to consumers. target is one of the companies grappling with higher costs. shares of the store chain cratered 25% on wednesday  the single worst day since 1987  following target\\'s earnings results, during which it warned about inflationary pressures. \"we did not anticipate the rapid shifts we\\'ve seen over the last 60 days. we did not anticipate that transportation and freight costs would soar the way they have as fuel prices have risen to all-time highs,\" target ceo brian cornell said wednesday on the company\\'s quarterly earnings call. he told cnbc that higher fuel and diesel costs will be a roughly $1 billion incremental cost during the fiscal year and a \"significant increase that [target] didn\\'t anticipate.\"[Evidence]:18 janv. 2021  ... capitol for possible \"reconnaissance\" the day before the insurrection. ... \" that message came hours before the riot. boebert denounced the ...'"
      ]
     },
     "execution_count": 10,
     "metadata": {},
     "output_type": "execute_result"
    }
   ],
   "execution_count": 10
  },
  {
   "metadata": {
    "ExecuteTime": {
     "end_time": "2024-05-13T23:19:43.082953Z",
     "start_time": "2024-05-13T23:19:43.068946Z"
    }
   },
   "cell_type": "code",
   "source": [
    "train_labels = [fact[\"label\"] for fact in train_data]\n",
    "val_labels = [fact[\"label\"] for fact in val_data]\n",
    "train_labels_final = LE.fit_transform(train_labels)\n",
    "val_labels_final = LE.transform(val_labels)\n",
    "train_labels_final[:20], val_labels_final[:20]"
   ],
   "id": "9aabcd35a5ebed37",
   "outputs": [
    {
     "data": {
      "text/plain": [
       "(array([1, 0, 1, 1, 2, 2, 1, 1, 1, 1, 1, 1, 1, 2, 2, 2, 0, 0, 1, 2]),\n",
       " array([1, 1, 2, 1, 1, 1, 1, 0, 1, 1, 2, 0, 1, 1, 1, 1, 1, 1, 1, 1]))"
      ]
     },
     "execution_count": 11,
     "metadata": {},
     "output_type": "execute_result"
    }
   ],
   "execution_count": 11
  },
  {
   "metadata": {
    "ExecuteTime": {
     "end_time": "2024-05-13T23:20:55.593537Z",
     "start_time": "2024-05-13T23:19:43.083325Z"
    }
   },
   "cell_type": "code",
   "source": [
    "input_ids = []\n",
    "attention_masks = []\n",
    "\n",
    "for sent in train_features:\n",
    "    # `encode_plus` will:\n",
    "    #   (1) Tokenize the sentence.\n",
    "    #   (2) Prepend the `[CLS]` token to the start.\n",
    "    #   (3) Append the `[SEP]` token to the end.\n",
    "    #   (4) Map tokens to their IDs.\n",
    "    #   (5) Pad or truncate the sentence to `max_length`\n",
    "    #   (6) Create attention masks for [PAD] tokens.\n",
    "    encoded_dict = tokenizer.encode_plus(\n",
    "                        sent,                      # Sentence to encode.\n",
    "                        add_special_tokens = True, # Add '[CLS]' and '[SEP]'\n",
    "                        max_length = 256,           # Pad & truncate all sentences.\n",
    "                        pad_to_max_length = True,\n",
    "                        truncation=True,\n",
    "                        return_attention_mask = True,   # Construct attn. masks.\n",
    "                        return_tensors = 'pt',     # Return pytorch tensors.\n",
    "                   )\n",
    "\n",
    "    # Add the encoded sentence to the list.\n",
    "    input_ids.append(encoded_dict['input_ids'])\n",
    "\n",
    "    # And its attention mask (simply differentiates padding from non-padding).\n",
    "    attention_masks.append(encoded_dict['attention_mask'])\n",
    "# Convert the lists into tensors.\n",
    "input_ids = torch.cat(input_ids, dim=0)\n",
    "attention_masks = torch.cat(attention_masks, dim=0)\n",
    "\n",
    "\n",
    "# Print sentence 0, now as a list of IDs.\n",
    "print('Original: ', train_features[0])\n",
    "print('Token IDs:', input_ids[0])"
   ],
   "id": "1891b89958e32406",
   "outputs": [
    {
     "name": "stderr",
     "output_type": "stream",
     "text": [
      "/home/jan/anaconda3/envs/pytorch/lib/python3.10/site-packages/transformers/tokenization_utils_base.py:2674: FutureWarning: The `pad_to_max_length` argument is deprecated and will be removed in a future version, use `padding=True` or `padding='longest'` to pad to the longest sequence in the batch, or use `padding='max_length'` to pad to a max length. In this case, you can give a specific length with `max_length` (e.g. `max_length=45`) or leave max_length to None to pad to the maximal input size of the model (e.g. 512 for Bert).\n",
      "  warnings.warn(\n"
     ]
    },
    {
     "name": "stdout",
     "output_type": "stream",
     "text": [
      "Original:  [Claim]:Says his political opponents \"brought 100,000 protesters into our state.\"[Evidence]:jul 30, 2015  ... says that isn't a lie: says his political opponents \"brought 100,000 protesters into our state.\" http://www.politifact.com/wisconsin ...[Evidence]:in a national tv interview, gov. scott walker said his political opponents \"brought 100000 protesters into our state\" during the 2011 demonstrations in ...[Evidence]:19 janv. 2021  a total loser! a loser who sadly plays right into our opponents hands! never a fan,.[Evidence]:31 ago 2023  ... up his political enemies if he is president again. in an ... his business affairs, trump said democrats and other opponents were sick people[Evidence]:jan 28, 2016  a loser who sadly plays right into our opponents hands! never a fan  a total lightweight  opposes me and some of our great republican ...[Evidence]:percent of the vote to clinch the gop nomination. polls had showed mccloskey was running far behind his opponents headed into election day.[Evidence]:political opponents of the nazis (\"night of the long knives\"). july 1-13, 1934[Evidence]:2021-06-28  ... robbery of a government. it would also would set off what was ... political opponents say bongbong used money stolen by his father to run ads ...[Evidence]:apr 1, 2019  the country's political parties are spreading propaganda about their opponents to gain votes. it's working.[Evidence]:apr 24, 2018  americans do not want their presidents treating presidential predecessors and political opponents with such hatred and contempt.[Evidence]:oct 30, 2022  its use by opponents of drag, as well as by protesters in other realms of lgbtq opposition, seeks to falsely equate it with pedophilia and other ...[Evidence]:an avowed white supremacist who drove his car into a crowd of anti-racism protesters during a white nationalist rally in virginia has been sentenced to life in ...[Evidence]:2017-08-17  a man rammed a car into anti-racist protesters in virginia. here is what happened. white supremacists clash with counter protesters at a ...[Evidence]:about 100,000 anti-nazi protesters gathered around the arena in protest of the bund, carrying signs stating, smash anti-semitism and drive the nazis out of ...[Evidence]:about 100,000 anti-nazi protesters gathered around the arena in protest of the bund, carrying signs stating \"smash anti-semitism\" and \"drive the nazis out of ...[Evidence]:27 juil. 2017  as house speaker paul ryan faces criticism from his opponents for being inaccessible to residents of his congressional district, ...[Evidence]:dec 17, 2021  farmers had been demonstrating against three laws: the farmers ... involved police and the latter involving political opponents of the farmer ...[Evidence]:29 dic 2020  a carroll county gop facebook post falsely claimed political opponents carried out the nashville bombing as part of a voter fraud plot.[Evidence]:dec 5, 2013  more than 100,000 protesters rallied in bangkok on november 24. they have since occupied government ministries across the city and halted ...[Evidence]:2004-06-01  lyndon johnson secretly recorded many of his telephone conversations as president. the tapes provide our only window into his thoughts after ...[Evidence]:but despite his own disdain for supposedly paid protesters, trump himself has benefited from people being paid to attend his events, both in his capacity as a political candidate and as president. president donald trump has frequently accused protesters and activists of being paid by powerful liberal forces, but many the attendees at his own events were financially compensated to be there. president donald trump has frequently accused protesters and activists of being paid by powerful liberal forces, but many attendees at his own events were financially compensated to be there.[Evidence]:yet in a 1983 speech to staff members at the equal employment opportunity ... political opponents of justice thomas have been using the quote against him ...[Evidence]:feb 22, 2010  on october 21, 1967, one of the most prominent antiwar demonstrations took place as some 100,000 protesters gathered at the lincoln memorial ...[Evidence]:22 fvr. 2010  on october 21, 1967, one of the most prominent antiwar demonstrations took place as some 100,000 protesters gathered at the lincoln memorial ...[Evidence]:by linking sagging pants to prison culture, opponents are able to scare the public into believing in a one-to-one relationship between[Evidence]:23 feb 2021  thus, our foray into electoral politics began, through the creation of the. black lives matter political action. committee (blm pac). since its ...[Evidence]:16 mag 2022  with his opponents claiming to have 400,000 signatures on petitions seeking his recall, los angeles district attorney george gascn may be ...[Evidence]:23 ott 2012  his republican primary opponents and democratic incumbent bill nelson began attacking his character, pointing at a bar fight, a separate bar ...[Evidence]:3 nov 2022  al lawson and loranne ausley find the political currents, money and odds favor their republican opponents in races that may sweep them out ...[Evidence]:2 dc. 2019  democrats allege that president trump pressured ukraine to initiate investigations into his political rival, former vice president biden, for ...[Evidence]:2 dic 2019  democrats allege that president trump pressured ukraine to initiate investigations into his political rival, former vice president biden, for ...[Evidence]:trump regularly makes racist comments and deploys bigotry as a divisive political weapon. trump's racism long predates his foray into politics. before he ...[Evidence]:his opponents insisted he had abused his powers and flouted the will of congress. ... \"it is an established principle of international law.\" said mr. calhoun ...[Evidence]:property (chiluwa, 2018). in some circumstances, individual protesters or ... to have any political affiliation. data that show the various representations ...[Evidence]:2 feb 2015  the political detentions lasted from two hours to 12 days and were typical of how cuba represses opponents to its one-party system, the cuban ...[Evidence]:2023-03-14  as a result of his popularity on social media, stephen king's political opinions have become a daily obsession. whether getting into hot water ...[Evidence]:2020-12-31  ... against racist and political repression and other groups. seeing protesters gather day-after-day makes me know that what happens in this ...[Evidence]:2019-03-15  opponents of president rodrigo duterte have criticised his government's decision to sign a memorandum of understanding with beijing over ...[Evidence]:di p pain  2019  citato da 63  our analysis shows that trump tweets frequently and casts himself as a political outsider who can alone save america. his racist and sexist language with his ...[Evidence]:he dismantled the case promoted by our opponents that public employees are overpaid and a burden to the state. but this fight was about ideology, not facts.[Evidence]:24 mars 2018  march for our lives protesters in washington early on saturday. hundreds of thousands are expected. 00:04:04.[Evidence]:... entered into politics and public service. he remarkably won the presidency in his first ever run for any political office. a graduate of the university of ...[Evidence]:video broadcast by newsmaxtv on thursday showed police removing barricades and waving protesters into the capitol on jan. 6.[Evidence]:20 sept. 2023  opponents say the project and others approved by biden put his climate legacy at risk and are a breach of his 2020 campaign promise to stop new ...[Evidence]:2013-03-30  kenya's supreme court upholds uhuru kenyatta's presidential election victory, but two people die in a western city as his opponents clash ...[Evidence]:2012-01-18  gop frontrunner mitt romney came under increased pressure wednesday from allies and opponents to release his tax information in advance of ...[Evidence]:oct 13, 2023  the public hearing went late into the afternoon with opponents to the bill saying that gender affirming medical care is lifesaving for ...[Evidence]:31 aot 2014  police use rubber bullets and teargas after protesters force their way into grounds of pakistan's parliament.[Evidence]:jan 19, 2012  opponents of wisconsin republican gov. scott walker have submitted more than a million signatures seeking his recall in a statewide vote.[Evidence]:in his first speech as president-elect, joe biden made clear his intention to bridge the deep and bitter divisions in american society. he pledged to look beyond red and blue and to discard the harsh rhetoric that characterizes our political debates.[Evidence]:oct 23, 2015  the republican u.s. senator who wants to become louisiana's next governor has struggled to build a commanding lead against his opponents ...[Evidence]:2019-05-01  military vehicles driven into crowd ... protesters and regime forces fought running battles through the streets of venezuela's capital caracas.[Evidence]:28 oct. 2022  the growing crowd of khan supporters in lahore chanted slogans including imran ... khan has accused the military of supporting his opponents ...[Evidence]:campaign of 1988: on october 13, 1987, george h. w. bush announced his candidacy for the republican nomination for president. he faced three main opponents for ...[Evidence]:14 set 2023  michael o'leary has shrugged off concerns for his personal safety after climate change protesters threw cream pies in his face, and says that ...[Evidence]:26 ott 2023  our party needs an inquiry into islamophobia. keir starmer needs to apologise, retract his comments and stop the gaslighting of muslims. mish ...[Evidence]:trump's personal businesses. during his presidency, his businesses received $8.5million from political fundraising under his control, including the trump[Evidence]:2022-06-11  protesters across u.s. and texas join march for our lives rallies against gun violence. outside the capitol in austin, relatives of jackie ...[Evidence]:most refugees are integrated into communities, putting a strain on services. in countries neighboring syria; 100,000 people reach europe[Evidence]:feb 17, 2021  i'm anderson cooper. president biden is just four weeks into his presidency and facing multiple crises: nearly 500,000 of our fellow citizens  ...[Evidence]:fbi. \"total number of homicides in the united states in 2022, by state.\" statista , statista inc., 16 oct 2023, https://www.statista.com/statistics/195331/number-of-murders-in-the-us-by-state/ fbi. \"total number of homicides in the united states in 2022, by state.\" chart. october 16, 2023. statista. accessed october 30, 2023. https://www.statista.com/statistics/195331/number-of-murders-in-the-us-by-state/ total number of homicides in the united states in 2022, by state [graph], fbi, october 16, 2023. [online]. available: https://www.statista.com/statistics/195331/number-of-murders-in-the-us-by-state/[Evidence]:2 juil. 2019  antifascist protesters filed into downtown portland on june 29 and handed out vegan coconut milkshakes during a counterprotest against ...[Evidence]:sep 12, 2023  former president donald trump is barred from returning to the white house, say some opponents who argue his role in the jan. 6, 2021 ...[Evidence]:as discussions continued between yanukovych and opposition leaders, azarov tendered his resignation as prime minister. in february hundreds of protesters were ...[Evidence]:16 nov 2022  the prime minister's now-deleted tweet that falsely claimed iran sentenced 15000 protesters to death could play into the iranian regime's ...[Evidence]:2 giorni fa  video posted on social media showed protesters pushing past police into the ruthven administration building, which houses offices for school ...[Evidence]:16 nov. 2022  the prime minister's now-deleted tweet that falsely claimed iran sentenced 15000 protesters to death could play into the iranian regime's ...[Evidence]:jun 3, 2017  protesters in the city took to the streets saturday and demanded an investigation into alleged ties between president trump and russia.[Evidence]:the fences were torn down by protesters chanting, \"whose park? our park ... around 35 members of the south africa project were protesting at the california ...[Evidence]:jul 1, 2019  home depot cofounder swears his charitable giving will far outpace his political donations.[Evidence]:47 minuti fa  henry cavill reveals more about superman and his gaming rig. welcome to our blog! today we're going to delve into the world of superman and ...[Evidence]:louis  mark mccloskey, a lawyer who was pardoned alongside his wife for pointing guns at racial justice protesters outside their central west[Evidence]:schiff then played a video depicting protesters illegally entering the arizona capitol, including jacob chansley, the so-called qanon shaman known for his ...[Evidence]:4 mag 2023  supporters of u.s. president donald trump gather in washington. [2/46]. pro-trump protesters storm into the u.s. capitol during a rally to ...[Evidence]:dec 2, 2021  myanmar security forces move into hlaing tharyar around 11 a.m. on march 14, 2021, kettling protesters from the east, west, and south.[Evidence]:8 janv. 2020  protesters storm us embassy. on december 31, enraged members and supporters of pro-iranian paramilitary groups in iraq broke into the heavily ...[Evidence]:2 dic 2021  myanmar security forces move into hlaing tharyar around 11 a.m. on march 14, 2021, kettling protesters from the east, west, and south.[Evidence]:2016-03-17  wbur's senior political reporter, anthony brooks, traveled to burlington, vermont where sanders' political career began -- and where his ...[Evidence]:a listing of our political donations at the state and local level ... cvs health has a policy governing political contributions made from corporate and pac funds ...[Evidence]:5 days ago  the metropolitan police said the protesters were arrested on suspicion of criminal damage before being taken into custody. a force statement on ...[Evidence]:report save portland police said they received a report around 10:30 p. de 2020 people keep driving into protesters during the george floyd to stop and ...[Evidence]:2018-03-30  washington  liberal billionaire philanthropist george soros and his foundations did not pay protesters to rally against gun violence in the ...[Evidence]:vladimir putin vows action as protesters demand his resignation over mall fire that killed 64. www.ndtv.com. dutch foreign minister quits after lying about ...[Evidence]:some protesters have been criminally charged with rioting. the largest organized protest against trump was the day after his inauguration; millions protested on ...[Evidence]:the protesters were seen with posters and placards, with inscriptions such as buhari must go, buhari should resign if he is tired, power belongs to the people, save nigeria from sinking, bring back our economy, bring back our twitter, among others.[Evidence]:mar 18, 2021  its transition to democracy brought into power a political party (the anc) with a radically different and vastly more inclusive political base ...[Evidence]:senatorial voting record. online, mccain used his senate web site and his 2008 campaign web site to describe his political positions. regarding the general[Evidence]:3 ago 2019  over his decades in office, 'middle-class joe's' family fortunes have closely tracked his political career.[Evidence]:30 avr. 2019  an armored vehicle plowed straight into a group of protesters in the capital of venezuela on tuesday as the government battled back against ...[Evidence]:2023-10-18  bob menendez raised $274,500 from a maritime union, political action committees and longtime political donors for his new legal defense fund ...[Evidence]:23 aot 2017  president trump lambasted his critics in a speech at a rally in phoenix, as protesters gathered outside. read the full transcript.[Evidence]:nov 17, 2020  thousands of protesters flooded washington this weekend to support donald trump and his refusal to acknowledge defeat in the 2020 ...[Evidence]:feb 14, 2011  january 31: mubarak still refuses to step down, amid growing calls for his resignation. protesters continue to defy the military-imposed curfew.[Evidence]:we already receive in the region of 100,000 calls each year to our runaway helpline and message home service. the helplines successfully safeguarded over 6,700.[Evidence]:100,000 people have strokes each year; there are 1.3 million stroke survivors in the uk. explore our interactive maps and charts to discover up-to-date ...[Evidence]:2022-01-05  protesters attacked the u.s. capitol on january 6, 2021 in an ... for the first time in our history, america did not have a peaceful transition of ...[Evidence]:jun 21, 2017  the initial reports of the shooting led to hundreds of protesters gathering in parts of the city. the protests escalated into violence and riots ...[Evidence]:25 mai 2022  angry protesters pelted stones and threw tear gas shells back at the police before scores of them were taken into custody. pakistan politics a ...[Evidence]:28 mars 2022  in june 2020, india adopted what became known as three farm laws, which came into effect that september. these laws  protesters argued  ...[Evidence]:his father has said that young scott became interested in running for political voting with his own party only 54% of the time. by comparison, his\n",
      "Token IDs: tensor([     1,    647,  71216,    592,    294,  35418,    268,    315,   1198,\n",
      "          7207,    307,  94521,    803,    261,    528,  11294,    352,    316,\n",
      "           565,    260,    309,   2550, 101860,    592,    294,  98625,    703,\n",
      "           261,   1054,    323,    260,    260,    652,    272,    928,    280,\n",
      "           297,    266,   4335,    294,    652,    315,   1198,   7207,    307,\n",
      "         94521,    803,    261,    528,  11294,    352,    316,    565,    260,\n",
      "           309,   1871,    294,    320,    320,   1965,    260,  37346,   5605,\n",
      "         24050,    260,    549,    320,  51265,  32758,    547,    323,    260,\n",
      "           260,   2550, 101860,    592,    294,    547,    266,   1200,   8277,\n",
      "          2109,    261,  46914,    260,  62739,  27983,    357,    315,   1198,\n",
      "          7207,    307,  94521,    803,    528,  11294,    352,    316,    565,\n",
      "           309,    482,    262,   1513,  12513,    267,    323,    260,    260,\n",
      "          2550, 101860,    592,    294,   2573,  33770,   2179,    260,  16789,\n",
      "           266,   1047,  24020,    300,    266,  24020,    328,  10744,   2787,\n",
      "           423,    352,    316,   7207,   1312,    300,    518,    266,   2066,\n",
      "           261,    260,   2550, 101860,    592,    294,   4230,    824,  26323,\n",
      "           323,    260,    260,    322,    315,   1198,   6253,    337,    313,\n",
      "           269,   1574,    541,    260,    267,    299,    323,    260,    260,\n",
      "           315,    460,   6303,    261,  28373,    357,  52131,    263,    340,\n",
      "          7207,    332,   3808,    355,   2550, 101860,    592,    294,  17447,\n",
      "          1736,    261,    892,    266,  24020,    328,  10744,   2787,    423,\n",
      "           352,    316,   7207,   1312,    300,    518,    266,   2066,    266,\n",
      "          1047,   6577,  32379,    351,    263,    347,    265,    316,    426,\n",
      "         35018,    323,    260,    260,   2550, 101860,    592,    294,  25339,\n",
      "           265,    262,   1647,    264,  36870,    262,    424,   1492,   9427,\n",
      "           260,   9480,    330,   1938,  96001,  19732,   7871,    284,    997,\n",
      "           659,    931,    315,   7207,   3763,    352,   2187,    406,    260,\n",
      "          2550, 101860,    592,    294,  18240,   7207,    265,    262,  69418,\n",
      "           268,    287,    309,      2])\n"
     ]
    }
   ],
   "execution_count": 12
  },
  {
   "metadata": {
    "ExecuteTime": {
     "end_time": "2024-05-13T23:21:18.518861Z",
     "start_time": "2024-05-13T23:20:55.594016Z"
    }
   },
   "cell_type": "code",
   "source": [
    "val_input_ids = []\n",
    "val_attention_masks = []\n",
    "\n",
    "for sent in val_features:\n",
    "    # `encode_plus` will:\n",
    "    #   (1) Tokenize the sentence.\n",
    "    #   (2) Prepend the `[CLS]` token to the start.\n",
    "    #   (3) Append the `[SEP]` token to the end.\n",
    "    #   (4) Map tokens to their IDs.\n",
    "    #   (5) Pad or truncate the sentence to `max_length`\n",
    "    #   (6) Create attention masks for [PAD] tokens.\n",
    "    encoded_dict = tokenizer.encode_plus(\n",
    "                        sent,                      # Sentence to encode.\n",
    "                        add_special_tokens = True, # Add '[CLS]' and '[SEP]'\n",
    "                        max_length = 256,           # Pad & truncate all sentences.\n",
    "                        pad_to_max_length = True,\n",
    "                        truncation=True,\n",
    "                        return_attention_mask = True,   # Construct attn. masks.\n",
    "                        return_tensors = 'pt',     # Return pytorch tensors.\n",
    "                   )\n",
    "\n",
    "    # Add the encoded sentence to the list.\n",
    "    val_input_ids.append(encoded_dict['input_ids'])\n",
    "\n",
    "    # And its attention mask (simply differentiates padding from non-padding).\n",
    "    val_attention_masks.append(encoded_dict['attention_mask'])\n",
    "# Convert the lists into tensors.\n",
    "val_input_ids = torch.cat(val_input_ids, dim=0)\n",
    "val_attention_masks = torch.cat(val_attention_masks, dim=0)\n",
    "\n",
    "\n",
    "# Print sentence 0, now as a list of IDs.\n",
    "print('Original: ', val_features[0])\n",
    "print('Token IDs:', val_attention_masks[0])"
   ],
   "id": "78839061ff68ce6a",
   "outputs": [
    {
     "name": "stdout",
     "output_type": "stream",
     "text": [
      "Original:  [Claim]:Amit Shah said Narendra Modi sleeps for 24 hours for the welfare of the poor.[Evidence]:2022-03-21  'pm modi sleeps for only two hours and works for 22 hours every day,' bjp chief chandrakant patil said.[Evidence]:2017-02-11  obama sleeps nearly five hours a night. narendra modi. pti. 2/2. narendra modi. prime minister narendra modi is said to work 20 hours a day.[Evidence]:mar 23, 2022  he sleeps for 3.5 to 4 hours every day. he sleeps late at around 12 o clock and gets up early around 4 o clock. yet, he is so fresh and energetic throughout the ...[Evidence]:mar 21, 2022  pm modi sleeps for only two hours and works for 22 hours every day. he is experimenting now so that he need not have to sleep,\" patil ...[Evidence]:sep 26, 2022  brett favre's most memorable stat may be $8 million meant for the poor. his role in the misappropriation of welfare money has infuriated ...[Evidence]:prime minister narendra modi sleeps for only two hours every day and is doing an experiment so that he will not have to sleep and can work for the country for ...[Evidence]:2022-03-21  prime minister narendra modi sleeps for only two hours every day and is doing an experiment so that he will not have to sleep and can work for ...[Evidence]:24 mars 2015  hence, bhagwat rightfully said that conversion to christianity was the main objective behind mother teresa's service to the poor. \"mother ...[Evidence]:mar 21, 2022  prime minister narendra modi sleeps for only two hours every day and is doing an experiment so that he will not have to sleep and can work for ...[Evidence]:globally, the average user spends 50 minutes per day with facebook properties. considering the average person sleeps 8.8 hours a day.[Evidence]:2022-03-21  mumbai: prime minister narendra modi sleeps for only two hours every day and is doing an experiment so that he will not have to sleep and can ...[Evidence]:2023-07-12  according to the national institutes of health, the average adult sleeps less than seven hours per night. in today's fast-paced society, six or ...[Evidence]:how many hours of sleep are enough for good health? ; 3 to 5 years, 10 to 13 hours per 24 hours, including naps ; 6 to 12 years, 9 to 12 hours per 24 hours ; 13 to ...[Evidence]:now you might be wondering how this translates to 24 hours of daylight when the sun is below the horizon for 4 hours and 38 minutes.[Evidence]:20 mars 2020  the study found that the virus is viable for up to 72 hours on plastics, 48 hours on stainless steel, 24 hours on cardboard, and 4 hours on ...[Evidence]:mar 20, 2020  the study found that the virus is viable for up to 72 hours on plastics, 48 hours on stainless steel, 24 hours on cardboard, and 4 hours on ...[Evidence]:locations around earth's equator only receive about 12 hours of light each day. in contrast, the north pole receives 24 hours of daylight for a few months in...[Evidence]:13 feb 2019  for example, certain means-tested benefits may be available only to low-income families. ... in fact, of the 79 social welfare programs, 24 ...[Evidence]:2020-10-13  at 40c virus was inactivated much more quickly. infectious sars-cov-2 was detectable for less than 16 hours for cotton cloth, up to 24 hours ...[Evidence]:bobby sleeps on the master's grave at night, and is looked after by the residents of the edinburgh, scotland, neighborhood. when the question of paying for his ...[Evidence]:24 giu 2020  president trump strengthens america's child welfare system by signing a historic executive order (eo) aimed at improving outcomes for ...[Evidence]:2022-11-17  the federal government, through the national bureau of statistics, on thursday said 130 million nigerians are poor. by sarah wakili-effin.[Evidence]:24 janv. 2021  farmer leaders on sunday appealed to those participating in the republic day tractor march to carry enough ration for 24 hours and ensure ...[Evidence]:vision, mission, mandate, and activities  coordinating minister for health & social welfare  minister of state for health & social welfare ...[Evidence]:wearing a mask for so many hours of the day, said dr. koirala for these activities, unvaccinated people should continue to wear masks and[Evidence]:17 nov 2022  the federal government, through the national bureau of statistics, on thursday said 130 million nigerians are poor. by sarah wakili-effin.[Evidence]:that number is equivalent to around 20.2% of the population in the us and includes individuals who received assistance from one of the safety net programs. the biggest percentage of people on welfare are retired workers, with more than 49.4 million recieving welfare each month. one of the most interesting welfare statistics is how long americans actually use welfare programs. based on the data collected, 43% of all welfare recipients stayed with the program for at least three years, while those that needed the financial help for just one year account for 31.2% of all welfare recipients. 13.9% stayed with at least one program for up to two years, while only 11.9% stay between two and three years. four out of ten americans are part of a welfare program for more than three years.[Evidence]:according to a recent study published in the new england journal of medicine, sars-cov-2, the virus that causes covid-19, can live in the air and on surfaces between several hours and several days. the study found that the virus is viable for up to 72 hours on plastics, 48 hours on stainless steel, 24 hours on cardboard, and 4 hours on copper. it is also detectable in the air for three hours.[Evidence]:in the 19 days of the 1984 summer games, swat officers worked a grueling 24 hours on and 24 hours off in a full-time training mode to polish those skills.[Evidence]:aug 12, 2021  within 24 hours of signing for the paris saint-germain football club (psg), argentine football superstar leo messi generated 30 million ...[Evidence]:21 mai 2013  the congestion reportedly lasted for as much as 48 hours, leaving motorists stranded for as long as 24 hours along the 300-mile route from ...[Evidence]:2020-03-20  (out of concern for the recent press about side effects), within 24 hours i went to having severe breathing difficulties and literally feeling ...[Evidence]:24 giu 2021  former actress kris aquino opted for a brief statement thursday within hours after the passing of her brother, former president benigno ...[Evidence]:1 to 2 years, 11 to 14 hours per 24 hours, including naps ; 3 to 5 years, 10 to 13 hours per 24 hours, including naps ; 6 to 12 years, 9 to 12 hours per 24 hours.[Evidence]:through direct relief's longstanding hurricane preparedness program, 24 hurricane preparedness packs  designed to treat 100 patients for the first 72 hours ...[Evidence]:the welfare fraud prevention and investigations section is responsible for preventing and investigating welfare fraud before and after benefits are issued.[Evidence]:sep 16, 2023  taiwan's defense ministry said it spotted 22 chinese warplanes and 20 warships near the island in the 24 hours before the report was released  ...[Evidence]:2020-10-13  at 40c virus was inactivated much more quickly. infectious sars-cov-2 was detectable for less than 16 hours for cotton cloth, up to 24 ...[Evidence]:the tourist travel card is valid on buses, trolleys, trams, metro, and train (otopeni airport to north railway station route). for 24 hours of availability, you ...[Evidence]:24 apr 2014  the benefits of government-run welfare schemes don't reach the city's muslims. the community is also denied adequate public services.[Evidence]:(a) if a ticket is presented for cancellation more than 24 hours before the scheduled departure of the train cancellation charge shall be deducted at the flat ...4 pages[Evidence]:welfare use is very high for all three top-sending countries from the region. of households headed by el salvadoran immigrants, 60 percent use at least one major welfare program; the figure is 59 percent for guatemalans and 52 percent for hondurans.[Evidence]:13 lug 2017  ... ryan said millions of people have willingly elected to be impoverished is ... poor people, but he never said 22 million people choose to be poor.[Evidence]:2014-09-22  castro said county welfare offices still have work to do to eliminate the backlog of medicaid applicants. but castro said the enrollment gains ...[Evidence]:however, the social welfare system focused mainly on poor whites and excluded blacks. under apartheid, the social welfare services for africans, indians and ...[Evidence]:president obama has been a lifelong advocate for the poor. as president, his life experiences inform his efforts to create a path of opportunity for all hard- ...[Evidence]:24 hours ago  covid vaccinated reddit covid vaccinated redditlast november and is said to be 70 percent more transmissible this subreddit seeks to monitor ...[Evidence]:islam has firm guidelines for the traditional burial of muslims. burial must take place as soon as possible after death  this usually means within 24 hours ...[Evidence]:view our dashboards for up-to-date information about the children, youth and families served by oregon's child welfare system. child welfare rom reports ...[Evidence]:each test was run for 20 minutes and plate counts were done at 24 and 48 hours ... reliable test, involved testing of masks after they were worn for varying ...[Evidence]:though a full-time firefighter typically works 56 hours per ... the california swing shift has firefighters working 24 hours, every other day, for five days.[Evidence]:all in one units converter ;  ; 36 hours = 1 12 days. formula: divide the value in hours by 24 because 1 day equals 24 hours. so, 36 hours = 3624 = 1 12 or 1.5 ...[Evidence]:23 feb 2023  ... there is indeed abundant evidence for the benefits of fasting. our ... fast of 24 hours  affects the immune system. they analyzed two groups ...[Evidence]:barely 24 hours after spb's burial, messages are going viral claiming that the family asked the tamil nadu government for help to pay the hospital bills, ...[Evidence]:many states had waivers of the rules for the cash welfare program for states to account for certain administrative costs that previously had[Evidence]:24 ago 2023  seat selection costs $5 to $25 each way for passengers traveling on a blue basic ticket that would like to select their seats more than 24 hours ...[Evidence]:welfare use is very high for all three top-sending countries from the region. of households headed by el salvadoran immigrants, 60 percent use at least one major welfare program; the figure is 59 percent for guatemalans and 52 percent for hondurans. given the large share of central americans with low incomes, it is not surprising that so many access the welfare system. in 2018, 56 percent of households headed by central american immigrants used one or more major welfare programs, more than double the 26 percent of native households. welfare use is common among both recently arrived and more established central americans. among households headed by central americans in the country for 10 years or less, 55 percent used one or more welfare programs, while the figure is 56 percent for households headed by a central american in the country for more than 10 years.[Evidence]:2020-10-06  you can end your isolation if it has been 10 days since symptom onset, you have been fever-free for 24 hours without the aid of fever-reducing ...[Evidence]:mar 1, 2023  a confirm cancellation message occurs for each reservation. note: if within 24 to 48 hours of departure and you need to cancel the lodging.9 pages[Evidence]:will my server be on 24 hours per day? yes, your server is online 24 hours a ... we are a long-standing server host with a good reputation in the industry.[Evidence]:nov 28, 2022  cold germs on your hands can live for up to one hour. the influenza (flu) virus can live for up to 24 to 48 hours on hard surfaces. the ...[Evidence]:nun and missionary mother teresa, known in the catholic church as saint teresa of calcutta, devoted her life to caring for the sick and poor.[Evidence]:3 janv. 2023  you haven't had a fever for 24 hours without using a fever-reducing medicine. ... covid-19 calculated by using a lag time for fatality. cdc ...[Evidence]:2023-05-26  for cancellation and refund, please contact us within 24 hours to avoid any transactional dispute. respectfully. harley turner mcafee support ...[Evidence]:feb 5, 2020  purpura points out that children would need to hear an additional 24 words every minute for 14 hours a day for the first four years or read 96 ...[Evidence]:australia's welfare 2023 is the aihw's 16th biennial welfare report. it explores topical welfare issues and brings together multiple data sources to serve as a report card on the welfare of australians. australias welfare is framed around welfare in its broadest sense  welfare refers to the wellbeing of individuals, families and the community. welfare and wellbeing are often used interchangeably  see understanding welfare and wellbeing. australias welfare 2023: data insights is a collection of 9 in-depth articles on selected welfare topics, including a focus on homelessness and housing affordability, employment and income support following the covid-19 pandemic, and the importance of a strong evidence base for supporting the wellbeing of australians. australias welfare topic summaries present key information and statistics on housing, education and skills, employment and income, social support, justice and safety, and first nations people across 42 web pages. available online as web pages (some updated when new data are available). australias welfare 2023: in brief presents key findings and concepts to tell the story of welfare and wellbeing in australia.[Evidence]:de l piroska  2023  moreover, very similar patterns of recovery after photobleaching were observed for -syn condensates at 24 and 72 hours after transfection (fig.[Evidence]:17 hours ago  in a news conference, israel's prime minister said that calls for a cease-fire are calls for israel to surrender to hamas.[Evidence]:24 aot 2021  pcr is the most reliable and accurate test for detecting active infection. pcr tests typically take hours to perform, but some are faster.[Evidence]:1 mai 2023  lucknow has reported the highest covid-19 cases in uttar pradesh with 64 more people testing positive for the infection in the past 24 hours ...[Evidence]:convert 36.0 hours to days: divide the number of 36.0 hours by 24: 36.0  24 = 1.5. 36.0 hours is approximately equal to 1.5 days. convert 1.5 days to weeks ...[Evidence]:2023-03-24  the past 24 months of uninterrupted job growth show the strength of the texas economy and ongoing economic opportunities for texans, said twc ...[Evidence]:opponents of entitlement welfare services introduced the idea of work requirements for previous entitlement programs such as temporary assistance for needy ...[Evidence]:2021-02-22  whites are 60 percent of the u.s. population but just 44 percent of the poor. blacks are 12.4 percent of the population but account for 21 ...[Evidence]:comparing this article with the legislation of the republic of yemen, we find that, under the juvenile welfare act no. 24 of 1992, a juvenile is defined as ...[Evidence]:20 feb 2021  the department told the independent that any asylum seeker who is absent from their accommodation for 24 hours will reported as an absconder in ...[Evidence]:the detainee will always be granted access within 24 hours of his/her request. incidents of delays extending beyond eight (waking) hours must be documented and ...11 pages[Evidence]:a day is 24 hours long. each new day starts at midnight (12 o'clock at night) ... there are two ways to show the time: \"am/pm\" or \"24 hour clock\". 24 hours 0 ...[Evidence]:for security reasons, the bank allows you to transfer money up to rs 50,000/- only to the newly added beneficiary (in full or parts) during the first 24 hours ...[Evidence]:10 hours ago  jose custodio, a defense analyst, said it is feasible for filipino shipbuilders to manufacture the hulls of smaller patrol vessels, which are ...[Evidence]:24 mar 2020  scientists found that sars-cov-2, the virus that causes covid-19, can be detected in aerosols for up to three hours and on plastic and ...[Evidence]:24 aot 2020  overall, research suggests that for healthy young adults and adults with normal sleep, 79 hours is an appropriate amount. the story gets a ...[Evidence]:24 mars 2020  scientists found that sars-cov-2, the virus that causes covid-19, can be detected in aerosols for up to three hours and on plastic and stainless[Evidence]:workers on reduced hours receive the standard rate for regular unemployment benefits. workers receive 67% of their usual earnings for hours[Evidence]:after his release on bail,. ngwane reaffirmed secc's commitment to hold the anc to its 2000 election promises of free water and electricity for the poor. he.[Evidence]:11 oct. 2023  how long does it take for walmart cash to show up in my balance? it may take a few minutes & up to 24 hours for the manufacturer offer value ...[Evidence]:march 12, 2013: the obama administration issued a statement of administration policy on h.r. 890, noting that ultimately, no states formally applied for state waivers of welfare work requirements. friday, july 12, 2013 marks one year since the obama administration first declared that it had the authority to waive the work requirements for welfare recipients. work requirements were created in the 1996 welfare reform law, and they have been key to the success of welfare reform in increasing work and earnings and reducing poverty and welfare dependence. no prior administration has ever claimed to have authority to waive these requirements, and for one simple reason  because it doesnt exist in law.[Evidence]:the total compulsory hours for a typical school week are 32.5 hours for key stage 1 and 32.92 hours for key stage 2. in severe weather, pupils remain indoors ...[Evidence]:24 avr. 2023  overall, the swoosh took davidson around 17.5 hours to design. and get this she was paid $35 for her work (what a rip-off!) at the ...[Evidence]:20 dic 2022  recession may push back some state priorities but advocates warn now isn't the time to cut programs for the poor.[Evidence]:5 gen 2016  there is always 24 hours a day. 10,000 hours is 10,000/24 days. that is 416 days plus 16 hours (2/3 day).[Evidence]:16 mar 2020  a 3d-printer company in italy has designed and printed 100 life-saving respirator valves in 24 hours for a hospital that had run out of them.[Evidence]:prie 5 dienas  some brands only offer their black friday deals for 24 hours on the holiday itself, whereas others extend their markdowns through cyber monday ( ...[Evidence]:10 hours ago  dhingra said he anticipates the auction size to be raised by $2 billion a month for 2-, 3-, 5- and 10-year notes, while auctions for 20-year ...[Evidence]:2 hours ago  kirby said a good leader would call it out for what it is.  holly ellyatt. moments ago. putin blames the west and ukraine for sowing ...[Evidence]:how much do we spend on welfare for retired people? welfare covers a number of benefits, and many people dont realise that the largest amount is actually spent on pensions at 111 billion.[Evidence]:sars-cov-2 remained active on plastic and stainless steel surfaces for two to three days under the conditions in this experiment. it remained infectious for up to 24 hours on cardboard and four hours on copper. the virus was detectable in aerosols for up to three hours. these times will vary under real-world conditions, depending on factors including temperature, humidity, ventilation, and the amount of virus deposited.[Evidence]:24 feb 2019  buffett said deficit hawks have preached doom for decades and haven't been proven correct.[Evidence]:mar 2, 2007  baghdad enjoyed 16 to 24 average hours of power per day, and enjoyed an average of 6.7 hours per day in december, 4.4 hours average per day in ...[Evidence]:for 24 hours last week, trey gowdy, the former south carolina congressman best known for leading congressional investigations of hillary clinton, was the new face of president trumps outside legal defense and a symbol of a streamlined effort to respond to a fast-moving impeachment inquiry.\n",
      "Token IDs: tensor([1, 1, 1, 1, 1, 1, 1, 1, 1, 1, 1, 1, 1, 1, 1, 1, 1, 1, 1, 1, 1, 1, 1, 1,\n",
      "        1, 1, 1, 1, 1, 1, 1, 1, 1, 1, 1, 1, 1, 1, 1, 1, 1, 1, 1, 1, 1, 1, 1, 1,\n",
      "        1, 1, 1, 1, 1, 1, 1, 1, 1, 1, 1, 1, 1, 1, 1, 1, 1, 1, 1, 1, 1, 1, 1, 1,\n",
      "        1, 1, 1, 1, 1, 1, 1, 1, 1, 1, 1, 1, 1, 1, 1, 1, 1, 1, 1, 1, 1, 1, 1, 1,\n",
      "        1, 1, 1, 1, 1, 1, 1, 1, 1, 1, 1, 1, 1, 1, 1, 1, 1, 1, 1, 1, 1, 1, 1, 1,\n",
      "        1, 1, 1, 1, 1, 1, 1, 1, 1, 1, 1, 1, 1, 1, 1, 1, 1, 1, 1, 1, 1, 1, 1, 1,\n",
      "        1, 1, 1, 1, 1, 1, 1, 1, 1, 1, 1, 1, 1, 1, 1, 1, 1, 1, 1, 1, 1, 1, 1, 1,\n",
      "        1, 1, 1, 1, 1, 1, 1, 1, 1, 1, 1, 1, 1, 1, 1, 1, 1, 1, 1, 1, 1, 1, 1, 1,\n",
      "        1, 1, 1, 1, 1, 1, 1, 1, 1, 1, 1, 1, 1, 1, 1, 1, 1, 1, 1, 1, 1, 1, 1, 1,\n",
      "        1, 1, 1, 1, 1, 1, 1, 1, 1, 1, 1, 1, 1, 1, 1, 1, 1, 1, 1, 1, 1, 1, 1, 1,\n",
      "        1, 1, 1, 1, 1, 1, 1, 1, 1, 1, 1, 1, 1, 1, 1, 1])\n"
     ]
    }
   ],
   "execution_count": 13
  },
  {
   "metadata": {
    "ExecuteTime": {
     "end_time": "2024-05-13T23:21:18.521363Z",
     "start_time": "2024-05-13T23:21:18.519967Z"
    }
   },
   "cell_type": "code",
   "source": [
    "train_labels_final = torch.tensor(train_labels_final)\n",
    "val_labels_final = torch.tensor(val_labels_final)"
   ],
   "id": "b3f15d087f33e000",
   "outputs": [],
   "execution_count": 14
  },
  {
   "metadata": {
    "ExecuteTime": {
     "end_time": "2024-05-13T23:21:18.535076Z",
     "start_time": "2024-05-13T23:21:18.521734Z"
    }
   },
   "cell_type": "code",
   "source": "val_labels_final.shape, len(val_input_ids)",
   "id": "16e06f51776929ce",
   "outputs": [
    {
     "data": {
      "text/plain": [
       "(torch.Size([3084]), 3084)"
      ]
     },
     "execution_count": 15,
     "metadata": {},
     "output_type": "execute_result"
    }
   ],
   "execution_count": 15
  },
  {
   "metadata": {
    "ExecuteTime": {
     "end_time": "2024-05-13T23:21:18.547404Z",
     "start_time": "2024-05-13T23:21:18.535479Z"
    }
   },
   "cell_type": "code",
   "source": [
    "num_classes = len(list(set(train_labels)))\n",
    "list(set(train_labels)), num_classes"
   ],
   "id": "260f70445af39bea",
   "outputs": [
    {
     "data": {
      "text/plain": [
       "(['Conflicting', 'False', 'True'], 3)"
      ]
     },
     "execution_count": 16,
     "metadata": {},
     "output_type": "execute_result"
    }
   ],
   "execution_count": 16
  },
  {
   "metadata": {
    "ExecuteTime": {
     "end_time": "2024-05-13T23:21:18.555003Z",
     "start_time": "2024-05-13T23:21:18.547804Z"
    }
   },
   "cell_type": "code",
   "source": [
    "from torch.utils.data import TensorDataset, random_split\n",
    "# train_poincare_tensor = torch.tensor(poincare_embeddings_final,dtype=torch.float)\n",
    "# difficulty_tensor = torch.tensor(difficulty_level_vectors,dtype=torch.float)\n",
    "# Combine the training inputs into a TensorDataset.\n",
    "dataset = TensorDataset(input_ids, attention_masks, train_labels_final)\n",
    "val_dataset = TensorDataset(val_input_ids, val_attention_masks,val_labels_final)"
   ],
   "id": "b0bc79280cdd2971",
   "outputs": [],
   "execution_count": 17
  },
  {
   "metadata": {
    "ExecuteTime": {
     "end_time": "2024-05-13T23:21:18.570981Z",
     "start_time": "2024-05-13T23:21:18.555419Z"
    }
   },
   "cell_type": "code",
   "source": [
    "from torch.utils.data import DataLoader, RandomSampler, SequentialSampler\n",
    "batch_size = 16\n",
    "train_dataloader = DataLoader(\n",
    "            dataset,  # The training samples.\n",
    "            sampler = RandomSampler(dataset), # Select batches randomly\n",
    "            batch_size = batch_size # Trains with this batch size.\n",
    "        )\n",
    "\n",
    "validation_dataloader = DataLoader(\n",
    "            val_dataset, # The validation samples.\n",
    "            sampler = SequentialSampler(val_dataset),\n",
    "            batch_size = batch_size\n",
    "        )"
   ],
   "id": "8b0bf3ec0a3c1fa",
   "outputs": [],
   "execution_count": 18
  },
  {
   "metadata": {
    "ExecuteTime": {
     "end_time": "2024-05-13T23:21:18.968647Z",
     "start_time": "2024-05-13T23:21:18.571463Z"
    }
   },
   "cell_type": "code",
   "source": [
    "from torch import nn\n",
    "from transformers import DebertaV2ForSequenceClassification\n",
    "class MultiClassClassifier(nn.Module):\n",
    "    def __init__(self, bert_model_path, labels_count, hidden_dim=768, mlp_dim=500, extras_dim=100, dropout=0.1, freeze_bert=False):\n",
    "        super().__init__()\n",
    "\n",
    "        self.deberta = DebertaV2ForSequenceClassification.from_pretrained(bert_model_path, num_labels=labels_count, problem_type=\"multi_label_classification\")\n",
    "        # self.softmax = nn.LogSoftmax(dim=1)\n",
    "        if freeze_bert:\n",
    "            print(\"Freezing layers\")\n",
    "            for param in self.roberta.parameters():\n",
    "                param.requires_grad = False\n",
    "\n",
    "    def forward(self, tokens, masks):\n",
    "        output = self.deberta(tokens, attention_mask=masks)\n",
    "        return output['logits']"
   ],
   "id": "473e11d5cb636e9e",
   "outputs": [],
   "execution_count": 19
  },
  {
   "metadata": {
    "ExecuteTime": {
     "end_time": "2024-05-13T23:21:19.560891Z",
     "start_time": "2024-05-13T23:21:18.969283Z"
    }
   },
   "cell_type": "code",
   "source": [
    "from transformers import BertForSequenceClassification, AdamW, BertConfig\n",
    "\n",
    "# Loads BertForSequenceClassification, the pretrained BERT model with a single\n",
    "model = MultiClassClassifier('sileod/deberta-v3-base-tasksource-nli',num_classes, 1024,768,140,dropout=0.1,freeze_bert=False)\n",
    "\n",
    "# model.load_state_dict(torch.load(\"model_bert_difficulty_prediction/model_weights\"))\n",
    "\n",
    "# Tell pytorch to run this model on the GPU.\n",
    "model.cuda()"
   ],
   "id": "e39c9947eeec6cc",
   "outputs": [
    {
     "name": "stderr",
     "output_type": "stream",
     "text": [
      "/home/jan/anaconda3/envs/pytorch/lib/python3.10/site-packages/huggingface_hub/file_download.py:1132: FutureWarning: `resume_download` is deprecated and will be removed in version 1.0.0. Downloads always resume when possible. If you want to force a new download, use `force_download=True`.\n",
      "  warnings.warn(\n"
     ]
    },
    {
     "data": {
      "text/plain": [
       "MultiClassClassifier(\n",
       "  (deberta): DebertaV2ForSequenceClassification(\n",
       "    (deberta): DebertaV2Model(\n",
       "      (embeddings): DebertaV2Embeddings(\n",
       "        (word_embeddings): Embedding(128100, 768, padding_idx=0)\n",
       "        (LayerNorm): LayerNorm((768,), eps=1e-07, elementwise_affine=True)\n",
       "        (dropout): StableDropout()\n",
       "      )\n",
       "      (encoder): DebertaV2Encoder(\n",
       "        (layer): ModuleList(\n",
       "          (0-11): 12 x DebertaV2Layer(\n",
       "            (attention): DebertaV2Attention(\n",
       "              (self): DisentangledSelfAttention(\n",
       "                (query_proj): Linear(in_features=768, out_features=768, bias=True)\n",
       "                (key_proj): Linear(in_features=768, out_features=768, bias=True)\n",
       "                (value_proj): Linear(in_features=768, out_features=768, bias=True)\n",
       "                (pos_dropout): StableDropout()\n",
       "                (dropout): StableDropout()\n",
       "              )\n",
       "              (output): DebertaV2SelfOutput(\n",
       "                (dense): Linear(in_features=768, out_features=768, bias=True)\n",
       "                (LayerNorm): LayerNorm((768,), eps=1e-07, elementwise_affine=True)\n",
       "                (dropout): StableDropout()\n",
       "              )\n",
       "            )\n",
       "            (intermediate): DebertaV2Intermediate(\n",
       "              (dense): Linear(in_features=768, out_features=3072, bias=True)\n",
       "              (intermediate_act_fn): GELUActivation()\n",
       "            )\n",
       "            (output): DebertaV2Output(\n",
       "              (dense): Linear(in_features=3072, out_features=768, bias=True)\n",
       "              (LayerNorm): LayerNorm((768,), eps=1e-07, elementwise_affine=True)\n",
       "              (dropout): StableDropout()\n",
       "            )\n",
       "          )\n",
       "        )\n",
       "        (rel_embeddings): Embedding(512, 768)\n",
       "        (LayerNorm): LayerNorm((768,), eps=1e-07, elementwise_affine=True)\n",
       "      )\n",
       "    )\n",
       "    (pooler): ContextPooler(\n",
       "      (dense): Linear(in_features=768, out_features=768, bias=True)\n",
       "      (dropout): StableDropout()\n",
       "    )\n",
       "    (classifier): Linear(in_features=768, out_features=3, bias=True)\n",
       "    (dropout): StableDropout()\n",
       "  )\n",
       ")"
      ]
     },
     "execution_count": 20,
     "metadata": {},
     "output_type": "execute_result"
    }
   ],
   "execution_count": 20
  },
  {
   "metadata": {
    "ExecuteTime": {
     "end_time": "2024-05-13T23:21:19.563204Z",
     "start_time": "2024-05-13T23:21:19.561431Z"
    }
   },
   "cell_type": "code",
   "source": [
    "import numpy as np\n",
    "\n",
    "# Function to calculate the accuracy of our predictions vs labels\n",
    "def flat_accuracy(preds, labels):\n",
    "    pred_flat = np.argmax(preds, axis=1).flatten()\n",
    "    labels_flat = labels.flatten()\n",
    "    return np.sum(pred_flat == labels_flat) / len(labels_flat)"
   ],
   "id": "901c079287ffa4c9",
   "outputs": [],
   "execution_count": 21
  },
  {
   "metadata": {
    "ExecuteTime": {
     "end_time": "2024-05-13T23:21:19.576944Z",
     "start_time": "2024-05-13T23:21:19.563637Z"
    }
   },
   "cell_type": "code",
   "source": [
    "import time\n",
    "import datetime\n",
    "\n",
    "def format_time(elapsed):\n",
    "    '''\n",
    "    Takes a time in seconds and returns a string hh:mm:ss\n",
    "    '''\n",
    "    # Round to the nearest second.\n",
    "    elapsed_rounded = int(round((elapsed)))\n",
    "\n",
    "    # Format as hh:mm:ss\n",
    "    return str(datetime.timedelta(seconds=elapsed_rounded))"
   ],
   "id": "6c7382f93ada61b",
   "outputs": [],
   "execution_count": 22
  },
  {
   "metadata": {
    "ExecuteTime": {
     "end_time": "2024-05-13T23:21:19.595082Z",
     "start_time": "2024-05-13T23:21:19.577466Z"
    }
   },
   "cell_type": "code",
   "source": [
    "class EarlyStopping:\n",
    "    \"\"\"Early stops the training if validation loss doesn't improve after a given patience.\"\"\"\n",
    "    def __init__(self, patience=7, verbose=False, delta=0, path='checkpoint.pt', trace_func=print):\n",
    "        \"\"\"\n",
    "        Args:\n",
    "            patience (int): How long to wait after last time validation loss improved.\n",
    "                            Default: 7\n",
    "            verbose (bool): If True, prints a message for each validation loss improvement.\n",
    "                            Default: False\n",
    "            delta (float): Minimum change in the monitored quantity to qualify as an improvement.\n",
    "                            Default: 0\n",
    "            path (str): Path for the checkpoint to be saved to.\n",
    "                            Default: 'checkpoint.pt'\n",
    "            trace_func (function): trace print function.\n",
    "                            Default: print\n",
    "        \"\"\"\n",
    "        self.patience = patience\n",
    "        self.verbose = verbose\n",
    "        self.counter = 0\n",
    "        self.best_score = None\n",
    "        self.early_stop = False\n",
    "        self.val_loss_min = np.Inf\n",
    "        self.delta = delta\n",
    "        self.path = path\n",
    "        self.trace_func = trace_func\n",
    "    def __call__(self, val_loss, model):\n",
    "\n",
    "        score = -val_loss\n",
    "\n",
    "        if self.best_score is None:\n",
    "            self.best_score = score\n",
    "            self.save_checkpoint(val_loss, model)\n",
    "        elif score < self.best_score + self.delta:\n",
    "            self.counter += 1\n",
    "            self.trace_func(f'EarlyStopping counter: {self.counter} out of {self.patience}')\n",
    "            if self.counter >= self.patience:\n",
    "                self.early_stop = True\n",
    "        else:\n",
    "            self.best_score = score\n",
    "            self.save_checkpoint(val_loss, model)\n",
    "            self.counter = 0\n",
    "\n",
    "    def save_checkpoint(self, val_loss, model):\n",
    "        '''Saves model when validation loss decrease.'''\n",
    "        if self.verbose:\n",
    "            self.trace_func(f'Validation loss decreased ({self.val_loss_min:.6f} --> {val_loss:.6f}).  Saving model ...')\n",
    "        torch.save(model.state_dict(), self.path)\n",
    "        self.val_loss_min = val_loss"
   ],
   "id": "cab493efbba84df8",
   "outputs": [],
   "execution_count": 23
  },
  {
   "metadata": {
    "ExecuteTime": {
     "end_time": "2024-05-13T23:21:19.610718Z",
     "start_time": "2024-05-13T23:21:19.595551Z"
    }
   },
   "cell_type": "code",
   "source": [
    "# for param in model.deberta.deberta.encoder.layer[0:5].parameters():\n",
    "#     param.requires_grad=False"
   ],
   "id": "b91a3cf0d1a4e2a1",
   "outputs": [],
   "execution_count": 24
  },
  {
   "metadata": {
    "ExecuteTime": {
     "end_time": "2024-05-13T23:29:02.419266Z",
     "start_time": "2024-05-13T23:21:19.611236Z"
    }
   },
   "cell_type": "code",
   "source": [
    "import random\n",
    "import numpy as np\n",
    "from transformers import get_linear_schedule_with_warmup\n",
    "\n",
    "# This training code is based on the `run_glue.py` script here:\n",
    "# https://github.com/huggingface/transformers/blob/5bfcd0485ece086ebcbed2d008813037968a9e58/examples/run_glue.py#L128\n",
    "\n",
    "# Set the seed value all over the place to make this reproducible.\n",
    "seed_val = 42\n",
    "epochs = 20\n",
    "\n",
    "random.seed(seed_val)\n",
    "np.random.seed(seed_val)\n",
    "torch.manual_seed(seed_val)\n",
    "torch.cuda.manual_seed_all(seed_val)\n",
    "\n",
    "optimizer = AdamW(model.parameters(), lr = 2e-5, eps = 1e-8)\n",
    "loss_func = nn.CrossEntropyLoss()\n",
    "# Total number of training steps is [number of batches] x [number of epochs].\n",
    "total_steps = len(train_dataloader) * epochs\n",
    "scheduler = get_linear_schedule_with_warmup(optimizer,\n",
    "                                            num_warmup_steps = 0, # Default value in run_glue.py\n",
    "                                            num_training_steps = total_steps)\n",
    "\n",
    "# We'll store a number of quantities such as training and validation loss,\n",
    "# validation accuracy, and timings.\n",
    "training_stats = []\n",
    "\n",
    "# Measure the total training time for the whole run.\n",
    "total_t0 = time.time()\n",
    "early_stopping = EarlyStopping(patience=2, verbose=True)\n",
    "# For each epoch...\n",
    "for epoch_i in range(0, epochs):\n",
    "\n",
    "    # ========================================\n",
    "    #               Training\n",
    "    # ========================================\n",
    "\n",
    "    # Perform one full pass over the training set.\n",
    "\n",
    "    print(\"\")\n",
    "    print('======== Epoch {:} / {:} ========'.format(epoch_i + 1, epochs))\n",
    "    print('Training...')\n",
    "\n",
    "    # Measure how long the training epoch takes.\n",
    "    t0 = time.time()\n",
    "\n",
    "    # Reset the total loss for this epoch.\n",
    "    total_train_accuracy = 0\n",
    "    total_train_loss = 0\n",
    "\n",
    "    # Put the model into training mode. Don't be mislead--the call to\n",
    "    # `train` just changes the *mode*, it doesn't *perform* the training.\n",
    "    # `dropout` and `batchnorm` layers behave differently during training\n",
    "    # vs. test (source: https://stackoverflow.com/questimport gensim.downloader as api\n",
    "    model.train()\n",
    "\n",
    "    # For each batch of training data...\n",
    "    for step, batch in enumerate(train_dataloader):\n",
    "\n",
    "        # Progress update every 40 batches.\n",
    "        if step % 40 == 0 and not step == 0:\n",
    "            # Calculate elapsed time in minutes.\n",
    "            elapsed = format_time(time.time() - t0)\n",
    "\n",
    "            # Report progress.\n",
    "            print('  Batch {:>5,}  of  {:>5,}.    Elapsed: {:}.'.format(step, len(train_dataloader), elapsed))\n",
    "\n",
    "        # Unpack this training batch from our dataloader.\n",
    "        #\n",
    "        # As we unpack the batch, we'll also copy each tensor to the GPU using the\n",
    "        # `to` method.\n",
    "        #\n",
    "        # `batch` contains three pytorch tensors:\n",
    "        #   [0]: input ids\n",
    "        #   [1]: attention masks\n",
    "        #   [2]: labels\n",
    "\n",
    "        b_input_ids = batch[0].to(device)\n",
    "        b_input_mask = batch[1].to(device)\n",
    "        # b_poincare = batch[2].to(device)\n",
    "        # b_difficulty = batch[3].to(device)\n",
    "        b_labels = batch[2].to(device)\n",
    "        # skill_labels = batch[3].to(device)\n",
    "\n",
    "        # Always clear any previously calculated gradients before performing a\n",
    "        # backward pass. PyTorch doesn't do this automatically because\n",
    "        # accumulating the gradients is \"convenient while training RNNs\".\n",
    "        # (source: https://stackoverflow.com/questions/48001598/why-do-we-need-to-call-zero-grad-in-pytorch)\n",
    "        model.zero_grad()\n",
    "\n",
    "        # Perform a forward pass (evaluate the model on this training batch).\n",
    "        probas = model(b_input_ids,b_input_mask)\n",
    "\n",
    "        # Accumulate the training loss over all of the batches so that we can\n",
    "        # calculate the average loss at the end. `loss` is a Tensor containing a\n",
    "        # single value; the `.item()` function just returns the Python value\n",
    "        # from the tensor.\n",
    "        loss = loss_func(probas, b_labels)\n",
    "        total_train_loss += loss.item()\n",
    "\n",
    "        # Perform a backward pass to calculate the gradients.\n",
    "        loss.backward()\n",
    "\n",
    "        # Clip the norm of the gradients to 1.0.\n",
    "        # This is to help prevent the \"exploding gradients\" problem.\n",
    "        # torch.nn.utils.clip_grad_norm_(model.parameters(), 1.0)\n",
    "\n",
    "        # Update parameters and take a step using the computed gradient.\n",
    "        # The optimizer dictates the \"update rule\"--how the parameters are\n",
    "        # modified based on their gradients, the learning rate, etc.\n",
    "        optimizer.step()\n",
    "\n",
    "        # Update the learning rate.\n",
    "        # scheduler.step()\n",
    "        logits = probas.detach().cpu().numpy()\n",
    "        label_ids = b_labels.to('cpu').numpy()\n",
    "        total_train_accuracy += flat_accuracy(logits, label_ids)\n",
    "    avg_train_accuracy = total_train_accuracy / len(train_dataloader)\n",
    "    print(\" Train Accuracy: {0:.2f}\".format(avg_train_accuracy))\n",
    "\n",
    "    # Calculate the average loss over all of the batches.\n",
    "    avg_train_loss = total_train_loss / len(train_dataloader)\n",
    "\n",
    "\n",
    "\n",
    "    # Measure how long this epoch took.\n",
    "    training_time = format_time(time.time() - t0)\n",
    "\n",
    "    print(\"\")\n",
    "    print(\"  Average training loss: {0:.2f}\".format(avg_train_loss))\n",
    "    print(\"  Training epcoh took: {:}\".format(training_time))\n",
    "\n",
    "    # ========================================\n",
    "    #               Validation\n",
    "    # ========================================\n",
    "    # After the completion of each training epoch, measure our performance on\n",
    "    # our validation set.\n",
    "\n",
    "    print(\"\")\n",
    "    print(\"Running Validation...\")\n",
    "\n",
    "    t0 = time.time()\n",
    "\n",
    "    # Put the model in evaluation mode--the dropout layers behave differently\n",
    "    # during evaluation.\n",
    "    model.eval()\n",
    "\n",
    "    # Tracking variables\n",
    "    total_eval_accuracy = 0\n",
    "    total_eval_loss = 0\n",
    "    nb_eval_steps = 0\n",
    "\n",
    "    # Evaluate data for one epoch\n",
    "    for batch in validation_dataloader:\n",
    "        # Unpack this training batch from our dataloader.\n",
    "        #\n",
    "        # As we unpack the batch, we'll also copy each tensor to the GPU using\n",
    "        # the `to` method.\n",
    "        #\n",
    "        # `batch` contains three pytorch tensors:\n",
    "        #   [0]: input ids\n",
    "        #   [1]: attention masks\n",
    "        #   [2]: labels\n",
    "        b_input_ids = batch[0].to(device)\n",
    "\n",
    "        b_input_mask = batch[1].to(device)\n",
    "        # b_poincare = batch[2].to(device)\n",
    "        # b_difficulty = batch[3].to(device)\n",
    "        b_labels = batch[2].to(device)\n",
    "        # skill_labels = batch[3].to(device)\n",
    "\n",
    "        # Tell pytorch not to bother with constructing the compute graph during\n",
    "        # the forward pass, since this is only needed for backprop (training).\n",
    "        with torch.no_grad():\n",
    "\n",
    "            # Forward pass, calculate logit predictions.\n",
    "\n",
    "          logits = model(b_input_ids,b_input_mask)\n",
    "\n",
    "        # Accumulate the validation loss.\n",
    "        loss = loss_func(logits, b_labels)\n",
    "        total_eval_loss += loss.item()\n",
    "\n",
    "        # Move logits and labels to CPU\n",
    "        logits = logits.detach().cpu().numpy()\n",
    "        label_ids = b_labels.to('cpu').numpy()\n",
    "\n",
    "        # Calculate the accuracy for this batch of test sentences, and\n",
    "        # accumulate it over all batches.\n",
    "        total_eval_accuracy += flat_accuracy(logits, label_ids)\n",
    "\n",
    "\n",
    "    # Report the final accuracy for this validation run.\n",
    "    avg_val_accuracy = total_eval_accuracy / len(validation_dataloader)\n",
    "    print(\"  Accuracy: {0:.2f}\".format(avg_val_accuracy))\n",
    "\n",
    "    # Calculate the average loss over all of the batches.\n",
    "    avg_val_loss = total_eval_loss / len(validation_dataloader)\n",
    "    early_stopping(avg_val_loss, model)\n",
    "    if early_stopping.early_stop:\n",
    "      print(\"Early stopping\")\n",
    "      break\n",
    "    # Measure how long the validation run took.\n",
    "    validation_time = format_time(time.time() - t0)\n",
    "\n",
    "    print(\"  Validation Loss: {0:.2f}\".format(avg_val_loss))\n",
    "    print(\"  Validation took: {:}\".format(validation_time))\n",
    "    output_dir = 'model_roberta_large_oracle/'\n",
    "    if not os.path.exists(output_dir):\n",
    "        os.makedirs(output_dir)\n",
    "\n",
    "    print(\"Saving model to %s\" % output_dir)\n",
    "    tokenizer.save_pretrained(output_dir)\n",
    "    torch.save(model.state_dict(), os.path.join(output_dir, 'model_weights'))\n",
    "\n",
    "    # Record all statistics from this epoch.\n",
    "    training_stats.append(\n",
    "        {\n",
    "            'epoch': epoch_i + 1,\n",
    "            'Training Loss': avg_train_loss,\n",
    "            'Valid. Loss': avg_val_loss,\n",
    "            'Valid. Accur.': avg_val_accuracy,\n",
    "            'Training Time': training_time,\n",
    "            'Validation Time': validation_time\n",
    "        }\n",
    "    )\n",
    "\n",
    "print(\"\")\n",
    "print(\"Training complete!\")\n",
    "\n",
    "print(\"Total training took {:} (h:mm:ss)\".format(format_time(time.time()-total_t0)))"
   ],
   "id": "ac6fb678b5493a1c",
   "outputs": [
    {
     "name": "stderr",
     "output_type": "stream",
     "text": [
      "/home/jan/anaconda3/envs/pytorch/lib/python3.10/site-packages/transformers/optimization.py:521: FutureWarning: This implementation of AdamW is deprecated and will be removed in a future version. Use the PyTorch implementation torch.optim.AdamW instead, or set `no_deprecation_warning=True` to disable this warning\n",
      "  warnings.warn(\n"
     ]
    },
    {
     "name": "stdout",
     "output_type": "stream",
     "text": [
      "\n",
      "======== Epoch 1 / 20 ========\n",
      "Training...\n",
      "  Batch    40  of    621.    Elapsed: 0:00:08.\n",
      "  Batch    80  of    621.    Elapsed: 0:00:16.\n",
      "  Batch   120  of    621.    Elapsed: 0:00:24.\n",
      "  Batch   160  of    621.    Elapsed: 0:00:31.\n",
      "  Batch   200  of    621.    Elapsed: 0:00:39.\n",
      "  Batch   240  of    621.    Elapsed: 0:00:46.\n",
      "  Batch   280  of    621.    Elapsed: 0:00:52.\n",
      "  Batch   320  of    621.    Elapsed: 0:00:58.\n",
      "  Batch   360  of    621.    Elapsed: 0:01:05.\n",
      "  Batch   400  of    621.    Elapsed: 0:01:11.\n",
      "  Batch   440  of    621.    Elapsed: 0:01:17.\n",
      "  Batch   480  of    621.    Elapsed: 0:01:23.\n",
      "  Batch   520  of    621.    Elapsed: 0:01:30.\n",
      "  Batch   560  of    621.    Elapsed: 0:01:36.\n",
      "  Batch   600  of    621.    Elapsed: 0:01:42.\n",
      " Train Accuracy: 0.62\n",
      "\n",
      "  Average training loss: 0.83\n",
      "  Training epcoh took: 0:01:46\n",
      "\n",
      "Running Validation...\n",
      "  Accuracy: 0.65\n",
      "Validation loss decreased (inf --> 0.761092).  Saving model ...\n",
      "  Validation Loss: 0.76\n",
      "  Validation took: 0:00:10\n",
      "Saving model to model_roberta_large_oracle/\n",
      "\n",
      "======== Epoch 2 / 20 ========\n",
      "Training...\n",
      "  Batch    40  of    621.    Elapsed: 0:00:06.\n",
      "  Batch    80  of    621.    Elapsed: 0:00:13.\n",
      "  Batch   120  of    621.    Elapsed: 0:00:19.\n",
      "  Batch   160  of    621.    Elapsed: 0:00:25.\n",
      "  Batch   200  of    621.    Elapsed: 0:00:32.\n",
      "  Batch   240  of    621.    Elapsed: 0:00:39.\n",
      "  Batch   280  of    621.    Elapsed: 0:00:47.\n",
      "  Batch   320  of    621.    Elapsed: 0:00:53.\n",
      "  Batch   360  of    621.    Elapsed: 0:00:59.\n",
      "  Batch   400  of    621.    Elapsed: 0:01:06.\n",
      "  Batch   440  of    621.    Elapsed: 0:01:12.\n",
      "  Batch   480  of    621.    Elapsed: 0:01:18.\n",
      "  Batch   520  of    621.    Elapsed: 0:01:24.\n",
      "  Batch   560  of    621.    Elapsed: 0:01:31.\n",
      "  Batch   600  of    621.    Elapsed: 0:01:39.\n",
      " Train Accuracy: 0.68\n",
      "\n",
      "  Average training loss: 0.71\n",
      "  Training epcoh took: 0:01:43\n",
      "\n",
      "Running Validation...\n",
      "  Accuracy: 0.65\n",
      "Validation loss decreased (0.761092 --> 0.743548).  Saving model ...\n",
      "  Validation Loss: 0.74\n",
      "  Validation took: 0:00:12\n",
      "Saving model to model_roberta_large_oracle/\n",
      "\n",
      "======== Epoch 3 / 20 ========\n",
      "Training...\n",
      "  Batch    40  of    621.    Elapsed: 0:00:07.\n",
      "  Batch    80  of    621.    Elapsed: 0:00:15.\n",
      "  Batch   120  of    621.    Elapsed: 0:00:22.\n",
      "  Batch   160  of    621.    Elapsed: 0:00:29.\n",
      "  Batch   200  of    621.    Elapsed: 0:00:36.\n",
      "  Batch   240  of    621.    Elapsed: 0:00:43.\n",
      "  Batch   280  of    621.    Elapsed: 0:00:50.\n",
      "  Batch   320  of    621.    Elapsed: 0:00:56.\n",
      "  Batch   360  of    621.    Elapsed: 0:01:03.\n",
      "  Batch   400  of    621.    Elapsed: 0:01:09.\n",
      "  Batch   440  of    621.    Elapsed: 0:01:16.\n",
      "  Batch   480  of    621.    Elapsed: 0:01:23.\n",
      "  Batch   520  of    621.    Elapsed: 0:01:30.\n",
      "  Batch   560  of    621.    Elapsed: 0:01:36.\n",
      "  Batch   600  of    621.    Elapsed: 0:01:42.\n",
      " Train Accuracy: 0.75\n",
      "\n",
      "  Average training loss: 0.56\n",
      "  Training epcoh took: 0:01:46\n",
      "\n",
      "Running Validation...\n",
      "  Accuracy: 0.66\n",
      "EarlyStopping counter: 1 out of 2\n",
      "  Validation Loss: 0.80\n",
      "  Validation took: 0:00:10\n",
      "Saving model to model_roberta_large_oracle/\n",
      "\n",
      "======== Epoch 4 / 20 ========\n",
      "Training...\n",
      "  Batch    40  of    621.    Elapsed: 0:00:07.\n",
      "  Batch    80  of    621.    Elapsed: 0:00:13.\n",
      "  Batch   120  of    621.    Elapsed: 0:00:20.\n",
      "  Batch   160  of    621.    Elapsed: 0:00:26.\n",
      "  Batch   200  of    621.    Elapsed: 0:00:34.\n",
      "  Batch   240  of    621.    Elapsed: 0:00:41.\n",
      "  Batch   280  of    621.    Elapsed: 0:00:48.\n",
      "  Batch   320  of    621.    Elapsed: 0:00:54.\n",
      "  Batch   360  of    621.    Elapsed: 0:01:01.\n",
      "  Batch   400  of    621.    Elapsed: 0:01:08.\n",
      "  Batch   440  of    621.    Elapsed: 0:01:14.\n",
      "  Batch   480  of    621.    Elapsed: 0:01:21.\n",
      "  Batch   520  of    621.    Elapsed: 0:01:28.\n",
      "  Batch   560  of    621.    Elapsed: 0:01:34.\n",
      "  Batch   600  of    621.    Elapsed: 0:01:41.\n",
      " Train Accuracy: 0.85\n",
      "\n",
      "  Average training loss: 0.38\n",
      "  Training epcoh took: 0:01:45\n",
      "\n",
      "Running Validation...\n",
      "  Accuracy: 0.65\n",
      "EarlyStopping counter: 2 out of 2\n",
      "Early stopping\n",
      "\n",
      "Training complete!\n",
      "Total training took 0:07:43 (h:mm:ss)\n"
     ]
    }
   ],
   "execution_count": 25
  },
  {
   "metadata": {
    "ExecuteTime": {
     "end_time": "2024-05-13T23:29:02.420987Z",
     "start_time": "2024-05-13T23:29:02.419919Z"
    }
   },
   "cell_type": "code",
   "source": "",
   "id": "b11a35bf86e0707f",
   "outputs": [],
   "execution_count": 25
  }
 ],
 "metadata": {
  "kernelspec": {
   "display_name": "Python 3",
   "language": "python",
   "name": "python3"
  },
  "language_info": {
   "codemirror_mode": {
    "name": "ipython",
    "version": 2
   },
   "file_extension": ".py",
   "mimetype": "text/x-python",
   "name": "python",
   "nbconvert_exporter": "python",
   "pygments_lexer": "ipython2",
   "version": "2.7.6"
  }
 },
 "nbformat": 4,
 "nbformat_minor": 5
}
