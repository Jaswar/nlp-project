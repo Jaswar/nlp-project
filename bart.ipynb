{
 "metadata": {
  "kernelspec": {
   "display_name": "Python 3",
   "language": "python",
   "name": "python3"
  },
  "language_info": {
   "name": "python",
   "version": "3.10.13",
   "mimetype": "text/x-python",
   "codemirror_mode": {
    "name": "ipython",
    "version": 3
   },
   "pygments_lexer": "ipython3",
   "nbconvert_exporter": "python",
   "file_extension": ".py"
  },
  "kaggle": {
   "accelerator": "none",
   "dataSources": [
    {
     "sourceId": 8430660,
     "sourceType": "datasetVersion",
     "datasetId": 4993738
    },
    {
     "sourceId": 8430777,
     "sourceType": "datasetVersion",
     "datasetId": 5020750
    },
    {
     "sourceId": 8431344,
     "sourceType": "datasetVersion",
     "datasetId": 5021191
    },
    {
     "sourceId": 8433644,
     "sourceType": "datasetVersion",
     "datasetId": 5022952
    }
   ],
   "dockerImageVersionId": 30699,
   "isInternetEnabled": true,
   "language": "python",
   "sourceType": "notebook",
   "isGpuEnabled": false
  }
 },
 "nbformat_minor": 4,
 "nbformat": 4,
 "cells": [
  {
   "cell_type": "code",
   "source": [
    "import os\n",
    "import torch\n",
    "import logging\n",
    "logging.basicConfig(level=logging.ERROR)\n",
    "# If there's a GPU available...\n",
    "model_dir = \"facebook/bart-large\"\n",
    "tokenizer_dir = \"facebook/bart-large\"\n",
    "model_type = \"bert\"\n",
    "\n",
    "input_dimension = 1024\n",
    "mlp_dim = 500\n",
    "dropout = 0.1\n",
    "freeze = False\n",
    "vocal = False\n",
    "small_dataset = False\n",
    "epochs = 20\n",
    "batch_size = 16\n",
    "\n",
    "\n",
    "\n",
    "if torch.cuda.is_available():\n",
    "\n",
    "    # Tell PyTorch to use the GPU.\n",
    "    device = torch.device(\"cuda\")\n",
    "\n",
    "    print('There are %d GPU(s) available.' % torch.cuda.device_count())\n",
    "\n",
    "    print('We will use the GPU:', torch.cuda.get_device_name(0))\n",
    "\n",
    "# If not...\n",
    "else:\n",
    "    print('No GPU available, using the CPU instead.')\n",
    "    device = torch.device(\"cpu\")\n",
    "    \n",
    "batch_size = batch_size if not small_dataset else 1"
   ],
   "metadata": {
    "execution": {
     "iopub.status.busy": "2024-05-16T18:45:37.133477Z",
     "iopub.execute_input": "2024-05-16T18:45:37.133907Z",
     "iopub.status.idle": "2024-05-16T18:45:37.142658Z",
     "shell.execute_reply.started": "2024-05-16T18:45:37.133873Z",
     "shell.execute_reply": "2024-05-16T18:45:37.141602Z"
    },
    "trusted": true,
    "ExecuteTime": {
     "end_time": "2024-05-31T19:09:13.723576Z",
     "start_time": "2024-05-31T19:09:13.094423Z"
    }
   },
   "outputs": [
    {
     "name": "stdout",
     "output_type": "stream",
     "text": [
      "There are 1 GPU(s) available.\n",
      "We will use the GPU: NVIDIA GeForce RTX 4090\n"
     ]
    }
   ],
   "execution_count": 1
  },
  {
   "cell_type": "code",
   "source": "from transformers import AutoTokenizer,AutoModel, BertTokenizer\nimport json\n\n# Load the BART tokenizer.\nprint(f'Loading {tokenizer_dir} tokenizer...')\ntokenizer = AutoTokenizer.from_pretrained(tokenizer_dir, do_lower_case=True)",
   "metadata": {
    "execution": {
     "iopub.status.busy": "2024-05-16T18:45:37.826228Z",
     "iopub.execute_input": "2024-05-16T18:45:37.826580Z",
     "iopub.status.idle": "2024-05-16T18:45:38.346400Z",
     "shell.execute_reply.started": "2024-05-16T18:45:37.826553Z",
     "shell.execute_reply": "2024-05-16T18:45:38.345311Z"
    },
    "trusted": true,
    "ExecuteTime": {
     "end_time": "2024-05-31T19:09:14.111029Z",
     "start_time": "2024-05-31T19:09:13.724180Z"
    }
   },
   "outputs": [
    {
     "name": "stdout",
     "output_type": "stream",
     "text": [
      "Loading facebook/bart-large tokenizer...\n"
     ]
    },
    {
     "name": "stderr",
     "output_type": "stream",
     "text": [
      "/home/jan/anaconda3/envs/pytorch/lib/python3.10/site-packages/huggingface_hub/file_download.py:1132: FutureWarning: `resume_download` is deprecated and will be removed in version 1.0.0. Downloads always resume when possible. If you want to force a new download, use `force_download=True`.\n",
      "  warnings.warn(\n"
     ]
    }
   ],
   "execution_count": 2
  },
  {
   "cell_type": "code",
   "source": [
    "import json\n",
    "\n",
    "# Changed from NumTemp-E9C0/output/bm25_top_100_train\n",
    "with open(\"NumTemp-E9C0/output/bm25_top_100_train_reordered.json\") as f:\n",
    "    train_data = json.load(f)\n",
    "with open('NumTemp-E9C0/output/bm25_top_100_val_reordered.json') as f:\n",
    "    val_data = json.load(f)\n",
    "with open('NumTemp-E9C0/output/bm25_top_100_test_reordered.json') as f:\n",
    "    test_data = json.load(f)\n",
    "    \n",
    "if small_dataset:\n",
    "    train_data = train_data[:10]\n",
    "    val_data = val_data[:10]\n",
    "    test_data = test_data[:10]\n",
    "    \n",
    "len(train_data), len(val_data), len(test_data)"
   ],
   "metadata": {
    "execution": {
     "iopub.status.busy": "2024-05-16T18:45:38.349740Z",
     "iopub.execute_input": "2024-05-16T18:45:38.350069Z",
     "iopub.status.idle": "2024-05-16T18:45:40.491099Z",
     "shell.execute_reply.started": "2024-05-16T18:45:38.350036Z",
     "shell.execute_reply": "2024-05-16T18:45:40.490190Z"
    },
    "trusted": true,
    "ExecuteTime": {
     "end_time": "2024-05-31T19:09:14.816626Z",
     "start_time": "2024-05-31T19:09:14.111504Z"
    }
   },
   "outputs": [
    {
     "data": {
      "text/plain": [
       "(9935, 3084, 2495)"
      ]
     },
     "execution_count": 3,
     "metadata": {},
     "output_type": "execute_result"
    }
   ],
   "execution_count": 3
  },
  {
   "cell_type": "code",
   "source": "if vocal:\n    train_data[-1]",
   "metadata": {
    "execution": {
     "iopub.status.busy": "2024-05-16T18:45:40.492298Z",
     "iopub.execute_input": "2024-05-16T18:45:40.492661Z",
     "iopub.status.idle": "2024-05-16T18:45:40.496964Z",
     "shell.execute_reply.started": "2024-05-16T18:45:40.492625Z",
     "shell.execute_reply": "2024-05-16T18:45:40.496064Z"
    },
    "trusted": true,
    "ExecuteTime": {
     "end_time": "2024-05-31T19:09:14.818359Z",
     "start_time": "2024-05-31T19:09:14.817093Z"
    }
   },
   "outputs": [],
   "execution_count": 4
  },
  {
   "cell_type": "code",
   "source": "if vocal:\n    val_data[-1]",
   "metadata": {
    "execution": {
     "iopub.status.busy": "2024-05-16T18:45:40.499346Z",
     "iopub.execute_input": "2024-05-16T18:45:40.499623Z",
     "iopub.status.idle": "2024-05-16T18:45:40.507663Z",
     "shell.execute_reply.started": "2024-05-16T18:45:40.499599Z",
     "shell.execute_reply": "2024-05-16T18:45:40.506855Z"
    },
    "trusted": true,
    "ExecuteTime": {
     "end_time": "2024-05-31T19:09:14.827577Z",
     "start_time": "2024-05-31T19:09:14.819031Z"
    }
   },
   "outputs": [],
   "execution_count": 5
  },
  {
   "cell_type": "code",
   "source": "from sklearn.preprocessing import LabelEncoder\nLE = LabelEncoder()\nk = 100",
   "metadata": {
    "execution": {
     "iopub.status.busy": "2024-05-16T18:45:40.508744Z",
     "iopub.execute_input": "2024-05-16T18:45:40.509102Z",
     "iopub.status.idle": "2024-05-16T18:45:40.517907Z",
     "shell.execute_reply.started": "2024-05-16T18:45:40.509069Z",
     "shell.execute_reply": "2024-05-16T18:45:40.517004Z"
    },
    "trusted": true,
    "ExecuteTime": {
     "end_time": "2024-05-31T19:09:15.021186Z",
     "start_time": "2024-05-31T19:09:14.827935Z"
    }
   },
   "outputs": [],
   "execution_count": 6
  },
  {
   "cell_type": "code",
   "source": "def get_features(data):\n    features = []\n    evidences = []\n    \n    for index, fact in enumerate(data):\n        claim = fact[\"claim\"]\n        evidences = fact['top_n'][:k]\n        evidences = ''.join(f'[Evidence]:{e}' for e in evidences)\n        \n        feature = \"[Claim]:\" + claim + evidences\n        features.append(feature)\n    return features",
   "metadata": {
    "execution": {
     "iopub.status.busy": "2024-05-16T18:45:40.519071Z",
     "iopub.execute_input": "2024-05-16T18:45:40.519365Z",
     "iopub.status.idle": "2024-05-16T18:45:40.528639Z",
     "shell.execute_reply.started": "2024-05-16T18:45:40.519340Z",
     "shell.execute_reply": "2024-05-16T18:45:40.527834Z"
    },
    "trusted": true,
    "ExecuteTime": {
     "end_time": "2024-05-31T19:09:15.023629Z",
     "start_time": "2024-05-31T19:09:15.021794Z"
    }
   },
   "outputs": [],
   "execution_count": 7
  },
  {
   "cell_type": "code",
   "source": "train_features = get_features(train_data)\nval_features = get_features(val_data)\ntest_features = get_features(test_data)\nlen(train_features), len(val_features), len(test_features)",
   "metadata": {
    "execution": {
     "iopub.status.busy": "2024-05-16T18:45:40.529688Z",
     "iopub.execute_input": "2024-05-16T18:45:40.529942Z",
     "iopub.status.idle": "2024-05-16T18:45:40.546775Z",
     "shell.execute_reply.started": "2024-05-16T18:45:40.529920Z",
     "shell.execute_reply": "2024-05-16T18:45:40.545812Z"
    },
    "trusted": true,
    "ExecuteTime": {
     "end_time": "2024-05-31T19:09:15.229807Z",
     "start_time": "2024-05-31T19:09:15.024089Z"
    }
   },
   "outputs": [
    {
     "data": {
      "text/plain": [
       "(9935, 3084, 2495)"
      ]
     },
     "execution_count": 8,
     "metadata": {},
     "output_type": "execute_result"
    }
   ],
   "execution_count": 8
  },
  {
   "cell_type": "code",
   "source": "if vocal:\n    train_features[-1]",
   "metadata": {
    "execution": {
     "iopub.status.busy": "2024-05-16T18:45:40.547937Z",
     "iopub.execute_input": "2024-05-16T18:45:40.548244Z",
     "iopub.status.idle": "2024-05-16T18:45:40.555686Z",
     "shell.execute_reply.started": "2024-05-16T18:45:40.548220Z",
     "shell.execute_reply": "2024-05-16T18:45:40.554801Z"
    },
    "trusted": true,
    "ExecuteTime": {
     "end_time": "2024-05-31T19:09:15.231571Z",
     "start_time": "2024-05-31T19:09:15.230285Z"
    }
   },
   "outputs": [],
   "execution_count": 9
  },
  {
   "cell_type": "code",
   "source": "if vocal:\n    val_features[-1]",
   "metadata": {
    "execution": {
     "iopub.status.busy": "2024-05-16T18:45:40.556656Z",
     "iopub.execute_input": "2024-05-16T18:45:40.557213Z",
     "iopub.status.idle": "2024-05-16T18:45:40.565632Z",
     "shell.execute_reply.started": "2024-05-16T18:45:40.557189Z",
     "shell.execute_reply": "2024-05-16T18:45:40.564737Z"
    },
    "trusted": true,
    "ExecuteTime": {
     "end_time": "2024-05-31T19:09:15.240571Z",
     "start_time": "2024-05-31T19:09:15.231991Z"
    }
   },
   "outputs": [],
   "execution_count": 10
  },
  {
   "cell_type": "code",
   "source": "if vocal:\n    test_features[-1]",
   "metadata": {
    "execution": {
     "iopub.status.busy": "2024-05-16T18:45:40.568506Z",
     "iopub.execute_input": "2024-05-16T18:45:40.568814Z",
     "iopub.status.idle": "2024-05-16T18:45:40.577646Z",
     "shell.execute_reply.started": "2024-05-16T18:45:40.568771Z",
     "shell.execute_reply": "2024-05-16T18:45:40.576749Z"
    },
    "trusted": true,
    "ExecuteTime": {
     "end_time": "2024-05-31T19:09:15.252506Z",
     "start_time": "2024-05-31T19:09:15.241002Z"
    }
   },
   "outputs": [],
   "execution_count": 11
  },
  {
   "cell_type": "code",
   "source": "train_labels = [fact[\"label\"] for fact in train_data]\nval_labels = [fact[\"label\"] for fact in val_data]\ntest_labels = [fact[\"label\"] for fact in test_data]\n\ntrain_labels_final = LE.fit_transform(train_labels)\nval_labels_final = LE.transform(val_labels)\ntest_labels_final = LE.transform(test_labels)\ntrain_labels_final[:20], val_labels_final[:20], test_labels_final[:20]",
   "metadata": {
    "execution": {
     "iopub.status.busy": "2024-05-16T18:45:40.578830Z",
     "iopub.execute_input": "2024-05-16T18:45:40.579607Z",
     "iopub.status.idle": "2024-05-16T18:45:40.591657Z",
     "shell.execute_reply.started": "2024-05-16T18:45:40.579573Z",
     "shell.execute_reply": "2024-05-16T18:45:40.590818Z"
    },
    "trusted": true,
    "ExecuteTime": {
     "end_time": "2024-05-31T19:09:15.315769Z",
     "start_time": "2024-05-31T19:09:15.253092Z"
    }
   },
   "outputs": [
    {
     "data": {
      "text/plain": [
       "(array([1, 0, 1, 1, 2, 2, 1, 1, 1, 1, 1, 1, 1, 2, 2, 2, 0, 0, 1, 2]),\n",
       " array([1, 1, 2, 1, 1, 1, 1, 0, 1, 1, 2, 0, 1, 1, 1, 1, 1, 1, 1, 1]),\n",
       " array([0, 1, 1, 2, 1, 1, 0, 2, 0, 1, 0, 0, 2, 1, 1, 0, 0, 2, 0, 1]))"
      ]
     },
     "execution_count": 12,
     "metadata": {},
     "output_type": "execute_result"
    }
   ],
   "execution_count": 12
  },
  {
   "cell_type": "code",
   "source": "input_ids = []\nattention_masks = []\n\n# needed for gpt2. Added by Emil\nif tokenizer.pad_token is None:\n        tokenizer.pad_token = tokenizer.eos_token\n# temp change Emil\nfor sent in train_features:\n    # `encode_plus` will:\n    #   (1) Tokenize the sentence.\n    #   (2) Prepend the `[CLS]` token to the start.\n    #   (3) Append the `[SEP]` token to the end.\n    #   (4) Map tokens to their IDs.\n    #   (5) Pad or truncate the sentence to `max_length`\n    #   (6) Create attention masks for [PAD] tokens.\n    encoded_dict = tokenizer.encode_plus(\n                        sent,                      # Sentence to encode.\n                        add_special_tokens = True, # Add '[CLS]' and '[SEP]'\n                        max_length = 256,           # Pad & truncate all sentences.\n                        pad_to_max_length = True,\n                        truncation=True,\n                        return_attention_mask = True,   # Construct attn. masks.\n                        return_tensors = 'pt',     # Return pytorch tensors.\n                   )\n\n    # Add the encoded sentence to the list.\n    input_ids.append(encoded_dict['input_ids'])\n\n    # And its attention mask (simply differentiates padding from non-padding).\n    attention_masks.append(encoded_dict['attention_mask'])\n# Convert the lists into tensors.\ninput_ids = torch.cat(input_ids, dim=0)\nattention_masks = torch.cat(attention_masks, dim=0)\n\n\n# Print sentence 0, now as a list of IDs.\nif vocal:\n    print('Original: ', train_features[0])\n    print('Token IDs:', input_ids[0])\nprint(\"done\")",
   "metadata": {
    "execution": {
     "iopub.status.busy": "2024-05-16T18:45:40.592860Z",
     "iopub.execute_input": "2024-05-16T18:45:40.593197Z",
     "iopub.status.idle": "2024-05-16T18:45:40.782996Z",
     "shell.execute_reply.started": "2024-05-16T18:45:40.593166Z",
     "shell.execute_reply": "2024-05-16T18:45:40.782041Z"
    },
    "trusted": true,
    "ExecuteTime": {
     "end_time": "2024-05-31T19:10:19.539999Z",
     "start_time": "2024-05-31T19:09:15.316219Z"
    }
   },
   "outputs": [
    {
     "name": "stderr",
     "output_type": "stream",
     "text": [
      "/home/jan/anaconda3/envs/pytorch/lib/python3.10/site-packages/transformers/tokenization_utils_base.py:2674: FutureWarning: The `pad_to_max_length` argument is deprecated and will be removed in a future version, use `padding=True` or `padding='longest'` to pad to the longest sequence in the batch, or use `padding='max_length'` to pad to a max length. In this case, you can give a specific length with `max_length` (e.g. `max_length=45`) or leave max_length to None to pad to the maximal input size of the model (e.g. 512 for Bert).\n",
      "  warnings.warn(\n"
     ]
    },
    {
     "name": "stdout",
     "output_type": "stream",
     "text": [
      "done\n"
     ]
    }
   ],
   "execution_count": 13
  },
  {
   "cell_type": "code",
   "source": "val_input_ids = []\nval_attention_masks = []\n# temp change Emil\nfor sent in val_features:\n    # `encode_plus` will:\n    #   (1) Tokenize the sentence.\n    #   (2) Prepend the `[CLS]` token to the start.\n    #   (3) Append the `[SEP]` token to the end.\n    #   (4) Map tokens to their IDs.\n    #   (5) Pad or truncate the sentence to `max_length`\n    #   (6) Create attention masks for [PAD] tokens.\n    encoded_dict = tokenizer.encode_plus(\n                        sent,                      # Sentence to encode.\n                        add_special_tokens = True, # Add '[CLS]' and '[SEP]'\n                        max_length = 256,           # Pad & truncate all sentences.\n                        pad_to_max_length = True,\n                        truncation=True,\n                        return_attention_mask = True,   # Construct attn. masks.\n                        return_tensors = 'pt',     # Return pytorch tensors.\n                   )\n\n    # Add the encoded sentence to the list.\n    val_input_ids.append(encoded_dict['input_ids'])\n\n    # And its attention mask (simply differentiates padding from non-padding).\n    val_attention_masks.append(encoded_dict['attention_mask'])\n# Convert the lists into tensors.\nval_input_ids = torch.cat(val_input_ids, dim=0)\nval_attention_masks = torch.cat(val_attention_masks, dim=0)\n\n\n# Print sentence 0, now as a list of IDs.\nif vocal:\n    print('Original: ', val_features[0])\n    print('Token IDs:', val_attention_masks[0])\nprint(\"done\")",
   "metadata": {
    "execution": {
     "iopub.status.busy": "2024-05-16T18:45:40.784640Z",
     "iopub.execute_input": "2024-05-16T18:45:40.785025Z",
     "iopub.status.idle": "2024-05-16T18:45:41.017683Z",
     "shell.execute_reply.started": "2024-05-16T18:45:40.784990Z",
     "shell.execute_reply": "2024-05-16T18:45:41.016707Z"
    },
    "trusted": true,
    "ExecuteTime": {
     "end_time": "2024-05-31T19:10:39.128247Z",
     "start_time": "2024-05-31T19:10:19.541462Z"
    }
   },
   "outputs": [
    {
     "name": "stdout",
     "output_type": "stream",
     "text": [
      "done\n"
     ]
    }
   ],
   "execution_count": 14
  },
  {
   "cell_type": "code",
   "source": "test_input_ids = []\ntest_attention_masks = []\n# temp change Emil\nfor sent in test_features:\n    # `encode_plus` will:\n    #   (1) Tokenize the sentence.\n    #   (2) Prepend the `[CLS]` token to the start.\n    #   (3) Append the `[SEP]` token to the end.\n    #   (4) Map tokens to their IDs.\n    #   (5) Pad or truncate the sentence to `max_length`\n    #   (6) Create attention masks for [PAD] tokens.\n    encoded_dict = tokenizer.encode_plus(\n                        sent,                      # Sentence to encode.\n                        add_special_tokens = True, # Add '[CLS]' and '[SEP]'\n                        max_length = 256,           # Pad & truncate all sentences.\n                        pad_to_max_length = True,\n                        truncation=True,\n                        return_attention_mask = True,   # Construct attn. masks.\n                        return_tensors = 'pt',     # Return pytorch tensors.\n                   )\n\n    # Add the encoded sentence to the list.\n    test_input_ids.append(encoded_dict['input_ids'])\n\n    # And its attention mask (simply differentiates padding from non-padding).\n    test_attention_masks.append(encoded_dict['attention_mask'])\n# Convert the lists into tensors.\ntest_input_ids = torch.cat(test_input_ids, dim=0)\ntest_attention_masks = torch.cat(test_attention_masks, dim=0)\n\n\n# Print sentence 0, now as a list of IDs.\nif vocal:\n    print('Original: ', test_features[0])\n    print('Token IDs:', test_attention_masks[0])\nprint(\"done\")\n",
   "metadata": {
    "execution": {
     "iopub.status.busy": "2024-05-16T18:45:41.018963Z",
     "iopub.execute_input": "2024-05-16T18:45:41.019268Z",
     "iopub.status.idle": "2024-05-16T18:45:41.224923Z",
     "shell.execute_reply.started": "2024-05-16T18:45:41.019239Z",
     "shell.execute_reply": "2024-05-16T18:45:41.223812Z"
    },
    "trusted": true,
    "ExecuteTime": {
     "end_time": "2024-05-31T19:10:55.409909Z",
     "start_time": "2024-05-31T19:10:39.128953Z"
    }
   },
   "outputs": [
    {
     "name": "stdout",
     "output_type": "stream",
     "text": [
      "done\n"
     ]
    }
   ],
   "execution_count": 15
  },
  {
   "cell_type": "code",
   "source": "# temp change Emil\ntrain_labels_final = torch.tensor(train_labels_final)\nval_labels_final = torch.tensor(val_labels_final)\ntest_labels_final = torch.tensor(test_labels_final)",
   "metadata": {
    "execution": {
     "iopub.status.busy": "2024-05-16T18:45:41.226577Z",
     "iopub.execute_input": "2024-05-16T18:45:41.226915Z",
     "iopub.status.idle": "2024-05-16T18:45:41.232684Z",
     "shell.execute_reply.started": "2024-05-16T18:45:41.226884Z",
     "shell.execute_reply": "2024-05-16T18:45:41.231582Z"
    },
    "trusted": true,
    "ExecuteTime": {
     "end_time": "2024-05-31T19:10:55.412058Z",
     "start_time": "2024-05-31T19:10:55.410377Z"
    }
   },
   "outputs": [],
   "execution_count": 16
  },
  {
   "cell_type": "code",
   "source": "val_labels_final.shape, len(val_input_ids)",
   "metadata": {
    "execution": {
     "iopub.status.busy": "2024-05-16T18:45:41.233999Z",
     "iopub.execute_input": "2024-05-16T18:45:41.234351Z",
     "iopub.status.idle": "2024-05-16T18:45:41.243772Z",
     "shell.execute_reply.started": "2024-05-16T18:45:41.234321Z",
     "shell.execute_reply": "2024-05-16T18:45:41.242897Z"
    },
    "trusted": true,
    "ExecuteTime": {
     "end_time": "2024-05-31T19:10:55.423518Z",
     "start_time": "2024-05-31T19:10:55.412454Z"
    }
   },
   "outputs": [
    {
     "data": {
      "text/plain": [
       "(torch.Size([3084]), 3084)"
      ]
     },
     "execution_count": 17,
     "metadata": {},
     "output_type": "execute_result"
    }
   ],
   "execution_count": 17
  },
  {
   "cell_type": "code",
   "source": "num_classes = len(list(set(train_labels)))\nlist(set(train_labels)), num_classes",
   "metadata": {
    "execution": {
     "iopub.status.busy": "2024-05-16T18:45:41.245080Z",
     "iopub.execute_input": "2024-05-16T18:45:41.245419Z",
     "iopub.status.idle": "2024-05-16T18:45:41.256940Z",
     "shell.execute_reply.started": "2024-05-16T18:45:41.245387Z",
     "shell.execute_reply": "2024-05-16T18:45:41.256169Z"
    },
    "trusted": true,
    "ExecuteTime": {
     "end_time": "2024-05-31T19:10:55.431815Z",
     "start_time": "2024-05-31T19:10:55.423895Z"
    }
   },
   "outputs": [
    {
     "data": {
      "text/plain": [
       "(['Conflicting', 'False', 'True'], 3)"
      ]
     },
     "execution_count": 18,
     "metadata": {},
     "output_type": "execute_result"
    }
   ],
   "execution_count": 18
  },
  {
   "cell_type": "code",
   "source": "from torch.utils.data import TensorDataset, random_split\n# train_poincare_tensor = torch.tensor(poincare_embeddings_final,dtype=torch.float)\n# difficulty_tensor = torch.tensor(difficulty_level_vectors,dtype=torch.float)\n# Combine the training inputs into a TensorDataset.\ndataset = TensorDataset(input_ids, attention_masks, train_labels_final)\nval_dataset = TensorDataset(val_input_ids, val_attention_masks,val_labels_final)\ntest_dataset = TensorDataset(test_input_ids, test_attention_masks,test_labels_final)",
   "metadata": {
    "execution": {
     "iopub.status.busy": "2024-05-16T18:45:41.257946Z",
     "iopub.execute_input": "2024-05-16T18:45:41.258246Z",
     "iopub.status.idle": "2024-05-16T18:45:41.265448Z",
     "shell.execute_reply.started": "2024-05-16T18:45:41.258209Z",
     "shell.execute_reply": "2024-05-16T18:45:41.264524Z"
    },
    "trusted": true,
    "ExecuteTime": {
     "end_time": "2024-05-31T19:10:55.443744Z",
     "start_time": "2024-05-31T19:10:55.432195Z"
    }
   },
   "outputs": [],
   "execution_count": 19
  },
  {
   "cell_type": "code",
   "source": "from torch.utils.data import DataLoader, RandomSampler, SequentialSampler\n\ntrain_dataloader = DataLoader(\n            dataset,  # The training samples.\n            sampler = RandomSampler(dataset), # Select batches randomly\n            batch_size = batch_size # Trains with this batch size.\n        )\n\nvalidation_dataloader = DataLoader(\n            val_dataset, # The validation samples.\n            sampler = SequentialSampler(val_dataset),\n            batch_size = batch_size\n        )\n\ntest_dataloader = DataLoader(\n            test_dataset, # The validation samples.\n            sampler = SequentialSampler(test_dataset),\n            batch_size = batch_size\n        )",
   "metadata": {
    "execution": {
     "iopub.status.busy": "2024-05-16T18:45:41.266435Z",
     "iopub.execute_input": "2024-05-16T18:45:41.266702Z",
     "iopub.status.idle": "2024-05-16T18:45:41.279347Z",
     "shell.execute_reply.started": "2024-05-16T18:45:41.266678Z",
     "shell.execute_reply": "2024-05-16T18:45:41.278445Z"
    },
    "trusted": true,
    "ExecuteTime": {
     "end_time": "2024-05-31T19:10:55.455890Z",
     "start_time": "2024-05-31T19:10:55.444150Z"
    }
   },
   "outputs": [],
   "execution_count": 20
  },
  {
   "cell_type": "code",
   "source": "from torch import nn\nclass MultiClassClassifier(nn.Module):\n    def __init__(self, inner_model_path, labels_count, hidden_dim=768, mlp_dim=500, extras_dim=100, dropout=0.1, freeze_inner_model=False):\n        super().__init__()\n\n        self.inner_model = AutoModel.from_pretrained(inner_model_path,output_hidden_states=True,output_attentions=True)\n        self.dropout = nn.Dropout(dropout)\n        self.mlp = nn.Sequential(\n            nn.Linear(hidden_dim, mlp_dim),\n            nn.ReLU(),\n            # nn.Linear(mlp_dim, mlp_dim),\n            # # nn.ReLU(),\n            # # nn.Linear(mlp_dim, mlp_dim),\n            # nn.ReLU(),\n            nn.Linear(mlp_dim, labels_count)\n        )\n        # self.softmax = nn.LogSoftmax(dim=1)\n        # TODO, make such that possible with different models\n        if freeze_inner_model:\n            print(\"Freezing layers\")\n            for param in self.inner_model.parameters():\n                param.requires_grad = False\n\n    def forward(self, tokens, masks):\n        output = self.inner_model(tokens, attention_mask=masks)\n        # bart-large-mnli doesn't have \"pooler_output\" like BERT and RoBERTa do\n        # dropout_output = self.dropout(output[\"pooler_output\"])\n        last_hidden_state = output.last_hidden_state  # Get the last hidden state\n        class_token = last_hidden_state[:, 0, :]  # Get the class token\n        mlp_output = self.dropout(class_token)\n        mlp_output = self.mlp(mlp_output)\n        # concat_output = torch.cat((dropout_output, topic_emb), dim=1)\n        # concat_output = self.dropout(concat_output)\n        # mlp_output = self.mlp(dropout_output)\n        # proba = self.sigmoid(mlp_output)\n        # proba = self.softmax(mlp_output)\n\n        return mlp_output",
   "metadata": {
    "execution": {
     "iopub.status.busy": "2024-05-16T18:45:41.280446Z",
     "iopub.execute_input": "2024-05-16T18:45:41.280799Z",
     "iopub.status.idle": "2024-05-16T18:45:41.290726Z",
     "shell.execute_reply.started": "2024-05-16T18:45:41.280747Z",
     "shell.execute_reply": "2024-05-16T18:45:41.289840Z"
    },
    "trusted": true,
    "ExecuteTime": {
     "end_time": "2024-05-31T19:10:55.465810Z",
     "start_time": "2024-05-31T19:10:55.456291Z"
    }
   },
   "outputs": [],
   "execution_count": 21
  },
  {
   "cell_type": "code",
   "source": [
    "from transformers import AutoModelForSequenceClassification, AdamW, BertConfig\n",
    "\n",
    "# Loads AutoModelForSequenceClassification, the pretrained BART model with a single\n",
    "model = MultiClassClassifier(model_dir,num_classes, input_dimension,mlp_dim,140,dropout=dropout,freeze_inner_model=False)\n",
    "\n",
    "# model.load_state_dict(torch.load(\"model_bert_difficulty_prediction/model_weights\"))\n",
    "\n",
    "# Tell pytorch to run this model on the GPU.\n",
    "model.cuda()"
   ],
   "metadata": {
    "execution": {
     "iopub.status.busy": "2024-05-16T18:45:41.291732Z",
     "iopub.execute_input": "2024-05-16T18:45:41.292026Z",
     "iopub.status.idle": "2024-05-16T18:45:41.946538Z",
     "shell.execute_reply.started": "2024-05-16T18:45:41.292003Z",
     "shell.execute_reply": "2024-05-16T18:45:41.945552Z"
    },
    "trusted": true,
    "ExecuteTime": {
     "end_time": "2024-05-31T19:10:56.765296Z",
     "start_time": "2024-05-31T19:10:55.466194Z"
    }
   },
   "outputs": [
    {
     "name": "stderr",
     "output_type": "stream",
     "text": [
      "/home/jan/anaconda3/envs/pytorch/lib/python3.10/site-packages/huggingface_hub/file_download.py:1132: FutureWarning: `resume_download` is deprecated and will be removed in version 1.0.0. Downloads always resume when possible. If you want to force a new download, use `force_download=True`.\n",
      "  warnings.warn(\n"
     ]
    },
    {
     "data": {
      "text/plain": [
       "MultiClassClassifier(\n",
       "  (inner_model): BartModel(\n",
       "    (shared): Embedding(50265, 1024, padding_idx=1)\n",
       "    (encoder): BartEncoder(\n",
       "      (embed_tokens): Embedding(50265, 1024, padding_idx=1)\n",
       "      (embed_positions): BartLearnedPositionalEmbedding(1026, 1024)\n",
       "      (layers): ModuleList(\n",
       "        (0-11): 12 x BartEncoderLayer(\n",
       "          (self_attn): BartSdpaAttention(\n",
       "            (k_proj): Linear(in_features=1024, out_features=1024, bias=True)\n",
       "            (v_proj): Linear(in_features=1024, out_features=1024, bias=True)\n",
       "            (q_proj): Linear(in_features=1024, out_features=1024, bias=True)\n",
       "            (out_proj): Linear(in_features=1024, out_features=1024, bias=True)\n",
       "          )\n",
       "          (self_attn_layer_norm): LayerNorm((1024,), eps=1e-05, elementwise_affine=True)\n",
       "          (activation_fn): GELUActivation()\n",
       "          (fc1): Linear(in_features=1024, out_features=4096, bias=True)\n",
       "          (fc2): Linear(in_features=4096, out_features=1024, bias=True)\n",
       "          (final_layer_norm): LayerNorm((1024,), eps=1e-05, elementwise_affine=True)\n",
       "        )\n",
       "      )\n",
       "      (layernorm_embedding): LayerNorm((1024,), eps=1e-05, elementwise_affine=True)\n",
       "    )\n",
       "    (decoder): BartDecoder(\n",
       "      (embed_tokens): Embedding(50265, 1024, padding_idx=1)\n",
       "      (embed_positions): BartLearnedPositionalEmbedding(1026, 1024)\n",
       "      (layers): ModuleList(\n",
       "        (0-11): 12 x BartDecoderLayer(\n",
       "          (self_attn): BartSdpaAttention(\n",
       "            (k_proj): Linear(in_features=1024, out_features=1024, bias=True)\n",
       "            (v_proj): Linear(in_features=1024, out_features=1024, bias=True)\n",
       "            (q_proj): Linear(in_features=1024, out_features=1024, bias=True)\n",
       "            (out_proj): Linear(in_features=1024, out_features=1024, bias=True)\n",
       "          )\n",
       "          (activation_fn): GELUActivation()\n",
       "          (self_attn_layer_norm): LayerNorm((1024,), eps=1e-05, elementwise_affine=True)\n",
       "          (encoder_attn): BartSdpaAttention(\n",
       "            (k_proj): Linear(in_features=1024, out_features=1024, bias=True)\n",
       "            (v_proj): Linear(in_features=1024, out_features=1024, bias=True)\n",
       "            (q_proj): Linear(in_features=1024, out_features=1024, bias=True)\n",
       "            (out_proj): Linear(in_features=1024, out_features=1024, bias=True)\n",
       "          )\n",
       "          (encoder_attn_layer_norm): LayerNorm((1024,), eps=1e-05, elementwise_affine=True)\n",
       "          (fc1): Linear(in_features=1024, out_features=4096, bias=True)\n",
       "          (fc2): Linear(in_features=4096, out_features=1024, bias=True)\n",
       "          (final_layer_norm): LayerNorm((1024,), eps=1e-05, elementwise_affine=True)\n",
       "        )\n",
       "      )\n",
       "      (layernorm_embedding): LayerNorm((1024,), eps=1e-05, elementwise_affine=True)\n",
       "    )\n",
       "  )\n",
       "  (dropout): Dropout(p=0.1, inplace=False)\n",
       "  (mlp): Sequential(\n",
       "    (0): Linear(in_features=1024, out_features=500, bias=True)\n",
       "    (1): ReLU()\n",
       "    (2): Linear(in_features=500, out_features=3, bias=True)\n",
       "  )\n",
       ")"
      ]
     },
     "execution_count": 22,
     "metadata": {},
     "output_type": "execute_result"
    }
   ],
   "execution_count": 22
  },
  {
   "cell_type": "code",
   "source": "import numpy as np\n\n# Function to calculate the accuracy of our predictions vs labels\ndef flat_accuracy(preds, labels):\n    pred_flat = np.argmax(preds, axis=1).flatten()\n    labels_flat = labels.flatten()\n    return np.sum(pred_flat == labels_flat) / len(labels_flat)",
   "metadata": {
    "execution": {
     "iopub.status.busy": "2024-05-16T18:45:41.949853Z",
     "iopub.execute_input": "2024-05-16T18:45:41.950148Z",
     "iopub.status.idle": "2024-05-16T18:45:41.955108Z",
     "shell.execute_reply.started": "2024-05-16T18:45:41.950122Z",
     "shell.execute_reply": "2024-05-16T18:45:41.954229Z"
    },
    "trusted": true,
    "ExecuteTime": {
     "end_time": "2024-05-31T19:10:56.767737Z",
     "start_time": "2024-05-31T19:10:56.765816Z"
    }
   },
   "outputs": [],
   "execution_count": 23
  },
  {
   "cell_type": "code",
   "source": "import time\nimport datetime\n\ndef format_time(elapsed):\n    '''\n    Takes a time in seconds and returns a string hh:mm:ss\n    '''\n    # Round to the nearest second.\n    elapsed_rounded = int(round((elapsed)))\n\n    # Format as hh:mm:ss\n    return str(datetime.timedelta(seconds=elapsed_rounded))",
   "metadata": {
    "execution": {
     "iopub.status.busy": "2024-05-16T18:45:41.956433Z",
     "iopub.execute_input": "2024-05-16T18:45:41.956734Z",
     "iopub.status.idle": "2024-05-16T18:45:41.964686Z",
     "shell.execute_reply.started": "2024-05-16T18:45:41.956709Z",
     "shell.execute_reply": "2024-05-16T18:45:41.963832Z"
    },
    "trusted": true,
    "ExecuteTime": {
     "end_time": "2024-05-31T19:10:56.778431Z",
     "start_time": "2024-05-31T19:10:56.768112Z"
    }
   },
   "outputs": [],
   "execution_count": 24
  },
  {
   "cell_type": "code",
   "source": "class EarlyStopping:\n    \"\"\"Early stops the training if validation loss doesn't improve after a given patience.\"\"\"\n    def __init__(self, patience=7, verbose=False, delta=0, path='checkpoint.pt', trace_func=print):\n        \"\"\"\n        Args:\n            patience (int): How long to wait after last time validation loss improved.\n                            Default: 7\n            verbose (bool): If True, prints a message for each validation loss improvement.\n                            Default: False\n            delta (float): Minimum change in the monitored quantity to qualify as an improvement.\n                            Default: 0\n            path (str): Path for the checkpoint to be saved to.\n                            Default: 'checkpoint.pt'\n            trace_func (function): trace print function.\n                            Default: print\n        \"\"\"\n        self.patience = patience\n        self.verbose = verbose\n        self.counter = 0\n        self.best_score = None\n        self.early_stop = False\n        self.val_loss_min = np.Inf\n        self.delta = delta\n        self.path = path\n        self.trace_func = trace_func\n    def __call__(self, val_loss, model):\n\n        score = -val_loss\n\n        if self.best_score is None:\n            self.best_score = score\n            self.save_checkpoint(val_loss, model)\n        elif score < self.best_score + self.delta:\n            self.counter += 1\n            self.trace_func(f'EarlyStopping counter: {self.counter} out of {self.patience}')\n            if self.counter >= self.patience:\n                self.early_stop = True\n        else:\n            self.best_score = score\n            self.save_checkpoint(val_loss, model)\n            self.counter = 0\n\n    def save_checkpoint(self, val_loss, model):\n        '''Saves model when validation loss decrease.'''\n        if self.verbose:\n            self.trace_func(f'Validation loss decreased ({self.val_loss_min:.6f} --> {val_loss:.6f}).  Saving model ...')\n        torch.save(model.state_dict(), self.path)\n        self.val_loss_min = val_loss",
   "metadata": {
    "execution": {
     "iopub.status.busy": "2024-05-16T18:45:41.965860Z",
     "iopub.execute_input": "2024-05-16T18:45:41.966185Z",
     "iopub.status.idle": "2024-05-16T18:45:41.977271Z",
     "shell.execute_reply.started": "2024-05-16T18:45:41.966153Z",
     "shell.execute_reply": "2024-05-16T18:45:41.976407Z"
    },
    "trusted": true,
    "ExecuteTime": {
     "end_time": "2024-05-31T19:10:56.787749Z",
     "start_time": "2024-05-31T19:10:56.778800Z"
    }
   },
   "outputs": [],
   "execution_count": 25
  },
  {
   "cell_type": "code",
   "source": "\nif freeze:\n    if model_type == \"gpt\":\n        for param in model.inner_model.h[:-1].parameters():\n            param.requires_grad=False\n    elif model_type == \"bert\":\n        for param in model.inner_model.encoder.layer[:-1].parameters():\n            param.requires_grad = False\n    else:\n        for param in model.inner_model.layers[:-1].parameters():\n            param.requires_grad=False\n",
   "metadata": {
    "execution": {
     "iopub.status.busy": "2024-05-16T18:45:41.978391Z",
     "iopub.execute_input": "2024-05-16T18:45:41.978796Z",
     "iopub.status.idle": "2024-05-16T18:45:41.991594Z",
     "shell.execute_reply.started": "2024-05-16T18:45:41.978748Z",
     "shell.execute_reply": "2024-05-16T18:45:41.990645Z"
    },
    "trusted": true,
    "ExecuteTime": {
     "end_time": "2024-05-31T19:10:56.800728Z",
     "start_time": "2024-05-31T19:10:56.788120Z"
    }
   },
   "outputs": [],
   "execution_count": 26
  },
  {
   "cell_type": "code",
   "source": "import random\nimport numpy as np\nfrom transformers import get_linear_schedule_with_warmup\n\n# This training code is based on the `run_glue.py` script here:\n# https://github.com/huggingface/transformers/blob/5bfcd0485ece086ebcbed2d008813037968a9e58/examples/run_glue.py#L128\n\n# Set the seed value all over the place to make this reproducible.\nseed_val = 42\n\nrandom.seed(seed_val)\nnp.random.seed(seed_val)\ntorch.manual_seed(seed_val)\ntorch.cuda.manual_seed_all(seed_val)\n\noptimizer = AdamW(model.parameters(), lr = 2e-5, eps = 1e-8)\nloss_func = nn.CrossEntropyLoss()\n# Total number of training steps is [number of batches] x [number of epochs].\ntotal_steps = len(train_dataloader) * epochs\nscheduler = get_linear_schedule_with_warmup(optimizer,\n                                            num_warmup_steps = 0, # Default value in run_glue.py\n                                            num_training_steps = total_steps)\n\n# We'll store a number of quantities such as training and validation loss,\n# validation accuracy, and timings.\ntraining_stats = []\n\n# Measure the total training time for the whole run.\ntotal_t0 = time.time()\nearly_stopping = EarlyStopping(patience=2, verbose=True)\n# For each epoch...\nfor epoch_i in range(0, epochs):\n\n    # ========================================\n    #               Training\n    # ========================================\n\n    # Perform one full pass over the training set.\n\n    print(\"\")\n    print('======== Epoch {:} / {:} ========'.format(epoch_i + 1, epochs))\n    print('Training...')\n\n    # Measure how long the training epoch takes.\n    t0 = time.time()\n\n    # Reset the total loss for this epoch.\n    total_train_accuracy = 0\n    total_train_loss = 0\n\n    # Put the model into training mode. Don't be mislead--the call to\n    # `train` just changes the *mode*, it doesn't *perform* the training.\n    # `dropout` and `batchnorm` layers behave differently during training\n    # vs. test (source: https://stackoverflow.com/questimport gensim.downloader as api\n    model.train()\n\n    # For each batch of training data...\n    for step, batch in enumerate(train_dataloader):\n\n        # Progress update every 40 batches.\n        if step % 40 == 0 and not step == 0:\n            # Calculate elapsed time in minutes.\n            elapsed = format_time(time.time() - t0)\n\n            # Report progress.\n            print('  Batch {:>5,}  of  {:>5,}.    Elapsed: {:}.'.format(step, len(train_dataloader), elapsed))\n\n        # Unpack this training batch from our dataloader.\n        #\n        # As we unpack the batch, we'll also copy each tensor to the GPU using the\n        # `to` method.\n        #\n        # `batch` contains three pytorch tensors:\n        #   [0]: input ids\n        #   [1]: attention masks\n        #   [2]: labels\n\n        b_input_ids = batch[0].to(device)\n        b_input_mask = batch[1].to(device)\n        # b_poincare = batch[2].to(device)\n        # b_difficulty = batch[3].to(device)\n        b_labels = batch[2].to(device)\n        # skill_labels = batch[3].to(device)\n\n        # Always clear any previously calculated gradients before performing a\n        # backward pass. PyTorch doesn't do this automatically because\n        # accumulating the gradients is \"convenient while training RNNs\".\n        # (source: https://stackoverflow.com/questions/48001598/why-do-we-need-to-call-zero-grad-in-pytorch)\n        model.zero_grad()\n\n        # Perform a forward pass (evaluate the model on this training batch).\n        probas = model(b_input_ids,b_input_mask)\n\n        # Accumulate the training loss over all of the batches so that we can\n        # calculate the average loss at the end. `loss` is a Tensor containing a\n        # single value; the `.item()` function just returns the Python value\n        # from the tensor.\n        loss = loss_func(probas, b_labels)\n        total_train_loss += loss.item()\n\n        # Perform a backward pass to calculate the gradients.\n        loss.backward()\n\n        # Clip the norm of the gradients to 1.0.\n        # This is to help prevent the \"exploding gradients\" problem.\n        # torch.nn.utils.clip_grad_norm_(model.parameters(), 1.0)\n\n        # Update parameters and take a step using the computed gradient.\n        # The optimizer dictates the \"update rule\"--how the parameters are\n        # modified based on their gradients, the learning rate, etc.\n        optimizer.step()\n\n        # Update the learning rate.\n        # scheduler.step()\n        logits = probas.detach().cpu().numpy()\n        label_ids = b_labels.to('cpu').numpy()\n        total_train_accuracy += flat_accuracy(logits, label_ids)\n    avg_train_accuracy = total_train_accuracy / len(train_dataloader)\n    print(\" Train Accuracy: {0:.2f}\".format(avg_train_accuracy))\n\n    # Calculate the average loss over all of the batches.\n    avg_train_loss = total_train_loss / len(train_dataloader)\n\n\n\n    # Measure how long this epoch took.\n    training_time = format_time(time.time() - t0)\n\n    print(\"\")\n    print(\"  Average training loss: {0:.2f}\".format(avg_train_loss))\n    print(\"  Training epcoh took: {:}\".format(training_time))\n\n    # ========================================\n    #               Validation\n    # ========================================\n    # After the completion of each training epoch, measure our performance on\n    # our validation set.\n\n    print(\"\")\n    print(\"Running Validation...\")\n\n    t0 = time.time()\n\n    # Put the model in evaluation mode--the dropout layers behave differently\n    # during evaluation.\n    model.eval()\n\n    # Tracking variables\n    total_eval_accuracy = 0\n    total_eval_loss = 0\n    nb_eval_steps = 0\n\n    # Evaluate data for one epoch\n    for batch in validation_dataloader:\n\n        # Unpack this training batch from our dataloader.\n        #\n        # As we unpack the batch, we'll also copy each tensor to the GPU using\n        # the `to` method.\n        #\n        # `batch` contains three pytorch tensors:\n        #   [0]: input ids\n        #   [1]: attention masks\n        #   [2]: labels\n        b_input_ids = batch[0].to(device)\n\n        b_input_mask = batch[1].to(device)\n        # b_poincare = batch[2].to(device)\n        # b_difficulty = batch[3].to(device)\n        b_labels = batch[2].to(device)\n        # skill_labels = batch[3].to(device)\n\n        # Tell pytorch not to bother with constructing the compute graph during\n        # the forward pass, since this is only needed for backprop (training).\n        with torch.no_grad():\n\n            # Forward pass, calculate logit predictions.\n\n            logits = model(b_input_ids,b_input_mask)\n\n        # Accumulate the validation loss.\n        loss = loss_func(logits, b_labels)\n        total_eval_loss += loss.item()\n\n        # Move logits and labels to CPU\n        logits = logits.detach().cpu().numpy()\n        label_ids = b_labels.to('cpu').numpy()\n\n        # Calculate the accuracy for this batch of test sentences, and\n        # accumulate it over all batches.\n        total_eval_accuracy += flat_accuracy(logits, label_ids)\n\n\n    # Report the final accuracy for this validation run.\n    avg_val_accuracy = total_eval_accuracy / len(validation_dataloader)\n    print(\"  Accuracy: {0:.2f}\".format(avg_val_accuracy))\n\n    # Calculate the average loss over all of the batches.\n    avg_val_loss = total_eval_loss / len(validation_dataloader)\n    early_stopping(avg_val_loss, model)\n    if early_stopping.early_stop:\n        print(\"Early stopping\")\n        break\n    # Measure how long the validation run took.\n    validation_time = format_time(time.time() - t0)\n\n    print(\"  Validation Loss: {0:.2f}\".format(avg_val_loss))\n    print(\"  Validation took: {:}\".format(validation_time))\n    output_dir = 'model_bart_large_oracle/'\n    if not os.path.exists(output_dir):\n        os.makedirs(output_dir)\n\n    print(\"Saving model to %s\" % output_dir)\n    tokenizer.save_pretrained(output_dir)\n    torch.save(model.state_dict(), os.path.join(output_dir, 'model_weights'))\n\n    # Record all statistics from this epoch.\n    training_stats.append(\n        {\n            'epoch': epoch_i + 1,\n            'Training Loss': avg_train_loss,\n            'Valid. Loss': avg_val_loss,\n            'Valid. Accur.': avg_val_accuracy,\n            'Training Time': training_time,\n            'Validation Time': validation_time\n        }\n    )\n\nprint(\"\")\nprint(\"Training complete!\")\n\nprint(\"Total training took {:} (h:mm:ss)\".format(format_time(time.time()-total_t0)))",
   "metadata": {
    "execution": {
     "iopub.status.busy": "2024-05-16T18:45:41.992755Z",
     "iopub.execute_input": "2024-05-16T18:45:41.993298Z",
     "iopub.status.idle": "2024-05-16T18:45:54.460819Z",
     "shell.execute_reply.started": "2024-05-16T18:45:41.993258Z",
     "shell.execute_reply": "2024-05-16T18:45:54.459426Z"
    },
    "trusted": true,
    "ExecuteTime": {
     "end_time": "2024-05-31T19:23:12.877428Z",
     "start_time": "2024-05-31T19:10:56.801150Z"
    }
   },
   "outputs": [
    {
     "name": "stderr",
     "output_type": "stream",
     "text": [
      "/home/jan/anaconda3/envs/pytorch/lib/python3.10/site-packages/transformers/optimization.py:521: FutureWarning: This implementation of AdamW is deprecated and will be removed in a future version. Use the PyTorch implementation torch.optim.AdamW instead, or set `no_deprecation_warning=True` to disable this warning\n",
      "  warnings.warn(\n",
      "BartModel is using BartSdpaAttention, but `torch.nn.functional.scaled_dot_product_attention` does not support `output_attentions=True` or `layer_head_mask` not None. Falling back to the manual attention implementation, but specifying the manual implementation will be required from Transformers version v5.0.0 onwards. This warning can be removed using the argument `attn_implementation=\"eager\"` when loading the model.\n"
     ]
    },
    {
     "name": "stdout",
     "output_type": "stream",
     "text": [
      "\n",
      "======== Epoch 1 / 20 ========\n",
      "Training...\n",
      "  Batch    40  of    621.    Elapsed: 0:00:14.\n",
      "  Batch    80  of    621.    Elapsed: 0:00:29.\n",
      "  Batch   120  of    621.    Elapsed: 0:00:43.\n",
      "  Batch   160  of    621.    Elapsed: 0:00:57.\n",
      "  Batch   200  of    621.    Elapsed: 0:01:12.\n",
      "  Batch   240  of    621.    Elapsed: 0:01:26.\n",
      "  Batch   280  of    621.    Elapsed: 0:01:40.\n",
      "  Batch   320  of    621.    Elapsed: 0:01:55.\n",
      "  Batch   360  of    621.    Elapsed: 0:02:09.\n",
      "  Batch   400  of    621.    Elapsed: 0:02:23.\n",
      "  Batch   440  of    621.    Elapsed: 0:02:38.\n",
      "  Batch   480  of    621.    Elapsed: 0:02:52.\n",
      "  Batch   520  of    621.    Elapsed: 0:03:07.\n",
      "  Batch   560  of    621.    Elapsed: 0:03:21.\n",
      "  Batch   600  of    621.    Elapsed: 0:03:35.\n",
      " Train Accuracy: 0.62\n",
      "\n",
      "  Average training loss: 0.83\n",
      "  Training epcoh took: 0:03:43\n",
      "\n",
      "Running Validation...\n",
      "  Accuracy: 0.66\n",
      "Validation loss decreased (inf --> 0.758536).  Saving model ...\n",
      "  Validation Loss: 0.76\n",
      "  Validation took: 0:00:23\n",
      "Saving model to model_bart_large_oracle/\n",
      "\n",
      "======== Epoch 2 / 20 ========\n",
      "Training...\n",
      "  Batch    40  of    621.    Elapsed: 0:00:14.\n",
      "  Batch    80  of    621.    Elapsed: 0:00:29.\n",
      "  Batch   120  of    621.    Elapsed: 0:00:43.\n",
      "  Batch   160  of    621.    Elapsed: 0:00:58.\n",
      "  Batch   200  of    621.    Elapsed: 0:01:12.\n",
      "  Batch   240  of    621.    Elapsed: 0:01:26.\n",
      "  Batch   280  of    621.    Elapsed: 0:01:41.\n",
      "  Batch   320  of    621.    Elapsed: 0:01:55.\n",
      "  Batch   360  of    621.    Elapsed: 0:02:09.\n",
      "  Batch   400  of    621.    Elapsed: 0:02:24.\n",
      "  Batch   440  of    621.    Elapsed: 0:02:38.\n",
      "  Batch   480  of    621.    Elapsed: 0:02:52.\n",
      "  Batch   520  of    621.    Elapsed: 0:03:07.\n",
      "  Batch   560  of    621.    Elapsed: 0:03:21.\n",
      "  Batch   600  of    621.    Elapsed: 0:03:35.\n",
      " Train Accuracy: 0.67\n",
      "\n",
      "  Average training loss: 0.73\n",
      "  Training epcoh took: 0:03:43\n",
      "\n",
      "Running Validation...\n",
      "  Accuracy: 0.64\n",
      "EarlyStopping counter: 1 out of 2\n",
      "  Validation Loss: 0.77\n",
      "  Validation took: 0:00:21\n",
      "Saving model to model_bart_large_oracle/\n",
      "\n",
      "======== Epoch 3 / 20 ========\n",
      "Training...\n",
      "  Batch    40  of    621.    Elapsed: 0:00:14.\n",
      "  Batch    80  of    621.    Elapsed: 0:00:29.\n",
      "  Batch   120  of    621.    Elapsed: 0:00:43.\n",
      "  Batch   160  of    621.    Elapsed: 0:00:57.\n",
      "  Batch   200  of    621.    Elapsed: 0:01:12.\n",
      "  Batch   240  of    621.    Elapsed: 0:01:26.\n",
      "  Batch   280  of    621.    Elapsed: 0:01:41.\n",
      "  Batch   320  of    621.    Elapsed: 0:01:55.\n",
      "  Batch   360  of    621.    Elapsed: 0:02:09.\n",
      "  Batch   400  of    621.    Elapsed: 0:02:24.\n",
      "  Batch   440  of    621.    Elapsed: 0:02:38.\n",
      "  Batch   480  of    621.    Elapsed: 0:02:52.\n",
      "  Batch   520  of    621.    Elapsed: 0:03:07.\n",
      "  Batch   560  of    621.    Elapsed: 0:03:21.\n",
      "  Batch   600  of    621.    Elapsed: 0:03:35.\n",
      " Train Accuracy: 0.72\n",
      "\n",
      "  Average training loss: 0.63\n",
      "  Training epcoh took: 0:03:43\n",
      "\n",
      "Running Validation...\n",
      "  Accuracy: 0.66\n",
      "EarlyStopping counter: 2 out of 2\n",
      "Early stopping\n",
      "\n",
      "Training complete!\n",
      "Total training took 0:12:16 (h:mm:ss)\n"
     ]
    }
   ],
   "execution_count": 27
  },
  {
   "cell_type": "code",
   "source": [
    "print(\"testing\")\n",
    "\n",
    "# Tracking variables\n",
    "total_test_accuracy = 0\n",
    "total_test_loss = 0\n",
    "nb_test_steps = 0\n",
    "\n",
    "all_predictions = []\n",
    "\n",
    "# Evaluate data for one epoch\n",
    "for batch in test_dataloader:\n",
    "\n",
    "    # Unpack this training batch from our dataloader.\n",
    "    #\n",
    "    # As we unpack the batch, we'll also copy each tensor to the GPU using\n",
    "    # the `to` method.\n",
    "    #\n",
    "    # `batch` contains three pytorch tensors:\n",
    "    #   [0]: input ids\n",
    "    #   [1]: attention masks\n",
    "    #   [2]: labels\n",
    "    b_input_ids = batch[0].to(device)\n",
    "\n",
    "    b_input_mask = batch[1].to(device)\n",
    "    # b_poincare = batch[2].to(device)\n",
    "    # b_difficulty = batch[3].to(device)\n",
    "    b_labels = batch[2].to(device)\n",
    "    # skill_labels = batch[3].to(device)\n",
    "\n",
    "    # Tell pytorch not to bother with constructing the compute graph during\n",
    "    # the forward pass, since this is only needed for backprop (training).\n",
    "    with torch.no_grad():\n",
    "\n",
    "        # Forward pass, calculate logit predictions.\n",
    "        logits = model(b_input_ids,b_input_mask)\n",
    "\n",
    "    # Accumulate the validation loss.\n",
    "    loss = loss_func(logits, b_labels)\n",
    "    total_test_loss += loss.item()\n",
    "\n",
    "    # Move logits and labels to CPU\n",
    "    logits = logits.detach().cpu().numpy()\n",
    "    label_ids = b_labels.to('cpu').numpy()\n",
    "\n",
    "    # Calculate the accuracy for this batch of test sentences, and\n",
    "    # accumulate it over all batches.\n",
    "    total_test_accuracy += flat_accuracy(logits, label_ids)\n",
    "    \n",
    "    predictions = np.argmax(logits, axis=1)\n",
    "    all_predictions.extend(predictions.tolist())\n",
    "\n",
    "\n",
    "# Report the final accuracy for this validation run.\n",
    "avg_val_accuracy = total_test_accuracy / len(test_dataloader)\n",
    "print(\"  Accuracy: {0:.2f}\".format(avg_val_accuracy))\n",
    "\n",
    "# Calculate the average loss over all of the batches.\n",
    "avg_val_loss = total_test_loss / len(test_dataloader)\n",
    "# Measure how long the validation run took.\n",
    "\n",
    "print(\"  Validation Loss: {0:.2f}\".format(avg_val_loss))\n",
    "import csv\n",
    "with open('predictions.csv', 'w', newline='') as file:\n",
    "    writer = csv.writer(file)\n",
    "    \n",
    "    # Write the list as a single row in the CSV\n",
    "    writer.writerow(all_predictions)\n"
   ],
   "metadata": {
    "execution": {
     "iopub.status.busy": "2024-05-16T18:45:56.229462Z",
     "iopub.execute_input": "2024-05-16T18:45:56.230135Z",
     "iopub.status.idle": "2024-05-16T18:45:56.451432Z",
     "shell.execute_reply.started": "2024-05-16T18:45:56.230101Z",
     "shell.execute_reply": "2024-05-16T18:45:56.450525Z"
    },
    "trusted": true,
    "ExecuteTime": {
     "end_time": "2024-05-31T19:23:30.188242Z",
     "start_time": "2024-05-31T19:23:12.878159Z"
    }
   },
   "outputs": [
    {
     "name": "stdout",
     "output_type": "stream",
     "text": [
      "testing\n",
      "  Accuracy: 0.66\n",
      "  Validation Loss: 0.77\n"
     ]
    }
   ],
   "execution_count": 28
  }
 ]
}
