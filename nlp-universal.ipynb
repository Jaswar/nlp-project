{
 "metadata": {
  "kernelspec": {
   "display_name": "Python 3",
   "language": "python",
   "name": "python3"
  },
  "language_info": {
   "name": "python",
   "version": "3.10.13",
   "mimetype": "text/x-python",
   "codemirror_mode": {
    "name": "ipython",
    "version": 3
   },
   "pygments_lexer": "ipython3",
   "nbconvert_exporter": "python",
   "file_extension": ".py"
  },
  "kaggle": {
   "accelerator": "none",
   "dataSources": [
    {
     "sourceId": 8430660,
     "sourceType": "datasetVersion",
     "datasetId": 4993738
    },
    {
     "sourceId": 8430777,
     "sourceType": "datasetVersion",
     "datasetId": 5020750
    },
    {
     "sourceId": 8431344,
     "sourceType": "datasetVersion",
     "datasetId": 5021191
    },
    {
     "sourceId": 8433644,
     "sourceType": "datasetVersion",
     "datasetId": 5022952
    }
   ],
   "dockerImageVersionId": 30699,
   "isInternetEnabled": true,
   "language": "python",
   "sourceType": "notebook",
   "isGpuEnabled": false
  }
 },
 "nbformat_minor": 4,
 "nbformat": 4,
 "cells": [
  {
   "cell_type": "code",
   "source": "import os\nimport torch\nimport logging\nlogging.basicConfig(level=logging.ERROR)\n# If there's a GPU available...\nmodel_dir = \"sileod/deberta-v3-base-tasksource-nli\"\ntokenizer_dir = \"sileod/deberta-v3-base-tasksource-nli\"\nmodel_type = \"bert\"\n\ninput_dimension = 768\nmlp_dim = 500\ndropout = 0.1\nfreeze = True\nvocal = False\nsmall_dataset = True\nepochs = 20\nbatch_size = 16\n\n\n\nif torch.cuda.is_available():\n\n    # Tell PyTorch to use the GPU.\n    device = torch.device(\"cuda\")\n\n    print('There are %d GPU(s) available.' % torch.cuda.device_count())\n\n    print('We will use the GPU:', torch.cuda.get_device_name(0))\n\n# If not...\nelse:\n    print('No GPU available, using the CPU instead.')\n    device = torch.device(\"cpu\")\n    \nbatch_size = batch_size if not small_dataset else 1",
   "metadata": {
    "ExecuteTime": {
     "end_time": "2024-05-12T10:15:44.299155Z",
     "start_time": "2024-05-12T10:15:33.658077Z"
    },
    "execution": {
     "iopub.status.busy": "2024-05-16T18:45:37.133477Z",
     "iopub.execute_input": "2024-05-16T18:45:37.133907Z",
     "iopub.status.idle": "2024-05-16T18:45:37.142658Z",
     "shell.execute_reply.started": "2024-05-16T18:45:37.133873Z",
     "shell.execute_reply": "2024-05-16T18:45:37.141602Z"
    },
    "trusted": true
   },
   "execution_count": 122,
   "outputs": [
    {
     "name": "stdout",
     "text": "There are 1 GPU(s) available.\nWe will use the GPU: Tesla P100-PCIE-16GB\n",
     "output_type": "stream"
    }
   ]
  },
  {
   "cell_type": "code",
   "source": "from transformers import AutoTokenizer,AutoModel, BertTokenizer\nimport json\n\n# Load the BART tokenizer.\nprint(f'Loading {tokenizer_dir} tokenizer...')\ntokenizer = AutoTokenizer.from_pretrained(tokenizer_dir, do_lower_case=True)",
   "metadata": {
    "ExecuteTime": {
     "end_time": "2024-05-12T10:16:03.936871Z",
     "start_time": "2024-05-12T10:15:52.150516Z"
    },
    "execution": {
     "iopub.status.busy": "2024-05-16T18:45:37.826228Z",
     "iopub.execute_input": "2024-05-16T18:45:37.826580Z",
     "iopub.status.idle": "2024-05-16T18:45:38.346400Z",
     "shell.execute_reply.started": "2024-05-16T18:45:37.826553Z",
     "shell.execute_reply": "2024-05-16T18:45:38.345311Z"
    },
    "trusted": true
   },
   "execution_count": 123,
   "outputs": [
    {
     "name": "stdout",
     "text": "Loading sileod/deberta-v3-base-tasksource-nli tokenizer...\n",
     "output_type": "stream"
    }
   ]
  },
  {
   "cell_type": "code",
   "source": "import json\n\n# Changed from NumTemp-E9C0/output/bm25_top_100_train\nwith open(\"/kaggle/input/output/bm25_top_100_train\") as f:\n    train_data = json.load(f)\nwith open('/kaggle/input/output/bm25_top_100_val') as f:\n    val_data = json.load(f)\nwith open('/kaggle/input/output/bm25_top_100_test') as f:\n    test_data = json.load(f)\n    \nif small_dataset:\n    train_data = train_data[:10]\n    val_data = val_data[:10]\n    test_data = test_data[:10]\n    \nlen(train_data), len(val_data), len(test_data)",
   "metadata": {
    "ExecuteTime": {
     "end_time": "2024-05-12T12:04:16.844889Z",
     "start_time": "2024-05-12T12:04:14.945102Z"
    },
    "execution": {
     "iopub.status.busy": "2024-05-16T18:45:38.349740Z",
     "iopub.execute_input": "2024-05-16T18:45:38.350069Z",
     "iopub.status.idle": "2024-05-16T18:45:40.491099Z",
     "shell.execute_reply.started": "2024-05-16T18:45:38.350036Z",
     "shell.execute_reply": "2024-05-16T18:45:40.490190Z"
    },
    "trusted": true
   },
   "execution_count": 124,
   "outputs": [
    {
     "execution_count": 124,
     "output_type": "execute_result",
     "data": {
      "text/plain": "(10, 10, 10)"
     },
     "metadata": {}
    }
   ]
  },
  {
   "cell_type": "code",
   "source": "if vocal:\n    train_data[-1]",
   "metadata": {
    "ExecuteTime": {
     "end_time": "2024-05-16T11:50:41.589777Z",
     "start_time": "2024-05-16T11:50:40.847454Z"
    },
    "execution": {
     "iopub.status.busy": "2024-05-16T18:45:40.492298Z",
     "iopub.execute_input": "2024-05-16T18:45:40.492661Z",
     "iopub.status.idle": "2024-05-16T18:45:40.496964Z",
     "shell.execute_reply.started": "2024-05-16T18:45:40.492625Z",
     "shell.execute_reply": "2024-05-16T18:45:40.496064Z"
    },
    "trusted": true
   },
   "execution_count": 125,
   "outputs": []
  },
  {
   "cell_type": "code",
   "source": "if vocal:\n    val_data[-1]",
   "metadata": {
    "ExecuteTime": {
     "end_time": "2024-05-12T12:04:21.390401Z",
     "start_time": "2024-05-12T12:04:21.374765Z"
    },
    "execution": {
     "iopub.status.busy": "2024-05-16T18:45:40.499346Z",
     "iopub.execute_input": "2024-05-16T18:45:40.499623Z",
     "iopub.status.idle": "2024-05-16T18:45:40.507663Z",
     "shell.execute_reply.started": "2024-05-16T18:45:40.499599Z",
     "shell.execute_reply": "2024-05-16T18:45:40.506855Z"
    },
    "trusted": true
   },
   "execution_count": 126,
   "outputs": []
  },
  {
   "cell_type": "code",
   "source": "from sklearn.preprocessing import LabelEncoder\nLE = LabelEncoder()\nk = 100",
   "metadata": {
    "ExecuteTime": {
     "end_time": "2024-05-12T12:04:25.384228Z",
     "start_time": "2024-05-12T12:04:23.457292Z"
    },
    "execution": {
     "iopub.status.busy": "2024-05-16T18:45:40.508744Z",
     "iopub.execute_input": "2024-05-16T18:45:40.509102Z",
     "iopub.status.idle": "2024-05-16T18:45:40.517907Z",
     "shell.execute_reply.started": "2024-05-16T18:45:40.509069Z",
     "shell.execute_reply": "2024-05-16T18:45:40.517004Z"
    },
    "trusted": true
   },
   "execution_count": 127,
   "outputs": []
  },
  {
   "cell_type": "code",
   "source": "def get_features(data):\n    features = []\n    evidences = []\n    \n    for index, fact in enumerate(data):\n        claim = fact[\"claim\"]\n        evidences = fact['top_n'][:k]\n        evidences = ''.join(f'[Evidence]:{e}' for e in evidences)\n        \n        feature = \"[Claim]:\" + claim + evidences\n        features.append(feature)\n    return features",
   "metadata": {
    "ExecuteTime": {
     "end_time": "2024-05-12T12:04:37.052035Z",
     "start_time": "2024-05-12T12:04:37.020771Z"
    },
    "execution": {
     "iopub.status.busy": "2024-05-16T18:45:40.519071Z",
     "iopub.execute_input": "2024-05-16T18:45:40.519365Z",
     "iopub.status.idle": "2024-05-16T18:45:40.528639Z",
     "shell.execute_reply.started": "2024-05-16T18:45:40.519340Z",
     "shell.execute_reply": "2024-05-16T18:45:40.527834Z"
    },
    "trusted": true
   },
   "execution_count": 128,
   "outputs": []
  },
  {
   "cell_type": "code",
   "source": "train_features = get_features(train_data)\nval_features = get_features(val_data)\ntest_features = get_features(test_data)\nlen(train_features), len(val_features), len(test_features)",
   "metadata": {
    "ExecuteTime": {
     "end_time": "2024-05-12T12:04:39.808776Z",
     "start_time": "2024-05-12T12:04:39.324617Z"
    },
    "execution": {
     "iopub.status.busy": "2024-05-16T18:45:40.529688Z",
     "iopub.execute_input": "2024-05-16T18:45:40.529942Z",
     "iopub.status.idle": "2024-05-16T18:45:40.546775Z",
     "shell.execute_reply.started": "2024-05-16T18:45:40.529920Z",
     "shell.execute_reply": "2024-05-16T18:45:40.545812Z"
    },
    "trusted": true
   },
   "execution_count": 129,
   "outputs": [
    {
     "execution_count": 129,
     "output_type": "execute_result",
     "data": {
      "text/plain": "(10, 10, 10)"
     },
     "metadata": {}
    }
   ]
  },
  {
   "cell_type": "code",
   "source": "if vocal:\n    train_features[-1]",
   "metadata": {
    "ExecuteTime": {
     "end_time": "2024-05-12T12:04:41.374462Z",
     "start_time": "2024-05-12T12:04:41.358841Z"
    },
    "execution": {
     "iopub.status.busy": "2024-05-16T18:45:40.547937Z",
     "iopub.execute_input": "2024-05-16T18:45:40.548244Z",
     "iopub.status.idle": "2024-05-16T18:45:40.555686Z",
     "shell.execute_reply.started": "2024-05-16T18:45:40.548220Z",
     "shell.execute_reply": "2024-05-16T18:45:40.554801Z"
    },
    "trusted": true
   },
   "execution_count": 130,
   "outputs": []
  },
  {
   "cell_type": "code",
   "source": "if vocal:\n    val_features[-1]",
   "metadata": {
    "ExecuteTime": {
     "end_time": "2024-05-12T12:04:43.949018Z",
     "start_time": "2024-05-12T12:04:43.933376Z"
    },
    "execution": {
     "iopub.status.busy": "2024-05-16T18:45:40.556656Z",
     "iopub.execute_input": "2024-05-16T18:45:40.557213Z",
     "iopub.status.idle": "2024-05-16T18:45:40.565632Z",
     "shell.execute_reply.started": "2024-05-16T18:45:40.557189Z",
     "shell.execute_reply": "2024-05-16T18:45:40.564737Z"
    },
    "trusted": true
   },
   "execution_count": 131,
   "outputs": []
  },
  {
   "cell_type": "code",
   "source": "if vocal:\n    test_features[-1]",
   "metadata": {
    "execution": {
     "iopub.status.busy": "2024-05-16T18:45:40.568506Z",
     "iopub.execute_input": "2024-05-16T18:45:40.568814Z",
     "iopub.status.idle": "2024-05-16T18:45:40.577646Z",
     "shell.execute_reply.started": "2024-05-16T18:45:40.568771Z",
     "shell.execute_reply": "2024-05-16T18:45:40.576749Z"
    },
    "trusted": true
   },
   "execution_count": 132,
   "outputs": []
  },
  {
   "cell_type": "code",
   "source": "train_labels = [fact[\"label\"] for fact in train_data]\nval_labels = [fact[\"label\"] for fact in val_data]\ntest_labels = [fact[\"label\"] for fact in test_data]\n\ntrain_labels_final = LE.fit_transform(train_labels)\nval_labels_final = LE.transform(val_labels)\ntest_labels_final = LE.transform(test_labels)\ntrain_labels_final[:20], val_labels_final[:20], test_labels_final[:20]",
   "metadata": {
    "ExecuteTime": {
     "end_time": "2024-05-12T12:04:46.42505Z",
     "start_time": "2024-05-12T12:04:46.377816Z"
    },
    "execution": {
     "iopub.status.busy": "2024-05-16T18:45:40.578830Z",
     "iopub.execute_input": "2024-05-16T18:45:40.579607Z",
     "iopub.status.idle": "2024-05-16T18:45:40.591657Z",
     "shell.execute_reply.started": "2024-05-16T18:45:40.579573Z",
     "shell.execute_reply": "2024-05-16T18:45:40.590818Z"
    },
    "trusted": true
   },
   "execution_count": 133,
   "outputs": [
    {
     "execution_count": 133,
     "output_type": "execute_result",
     "data": {
      "text/plain": "(array([1, 0, 1, 1, 2, 2, 1, 1, 1, 1]),\n array([1, 1, 2, 1, 1, 1, 1, 0, 1, 1]),\n array([0, 1, 1, 2, 1, 1, 0, 2, 0, 1]))"
     },
     "metadata": {}
    }
   ]
  },
  {
   "cell_type": "code",
   "source": "input_ids = []\nattention_masks = []\n\n# needed for gpt2. Added by Emil\nif tokenizer.pad_token is None:\n        tokenizer.pad_token = tokenizer.eos_token\n# temp change Emil\nfor sent in train_features:\n    # `encode_plus` will:\n    #   (1) Tokenize the sentence.\n    #   (2) Prepend the `[CLS]` token to the start.\n    #   (3) Append the `[SEP]` token to the end.\n    #   (4) Map tokens to their IDs.\n    #   (5) Pad or truncate the sentence to `max_length`\n    #   (6) Create attention masks for [PAD] tokens.\n    encoded_dict = tokenizer.encode_plus(\n                        sent,                      # Sentence to encode.\n                        add_special_tokens = True, # Add '[CLS]' and '[SEP]'\n                        max_length = 256,           # Pad & truncate all sentences.\n                        pad_to_max_length = True,\n                        truncation=True,\n                        return_attention_mask = True,   # Construct attn. masks.\n                        return_tensors = 'pt',     # Return pytorch tensors.\n                   )\n\n    # Add the encoded sentence to the list.\n    input_ids.append(encoded_dict['input_ids'])\n\n    # And its attention mask (simply differentiates padding from non-padding).\n    attention_masks.append(encoded_dict['attention_mask'])\n# Convert the lists into tensors.\ninput_ids = torch.cat(input_ids, dim=0)\nattention_masks = torch.cat(attention_masks, dim=0)\n\n\n# Print sentence 0, now as a list of IDs.\nif vocal:\n    print('Original: ', train_features[0])\n    print('Token IDs:', input_ids[0])\nprint(\"done\")",
   "metadata": {
    "ExecuteTime": {
     "end_time": "2024-05-12T12:06:48.024716Z",
     "start_time": "2024-05-12T12:04:49.564321Z"
    },
    "execution": {
     "iopub.status.busy": "2024-05-16T18:45:40.592860Z",
     "iopub.execute_input": "2024-05-16T18:45:40.593197Z",
     "iopub.status.idle": "2024-05-16T18:45:40.782996Z",
     "shell.execute_reply.started": "2024-05-16T18:45:40.593166Z",
     "shell.execute_reply": "2024-05-16T18:45:40.782041Z"
    },
    "trusted": true
   },
   "execution_count": 134,
   "outputs": [
    {
     "name": "stdout",
     "text": "done\n",
     "output_type": "stream"
    },
    {
     "name": "stderr",
     "text": "/opt/conda/lib/python3.10/site-packages/transformers/tokenization_utils_base.py:2688: FutureWarning: The `pad_to_max_length` argument is deprecated and will be removed in a future version, use `padding=True` or `padding='longest'` to pad to the longest sequence in the batch, or use `padding='max_length'` to pad to a max length. In this case, you can give a specific length with `max_length` (e.g. `max_length=45`) or leave max_length to None to pad to the maximal input size of the model (e.g. 512 for Bert).\n  warnings.warn(\n",
     "output_type": "stream"
    }
   ]
  },
  {
   "cell_type": "code",
   "source": "val_input_ids = []\nval_attention_masks = []\n# temp change Emil\nfor sent in val_features:\n    # `encode_plus` will:\n    #   (1) Tokenize the sentence.\n    #   (2) Prepend the `[CLS]` token to the start.\n    #   (3) Append the `[SEP]` token to the end.\n    #   (4) Map tokens to their IDs.\n    #   (5) Pad or truncate the sentence to `max_length`\n    #   (6) Create attention masks for [PAD] tokens.\n    encoded_dict = tokenizer.encode_plus(\n                        sent,                      # Sentence to encode.\n                        add_special_tokens = True, # Add '[CLS]' and '[SEP]'\n                        max_length = 256,           # Pad & truncate all sentences.\n                        pad_to_max_length = True,\n                        truncation=True,\n                        return_attention_mask = True,   # Construct attn. masks.\n                        return_tensors = 'pt',     # Return pytorch tensors.\n                   )\n\n    # Add the encoded sentence to the list.\n    val_input_ids.append(encoded_dict['input_ids'])\n\n    # And its attention mask (simply differentiates padding from non-padding).\n    val_attention_masks.append(encoded_dict['attention_mask'])\n# Convert the lists into tensors.\nval_input_ids = torch.cat(val_input_ids, dim=0)\nval_attention_masks = torch.cat(val_attention_masks, dim=0)\n\n\n# Print sentence 0, now as a list of IDs.\nif vocal:\n    print('Original: ', val_features[0])\n    print('Token IDs:', val_attention_masks[0])\nprint(\"done\")",
   "metadata": {
    "ExecuteTime": {
     "end_time": "2024-05-12T12:13:40.795395Z",
     "start_time": "2024-05-12T12:13:02.014465Z"
    },
    "execution": {
     "iopub.status.busy": "2024-05-16T18:45:40.784640Z",
     "iopub.execute_input": "2024-05-16T18:45:40.785025Z",
     "iopub.status.idle": "2024-05-16T18:45:41.017683Z",
     "shell.execute_reply.started": "2024-05-16T18:45:40.784990Z",
     "shell.execute_reply": "2024-05-16T18:45:41.016707Z"
    },
    "trusted": true
   },
   "execution_count": 135,
   "outputs": [
    {
     "name": "stdout",
     "text": "done\n",
     "output_type": "stream"
    }
   ]
  },
  {
   "cell_type": "code",
   "source": "test_input_ids = []\ntest_attention_masks = []\n# temp change Emil\nfor sent in test_features:\n    # `encode_plus` will:\n    #   (1) Tokenize the sentence.\n    #   (2) Prepend the `[CLS]` token to the start.\n    #   (3) Append the `[SEP]` token to the end.\n    #   (4) Map tokens to their IDs.\n    #   (5) Pad or truncate the sentence to `max_length`\n    #   (6) Create attention masks for [PAD] tokens.\n    encoded_dict = tokenizer.encode_plus(\n                        sent,                      # Sentence to encode.\n                        add_special_tokens = True, # Add '[CLS]' and '[SEP]'\n                        max_length = 256,           # Pad & truncate all sentences.\n                        pad_to_max_length = True,\n                        truncation=True,\n                        return_attention_mask = True,   # Construct attn. masks.\n                        return_tensors = 'pt',     # Return pytorch tensors.\n                   )\n\n    # Add the encoded sentence to the list.\n    test_input_ids.append(encoded_dict['input_ids'])\n\n    # And its attention mask (simply differentiates padding from non-padding).\n    test_attention_masks.append(encoded_dict['attention_mask'])\n# Convert the lists into tensors.\ntest_input_ids = torch.cat(test_input_ids, dim=0)\ntest_attention_masks = torch.cat(test_attention_masks, dim=0)\n\n\n# Print sentence 0, now as a list of IDs.\nif vocal:\n    print('Original: ', test_features[0])\n    print('Token IDs:', test_attention_masks[0])\nprint(\"done\")\n",
   "metadata": {
    "execution": {
     "iopub.status.busy": "2024-05-16T18:45:41.018963Z",
     "iopub.execute_input": "2024-05-16T18:45:41.019268Z",
     "iopub.status.idle": "2024-05-16T18:45:41.224923Z",
     "shell.execute_reply.started": "2024-05-16T18:45:41.019239Z",
     "shell.execute_reply": "2024-05-16T18:45:41.223812Z"
    },
    "trusted": true
   },
   "execution_count": 136,
   "outputs": [
    {
     "name": "stdout",
     "text": "done\n",
     "output_type": "stream"
    }
   ]
  },
  {
   "cell_type": "code",
   "source": "# temp change Emil\ntrain_labels_final = torch.tensor(train_labels_final)\nval_labels_final = torch.tensor(val_labels_final)\ntest_labels_final = torch.tensor(test_labels_final)",
   "metadata": {
    "ExecuteTime": {
     "end_time": "2024-05-12T18:29:51.521474Z",
     "start_time": "2024-05-12T18:29:51.457921Z"
    },
    "execution": {
     "iopub.status.busy": "2024-05-16T18:45:41.226577Z",
     "iopub.execute_input": "2024-05-16T18:45:41.226915Z",
     "iopub.status.idle": "2024-05-16T18:45:41.232684Z",
     "shell.execute_reply.started": "2024-05-16T18:45:41.226884Z",
     "shell.execute_reply": "2024-05-16T18:45:41.231582Z"
    },
    "trusted": true
   },
   "execution_count": 137,
   "outputs": []
  },
  {
   "cell_type": "code",
   "source": "val_labels_final.shape, len(val_input_ids)",
   "metadata": {
    "ExecuteTime": {
     "end_time": "2024-05-12T18:29:52.41524Z",
     "start_time": "2024-05-12T18:29:52.399605Z"
    },
    "execution": {
     "iopub.status.busy": "2024-05-16T18:45:41.233999Z",
     "iopub.execute_input": "2024-05-16T18:45:41.234351Z",
     "iopub.status.idle": "2024-05-16T18:45:41.243772Z",
     "shell.execute_reply.started": "2024-05-16T18:45:41.234321Z",
     "shell.execute_reply": "2024-05-16T18:45:41.242897Z"
    },
    "trusted": true
   },
   "execution_count": 138,
   "outputs": [
    {
     "execution_count": 138,
     "output_type": "execute_result",
     "data": {
      "text/plain": "(torch.Size([10]), 10)"
     },
     "metadata": {}
    }
   ]
  },
  {
   "cell_type": "code",
   "source": "num_classes = len(list(set(train_labels)))\nlist(set(train_labels)), num_classes",
   "metadata": {
    "ExecuteTime": {
     "end_time": "2024-05-12T18:29:53.083543Z",
     "start_time": "2024-05-12T18:29:53.036663Z"
    },
    "execution": {
     "iopub.status.busy": "2024-05-16T18:45:41.245080Z",
     "iopub.execute_input": "2024-05-16T18:45:41.245419Z",
     "iopub.status.idle": "2024-05-16T18:45:41.256940Z",
     "shell.execute_reply.started": "2024-05-16T18:45:41.245387Z",
     "shell.execute_reply": "2024-05-16T18:45:41.256169Z"
    },
    "trusted": true
   },
   "execution_count": 139,
   "outputs": [
    {
     "execution_count": 139,
     "output_type": "execute_result",
     "data": {
      "text/plain": "(['Conflicting', 'False', 'True'], 3)"
     },
     "metadata": {}
    }
   ]
  },
  {
   "cell_type": "code",
   "source": "from torch.utils.data import TensorDataset, random_split\n# train_poincare_tensor = torch.tensor(poincare_embeddings_final,dtype=torch.float)\n# difficulty_tensor = torch.tensor(difficulty_level_vectors,dtype=torch.float)\n# Combine the training inputs into a TensorDataset.\ndataset = TensorDataset(input_ids, attention_masks, train_labels_final)\nval_dataset = TensorDataset(val_input_ids, val_attention_masks,val_labels_final)\ntest_dataset = TensorDataset(test_input_ids, test_attention_masks,test_labels_final)",
   "metadata": {
    "ExecuteTime": {
     "end_time": "2024-05-12T18:29:57.597466Z",
     "start_time": "2024-05-12T18:29:57.581954Z"
    },
    "execution": {
     "iopub.status.busy": "2024-05-16T18:45:41.257946Z",
     "iopub.execute_input": "2024-05-16T18:45:41.258246Z",
     "iopub.status.idle": "2024-05-16T18:45:41.265448Z",
     "shell.execute_reply.started": "2024-05-16T18:45:41.258209Z",
     "shell.execute_reply": "2024-05-16T18:45:41.264524Z"
    },
    "trusted": true
   },
   "execution_count": 140,
   "outputs": []
  },
  {
   "cell_type": "code",
   "source": "from torch.utils.data import DataLoader, RandomSampler, SequentialSampler\n\ntrain_dataloader = DataLoader(\n            dataset,  # The training samples.\n            sampler = RandomSampler(dataset), # Select batches randomly\n            batch_size = batch_size # Trains with this batch size.\n        )\n\nvalidation_dataloader = DataLoader(\n            val_dataset, # The validation samples.\n            sampler = SequentialSampler(val_dataset),\n            batch_size = batch_size\n        )\n\ntest_dataloader = DataLoader(\n            test_dataset, # The validation samples.\n            sampler = SequentialSampler(test_dataset),\n            batch_size = batch_size\n        )",
   "metadata": {
    "ExecuteTime": {
     "end_time": "2024-05-12T18:29:59.398393Z",
     "start_time": "2024-05-12T18:29:59.382775Z"
    },
    "execution": {
     "iopub.status.busy": "2024-05-16T18:45:41.266435Z",
     "iopub.execute_input": "2024-05-16T18:45:41.266702Z",
     "iopub.status.idle": "2024-05-16T18:45:41.279347Z",
     "shell.execute_reply.started": "2024-05-16T18:45:41.266678Z",
     "shell.execute_reply": "2024-05-16T18:45:41.278445Z"
    },
    "trusted": true
   },
   "execution_count": 141,
   "outputs": []
  },
  {
   "cell_type": "code",
   "source": "from torch import nn\nclass MultiClassClassifier(nn.Module):\n    def __init__(self, inner_model_path, labels_count, hidden_dim=768, mlp_dim=500, extras_dim=100, dropout=0.1, freeze_inner_model=False):\n        super().__init__()\n\n        self.inner_model = AutoModel.from_pretrained(inner_model_path,output_hidden_states=True,output_attentions=True)\n        self.dropout = nn.Dropout(dropout)\n        self.mlp = nn.Sequential(\n            nn.Linear(hidden_dim, mlp_dim),\n            nn.ReLU(),\n            # nn.Linear(mlp_dim, mlp_dim),\n            # # nn.ReLU(),\n            # # nn.Linear(mlp_dim, mlp_dim),\n            # nn.ReLU(),\n            nn.Linear(mlp_dim, labels_count)\n        )\n        # self.softmax = nn.LogSoftmax(dim=1)\n        # TODO, make such that possible with different models\n        if freeze_inner_model:\n            print(\"Freezing layers\")\n            for param in self.inner_model.parameters():\n                param.requires_grad = False\n\n    def forward(self, tokens, masks):\n        output = self.inner_model(tokens, attention_mask=masks)\n        # bart-large-mnli doesn't have \"pooler_output\" like BERT and RoBERTa do\n        # dropout_output = self.dropout(output[\"pooler_output\"])\n        last_hidden_state = output.last_hidden_state  # Get the last hidden state\n        class_token = last_hidden_state[:, 0, :]  # Get the class token\n        mlp_output = self.dropout(class_token)\n        mlp_output = self.mlp(mlp_output)\n        # concat_output = torch.cat((dropout_output, topic_emb), dim=1)\n        # concat_output = self.dropout(concat_output)\n        # mlp_output = self.mlp(dropout_output)\n        # proba = self.sigmoid(mlp_output)\n        # proba = self.softmax(mlp_output)\n\n        return mlp_output",
   "metadata": {
    "ExecuteTime": {
     "end_time": "2024-05-12T18:30:01.968335Z",
     "start_time": "2024-05-12T18:30:01.952672Z"
    },
    "execution": {
     "iopub.status.busy": "2024-05-16T18:45:41.280446Z",
     "iopub.execute_input": "2024-05-16T18:45:41.280799Z",
     "iopub.status.idle": "2024-05-16T18:45:41.290726Z",
     "shell.execute_reply.started": "2024-05-16T18:45:41.280747Z",
     "shell.execute_reply": "2024-05-16T18:45:41.289840Z"
    },
    "trusted": true
   },
   "execution_count": 142,
   "outputs": []
  },
  {
   "cell_type": "code",
   "source": [
    "from transformers import AutoModelForSequenceClassification, AdamW, BertConfig\n",
    "\n",
    "# Loads AutoModelForSequenceClassification, the pretrained BART model with a single\n",
    "model = MultiClassClassifier(model_dir,num_classes, input_dimension,mlp_dim,140,dropout=dropout,freeze_inner_model=False)\n",
    "\n",
    "# model.load_state_dict(torch.load(\"model_bert_difficulty_prediction/model_weights\"))\n",
    "\n",
    "# Tell pytorch to run this model on the GPU.\n",
    "model.cuda()"
   ],
   "metadata": {
    "ExecuteTime": {
     "end_time": "2024-05-12T18:31:08.087223Z",
     "start_time": "2024-05-12T18:30:07.278259Z"
    },
    "execution": {
     "iopub.status.busy": "2024-05-16T18:45:41.291732Z",
     "iopub.execute_input": "2024-05-16T18:45:41.292026Z",
     "iopub.status.idle": "2024-05-16T18:45:41.946538Z",
     "shell.execute_reply.started": "2024-05-16T18:45:41.292003Z",
     "shell.execute_reply": "2024-05-16T18:45:41.945552Z"
    },
    "trusted": true
   },
   "execution_count": 143,
   "outputs": [
    {
     "execution_count": 143,
     "output_type": "execute_result",
     "data": {
      "text/plain": "MultiClassClassifier(\n  (inner_model): DebertaV2Model(\n    (embeddings): DebertaV2Embeddings(\n      (word_embeddings): Embedding(128100, 768, padding_idx=0)\n      (LayerNorm): LayerNorm((768,), eps=1e-07, elementwise_affine=True)\n      (dropout): StableDropout()\n    )\n    (encoder): DebertaV2Encoder(\n      (layer): ModuleList(\n        (0-11): 12 x DebertaV2Layer(\n          (attention): DebertaV2Attention(\n            (self): DisentangledSelfAttention(\n              (query_proj): Linear(in_features=768, out_features=768, bias=True)\n              (key_proj): Linear(in_features=768, out_features=768, bias=True)\n              (value_proj): Linear(in_features=768, out_features=768, bias=True)\n              (pos_dropout): StableDropout()\n              (dropout): StableDropout()\n            )\n            (output): DebertaV2SelfOutput(\n              (dense): Linear(in_features=768, out_features=768, bias=True)\n              (LayerNorm): LayerNorm((768,), eps=1e-07, elementwise_affine=True)\n              (dropout): StableDropout()\n            )\n          )\n          (intermediate): DebertaV2Intermediate(\n            (dense): Linear(in_features=768, out_features=3072, bias=True)\n            (intermediate_act_fn): GELUActivation()\n          )\n          (output): DebertaV2Output(\n            (dense): Linear(in_features=3072, out_features=768, bias=True)\n            (LayerNorm): LayerNorm((768,), eps=1e-07, elementwise_affine=True)\n            (dropout): StableDropout()\n          )\n        )\n      )\n      (rel_embeddings): Embedding(512, 768)\n      (LayerNorm): LayerNorm((768,), eps=1e-07, elementwise_affine=True)\n    )\n  )\n  (dropout): Dropout(p=0.3, inplace=False)\n  (mlp): Sequential(\n    (0): Linear(in_features=768, out_features=768, bias=True)\n    (1): ReLU()\n    (2): Linear(in_features=768, out_features=3, bias=True)\n  )\n)"
     },
     "metadata": {}
    }
   ]
  },
  {
   "cell_type": "code",
   "source": "import numpy as np\n\n# Function to calculate the accuracy of our predictions vs labels\ndef flat_accuracy(preds, labels):\n    pred_flat = np.argmax(preds, axis=1).flatten()\n    labels_flat = labels.flatten()\n    return np.sum(pred_flat == labels_flat) / len(labels_flat)",
   "metadata": {
    "ExecuteTime": {
     "end_time": "2024-05-12T18:33:12.597271Z",
     "start_time": "2024-05-12T18:33:12.581637Z"
    },
    "execution": {
     "iopub.status.busy": "2024-05-16T18:45:41.949853Z",
     "iopub.execute_input": "2024-05-16T18:45:41.950148Z",
     "iopub.status.idle": "2024-05-16T18:45:41.955108Z",
     "shell.execute_reply.started": "2024-05-16T18:45:41.950122Z",
     "shell.execute_reply": "2024-05-16T18:45:41.954229Z"
    },
    "trusted": true
   },
   "execution_count": 144,
   "outputs": []
  },
  {
   "cell_type": "code",
   "source": "import time\nimport datetime\n\ndef format_time(elapsed):\n    '''\n    Takes a time in seconds and returns a string hh:mm:ss\n    '''\n    # Round to the nearest second.\n    elapsed_rounded = int(round((elapsed)))\n\n    # Format as hh:mm:ss\n    return str(datetime.timedelta(seconds=elapsed_rounded))",
   "metadata": {
    "ExecuteTime": {
     "end_time": "2024-05-12T18:33:14.421676Z",
     "start_time": "2024-05-12T18:33:14.390469Z"
    },
    "execution": {
     "iopub.status.busy": "2024-05-16T18:45:41.956433Z",
     "iopub.execute_input": "2024-05-16T18:45:41.956734Z",
     "iopub.status.idle": "2024-05-16T18:45:41.964686Z",
     "shell.execute_reply.started": "2024-05-16T18:45:41.956709Z",
     "shell.execute_reply": "2024-05-16T18:45:41.963832Z"
    },
    "trusted": true
   },
   "execution_count": 145,
   "outputs": []
  },
  {
   "cell_type": "code",
   "source": "class EarlyStopping:\n    \"\"\"Early stops the training if validation loss doesn't improve after a given patience.\"\"\"\n    def __init__(self, patience=7, verbose=False, delta=0, path='checkpoint.pt', trace_func=print):\n        \"\"\"\n        Args:\n            patience (int): How long to wait after last time validation loss improved.\n                            Default: 7\n            verbose (bool): If True, prints a message for each validation loss improvement.\n                            Default: False\n            delta (float): Minimum change in the monitored quantity to qualify as an improvement.\n                            Default: 0\n            path (str): Path for the checkpoint to be saved to.\n                            Default: 'checkpoint.pt'\n            trace_func (function): trace print function.\n                            Default: print\n        \"\"\"\n        self.patience = patience\n        self.verbose = verbose\n        self.counter = 0\n        self.best_score = None\n        self.early_stop = False\n        self.val_loss_min = np.Inf\n        self.delta = delta\n        self.path = path\n        self.trace_func = trace_func\n    def __call__(self, val_loss, model):\n\n        score = -val_loss\n\n        if self.best_score is None:\n            self.best_score = score\n            self.save_checkpoint(val_loss, model)\n        elif score < self.best_score + self.delta:\n            self.counter += 1\n            self.trace_func(f'EarlyStopping counter: {self.counter} out of {self.patience}')\n            if self.counter >= self.patience:\n                self.early_stop = True\n        else:\n            self.best_score = score\n            self.save_checkpoint(val_loss, model)\n            self.counter = 0\n\n    def save_checkpoint(self, val_loss, model):\n        '''Saves model when validation loss decrease.'''\n        if self.verbose:\n            self.trace_func(f'Validation loss decreased ({self.val_loss_min:.6f} --> {val_loss:.6f}).  Saving model ...')\n        torch.save(model.state_dict(), self.path)\n        self.val_loss_min = val_loss",
   "metadata": {
    "ExecuteTime": {
     "end_time": "2024-05-12T18:33:15.958286Z",
     "start_time": "2024-05-12T18:33:15.942648Z"
    },
    "execution": {
     "iopub.status.busy": "2024-05-16T18:45:41.965860Z",
     "iopub.execute_input": "2024-05-16T18:45:41.966185Z",
     "iopub.status.idle": "2024-05-16T18:45:41.977271Z",
     "shell.execute_reply.started": "2024-05-16T18:45:41.966153Z",
     "shell.execute_reply": "2024-05-16T18:45:41.976407Z"
    },
    "trusted": true
   },
   "execution_count": 146,
   "outputs": []
  },
  {
   "cell_type": "code",
   "source": "\nif freeze:\n    if model_type == \"gpt\":\n        for param in model.inner_model.h[:-1].parameters():\n            param.requires_grad=False\n    elif model_type == \"bert\":\n        for param in model.inner_model.encoder.layer[:-1].parameters():\n            param.requires_grad = False\n    else:\n        for param in model.inner_model.layers[:-1].parameters():\n            param.requires_grad=False\n",
   "metadata": {
    "ExecuteTime": {
     "end_time": "2024-05-16T11:59:05.904575Z",
     "start_time": "2024-05-16T11:59:05.86424Z"
    },
    "execution": {
     "iopub.status.busy": "2024-05-16T18:45:41.978391Z",
     "iopub.execute_input": "2024-05-16T18:45:41.978796Z",
     "iopub.status.idle": "2024-05-16T18:45:41.991594Z",
     "shell.execute_reply.started": "2024-05-16T18:45:41.978748Z",
     "shell.execute_reply": "2024-05-16T18:45:41.990645Z"
    },
    "trusted": true
   },
   "execution_count": 147,
   "outputs": []
  },
  {
   "cell_type": "code",
   "source": "import random\nimport numpy as np\nfrom transformers import get_linear_schedule_with_warmup\n\n# This training code is based on the `run_glue.py` script here:\n# https://github.com/huggingface/transformers/blob/5bfcd0485ece086ebcbed2d008813037968a9e58/examples/run_glue.py#L128\n\n# Set the seed value all over the place to make this reproducible.\nseed_val = 42\n\nrandom.seed(seed_val)\nnp.random.seed(seed_val)\ntorch.manual_seed(seed_val)\ntorch.cuda.manual_seed_all(seed_val)\n\noptimizer = AdamW(model.parameters(), lr = 2e-5, eps = 1e-8)\nloss_func = nn.CrossEntropyLoss()\n# Total number of training steps is [number of batches] x [number of epochs].\ntotal_steps = len(train_dataloader) * epochs\nscheduler = get_linear_schedule_with_warmup(optimizer,\n                                            num_warmup_steps = 0, # Default value in run_glue.py\n                                            num_training_steps = total_steps)\n\n# We'll store a number of quantities such as training and validation loss,\n# validation accuracy, and timings.\ntraining_stats = []\n\n# Measure the total training time for the whole run.\ntotal_t0 = time.time()\nearly_stopping = EarlyStopping(patience=2, verbose=True)\n# For each epoch...\nfor epoch_i in range(0, epochs):\n\n    # ========================================\n    #               Training\n    # ========================================\n\n    # Perform one full pass over the training set.\n\n    print(\"\")\n    print('======== Epoch {:} / {:} ========'.format(epoch_i + 1, epochs))\n    print('Training...')\n\n    # Measure how long the training epoch takes.\n    t0 = time.time()\n\n    # Reset the total loss for this epoch.\n    total_train_accuracy = 0\n    total_train_loss = 0\n\n    # Put the model into training mode. Don't be mislead--the call to\n    # `train` just changes the *mode*, it doesn't *perform* the training.\n    # `dropout` and `batchnorm` layers behave differently during training\n    # vs. test (source: https://stackoverflow.com/questimport gensim.downloader as api\n    model.train()\n\n    # For each batch of training data...\n    for step, batch in enumerate(train_dataloader):\n\n        # Progress update every 40 batches.\n        if step % 40 == 0 and not step == 0:\n            # Calculate elapsed time in minutes.\n            elapsed = format_time(time.time() - t0)\n\n            # Report progress.\n            print('  Batch {:>5,}  of  {:>5,}.    Elapsed: {:}.'.format(step, len(train_dataloader), elapsed))\n\n        # Unpack this training batch from our dataloader.\n        #\n        # As we unpack the batch, we'll also copy each tensor to the GPU using the\n        # `to` method.\n        #\n        # `batch` contains three pytorch tensors:\n        #   [0]: input ids\n        #   [1]: attention masks\n        #   [2]: labels\n\n        b_input_ids = batch[0].to(device)\n        b_input_mask = batch[1].to(device)\n        # b_poincare = batch[2].to(device)\n        # b_difficulty = batch[3].to(device)\n        b_labels = batch[2].to(device)\n        # skill_labels = batch[3].to(device)\n\n        # Always clear any previously calculated gradients before performing a\n        # backward pass. PyTorch doesn't do this automatically because\n        # accumulating the gradients is \"convenient while training RNNs\".\n        # (source: https://stackoverflow.com/questions/48001598/why-do-we-need-to-call-zero-grad-in-pytorch)\n        model.zero_grad()\n\n        # Perform a forward pass (evaluate the model on this training batch).\n        probas = model(b_input_ids,b_input_mask)\n\n        # Accumulate the training loss over all of the batches so that we can\n        # calculate the average loss at the end. `loss` is a Tensor containing a\n        # single value; the `.item()` function just returns the Python value\n        # from the tensor.\n        loss = loss_func(probas, b_labels)\n        total_train_loss += loss.item()\n\n        # Perform a backward pass to calculate the gradients.\n        loss.backward()\n\n        # Clip the norm of the gradients to 1.0.\n        # This is to help prevent the \"exploding gradients\" problem.\n        # torch.nn.utils.clip_grad_norm_(model.parameters(), 1.0)\n\n        # Update parameters and take a step using the computed gradient.\n        # The optimizer dictates the \"update rule\"--how the parameters are\n        # modified based on their gradients, the learning rate, etc.\n        optimizer.step()\n\n        # Update the learning rate.\n        # scheduler.step()\n        logits = probas.detach().cpu().numpy()\n        label_ids = b_labels.to('cpu').numpy()\n        total_train_accuracy += flat_accuracy(logits, label_ids)\n    avg_train_accuracy = total_train_accuracy / len(train_dataloader)\n    print(\" Train Accuracy: {0:.2f}\".format(avg_train_accuracy))\n\n    # Calculate the average loss over all of the batches.\n    avg_train_loss = total_train_loss / len(train_dataloader)\n\n\n\n    # Measure how long this epoch took.\n    training_time = format_time(time.time() - t0)\n\n    print(\"\")\n    print(\"  Average training loss: {0:.2f}\".format(avg_train_loss))\n    print(\"  Training epcoh took: {:}\".format(training_time))\n\n    # ========================================\n    #               Validation\n    # ========================================\n    # After the completion of each training epoch, measure our performance on\n    # our validation set.\n\n    print(\"\")\n    print(\"Running Validation...\")\n\n    t0 = time.time()\n\n    # Put the model in evaluation mode--the dropout layers behave differently\n    # during evaluation.\n    model.eval()\n\n    # Tracking variables\n    total_eval_accuracy = 0\n    total_eval_loss = 0\n    nb_eval_steps = 0\n\n    # Evaluate data for one epoch\n    for batch in validation_dataloader:\n\n        # Unpack this training batch from our dataloader.\n        #\n        # As we unpack the batch, we'll also copy each tensor to the GPU using\n        # the `to` method.\n        #\n        # `batch` contains three pytorch tensors:\n        #   [0]: input ids\n        #   [1]: attention masks\n        #   [2]: labels\n        b_input_ids = batch[0].to(device)\n\n        b_input_mask = batch[1].to(device)\n        # b_poincare = batch[2].to(device)\n        # b_difficulty = batch[3].to(device)\n        b_labels = batch[2].to(device)\n        # skill_labels = batch[3].to(device)\n\n        # Tell pytorch not to bother with constructing the compute graph during\n        # the forward pass, since this is only needed for backprop (training).\n        with torch.no_grad():\n\n            # Forward pass, calculate logit predictions.\n\n            logits = model(b_input_ids,b_input_mask)\n\n        # Accumulate the validation loss.\n        loss = loss_func(logits, b_labels)\n        total_eval_loss += loss.item()\n\n        # Move logits and labels to CPU\n        logits = logits.detach().cpu().numpy()\n        label_ids = b_labels.to('cpu').numpy()\n\n        # Calculate the accuracy for this batch of test sentences, and\n        # accumulate it over all batches.\n        total_eval_accuracy += flat_accuracy(logits, label_ids)\n\n\n    # Report the final accuracy for this validation run.\n    avg_val_accuracy = total_eval_accuracy / len(validation_dataloader)\n    print(\"  Accuracy: {0:.2f}\".format(avg_val_accuracy))\n\n    # Calculate the average loss over all of the batches.\n    avg_val_loss = total_eval_loss / len(validation_dataloader)\n    early_stopping(avg_val_loss, model)\n    if early_stopping.early_stop:\n        print(\"Early stopping\")\n        break\n    # Measure how long the validation run took.\n    validation_time = format_time(time.time() - t0)\n\n    print(\"  Validation Loss: {0:.2f}\".format(avg_val_loss))\n    print(\"  Validation took: {:}\".format(validation_time))\n    output_dir = 'model_bart_large_oracle/'\n    if not os.path.exists(output_dir):\n        os.makedirs(output_dir)\n\n    print(\"Saving model to %s\" % output_dir)\n    tokenizer.save_pretrained(output_dir)\n    torch.save(model.state_dict(), os.path.join(output_dir, 'model_weights'))\n\n    # Record all statistics from this epoch.\n    training_stats.append(\n        {\n            'epoch': epoch_i + 1,\n            'Training Loss': avg_train_loss,\n            'Valid. Loss': avg_val_loss,\n            'Valid. Accur.': avg_val_accuracy,\n            'Training Time': training_time,\n            'Validation Time': validation_time\n        }\n    )\n\nprint(\"\")\nprint(\"Training complete!\")\n\nprint(\"Total training took {:} (h:mm:ss)\".format(format_time(time.time()-total_t0)))",
   "metadata": {
    "ExecuteTime": {
     "end_time": "2024-05-12T18:33:28.307347Z",
     "start_time": "2024-05-12T18:33:21.278681Z"
    },
    "execution": {
     "iopub.status.busy": "2024-05-16T18:45:41.992755Z",
     "iopub.execute_input": "2024-05-16T18:45:41.993298Z",
     "iopub.status.idle": "2024-05-16T18:45:54.460819Z",
     "shell.execute_reply.started": "2024-05-16T18:45:41.993258Z",
     "shell.execute_reply": "2024-05-16T18:45:54.459426Z"
    },
    "trusted": true
   },
   "execution_count": 148,
   "outputs": [
    {
     "name": "stderr",
     "text": "/opt/conda/lib/python3.10/site-packages/transformers/optimization.py:457: FutureWarning: This implementation of AdamW is deprecated and will be removed in a future version. Use the PyTorch implementation torch.optim.AdamW instead, or set `no_deprecation_warning=True` to disable this warning\n  warnings.warn(\n",
     "output_type": "stream"
    },
    {
     "name": "stdout",
     "text": "\n======== Epoch 1 / 20 ========\nTraining...\n Train Accuracy: 0.40\n\n  Average training loss: 1.10\n  Training epcoh took: 0:00:01\n\nRunning Validation...\n  Accuracy: 0.60\nValidation loss decreased (inf --> 0.993713).  Saving model ...\n  Validation Loss: 0.99\n  Validation took: 0:00:02\nSaving model to model_bart_large_oracle/\n\n======== Epoch 2 / 20 ========\nTraining...\n Train Accuracy: 0.70\n\n  Average training loss: 0.93\n  Training epcoh took: 0:00:01\n\nRunning Validation...\n  Accuracy: 0.80\nValidation loss decreased (0.993713 --> 0.821154).  Saving model ...\n",
     "output_type": "stream"
    },
    {
     "traceback": [
      "\u001B[0;31m---------------------------------------------------------------------------\u001B[0m",
      "\u001B[0;31mKeyboardInterrupt\u001B[0m                         Traceback (most recent call last)",
      "File \u001B[0;32m/opt/conda/lib/python3.10/site-packages/torch/serialization.py:619\u001B[0m, in \u001B[0;36msave\u001B[0;34m(obj, f, pickle_module, pickle_protocol, _use_new_zipfile_serialization, _disable_byteorder_record)\u001B[0m\n\u001B[1;32m    618\u001B[0m \u001B[38;5;28;01mwith\u001B[39;00m _open_zipfile_writer(f) \u001B[38;5;28;01mas\u001B[39;00m opened_zipfile:\n\u001B[0;32m--> 619\u001B[0m     \u001B[43m_save\u001B[49m\u001B[43m(\u001B[49m\u001B[43mobj\u001B[49m\u001B[43m,\u001B[49m\u001B[43m \u001B[49m\u001B[43mopened_zipfile\u001B[49m\u001B[43m,\u001B[49m\u001B[43m \u001B[49m\u001B[43mpickle_module\u001B[49m\u001B[43m,\u001B[49m\u001B[43m \u001B[49m\u001B[43mpickle_protocol\u001B[49m\u001B[43m,\u001B[49m\u001B[43m \u001B[49m\u001B[43m_disable_byteorder_record\u001B[49m\u001B[43m)\u001B[49m\n\u001B[1;32m    620\u001B[0m     \u001B[38;5;28;01mreturn\u001B[39;00m\n",
      "File \u001B[0;32m/opt/conda/lib/python3.10/site-packages/torch/serialization.py:853\u001B[0m, in \u001B[0;36m_save\u001B[0;34m(obj, zip_file, pickle_module, pickle_protocol, _disable_byteorder_record)\u001B[0m\n\u001B[1;32m    852\u001B[0m num_bytes \u001B[38;5;241m=\u001B[39m storage\u001B[38;5;241m.\u001B[39mnbytes()\n\u001B[0;32m--> 853\u001B[0m \u001B[43mzip_file\u001B[49m\u001B[38;5;241;43m.\u001B[39;49m\u001B[43mwrite_record\u001B[49m\u001B[43m(\u001B[49m\u001B[43mname\u001B[49m\u001B[43m,\u001B[49m\u001B[43m \u001B[49m\u001B[43mstorage\u001B[49m\u001B[38;5;241;43m.\u001B[39;49m\u001B[43mdata_ptr\u001B[49m\u001B[43m(\u001B[49m\u001B[43m)\u001B[49m\u001B[43m,\u001B[49m\u001B[43m \u001B[49m\u001B[43mnum_bytes\u001B[49m\u001B[43m)\u001B[49m\n",
      "\u001B[0;31mKeyboardInterrupt\u001B[0m: ",
      "\nDuring handling of the above exception, another exception occurred:\n",
      "\u001B[0;31mKeyboardInterrupt\u001B[0m                         Traceback (most recent call last)",
      "Cell \u001B[0;32mIn[148], line 200\u001B[0m\n\u001B[1;32m    198\u001B[0m \u001B[38;5;66;03m# Calculate the average loss over all of the batches.\u001B[39;00m\n\u001B[1;32m    199\u001B[0m avg_val_loss \u001B[38;5;241m=\u001B[39m total_eval_loss \u001B[38;5;241m/\u001B[39m \u001B[38;5;28mlen\u001B[39m(validation_dataloader)\n\u001B[0;32m--> 200\u001B[0m \u001B[43mearly_stopping\u001B[49m\u001B[43m(\u001B[49m\u001B[43mavg_val_loss\u001B[49m\u001B[43m,\u001B[49m\u001B[43m \u001B[49m\u001B[43mmodel\u001B[49m\u001B[43m)\u001B[49m\n\u001B[1;32m    201\u001B[0m \u001B[38;5;28;01mif\u001B[39;00m early_stopping\u001B[38;5;241m.\u001B[39mearly_stop:\n\u001B[1;32m    202\u001B[0m     \u001B[38;5;28mprint\u001B[39m(\u001B[38;5;124m\"\u001B[39m\u001B[38;5;124mEarly stopping\u001B[39m\u001B[38;5;124m\"\u001B[39m)\n",
      "Cell \u001B[0;32mIn[146], line 40\u001B[0m, in \u001B[0;36mEarlyStopping.__call__\u001B[0;34m(self, val_loss, model)\u001B[0m\n\u001B[1;32m     38\u001B[0m \u001B[38;5;28;01melse\u001B[39;00m:\n\u001B[1;32m     39\u001B[0m     \u001B[38;5;28mself\u001B[39m\u001B[38;5;241m.\u001B[39mbest_score \u001B[38;5;241m=\u001B[39m score\n\u001B[0;32m---> 40\u001B[0m     \u001B[38;5;28;43mself\u001B[39;49m\u001B[38;5;241;43m.\u001B[39;49m\u001B[43msave_checkpoint\u001B[49m\u001B[43m(\u001B[49m\u001B[43mval_loss\u001B[49m\u001B[43m,\u001B[49m\u001B[43m \u001B[49m\u001B[43mmodel\u001B[49m\u001B[43m)\u001B[49m\n\u001B[1;32m     41\u001B[0m     \u001B[38;5;28mself\u001B[39m\u001B[38;5;241m.\u001B[39mcounter \u001B[38;5;241m=\u001B[39m \u001B[38;5;241m0\u001B[39m\n",
      "Cell \u001B[0;32mIn[146], line 47\u001B[0m, in \u001B[0;36mEarlyStopping.save_checkpoint\u001B[0;34m(self, val_loss, model)\u001B[0m\n\u001B[1;32m     45\u001B[0m \u001B[38;5;28;01mif\u001B[39;00m \u001B[38;5;28mself\u001B[39m\u001B[38;5;241m.\u001B[39mverbose:\n\u001B[1;32m     46\u001B[0m     \u001B[38;5;28mself\u001B[39m\u001B[38;5;241m.\u001B[39mtrace_func(\u001B[38;5;124mf\u001B[39m\u001B[38;5;124m'\u001B[39m\u001B[38;5;124mValidation loss decreased (\u001B[39m\u001B[38;5;132;01m{\u001B[39;00m\u001B[38;5;28mself\u001B[39m\u001B[38;5;241m.\u001B[39mval_loss_min\u001B[38;5;132;01m:\u001B[39;00m\u001B[38;5;124m.6f\u001B[39m\u001B[38;5;132;01m}\u001B[39;00m\u001B[38;5;124m --> \u001B[39m\u001B[38;5;132;01m{\u001B[39;00mval_loss\u001B[38;5;132;01m:\u001B[39;00m\u001B[38;5;124m.6f\u001B[39m\u001B[38;5;132;01m}\u001B[39;00m\u001B[38;5;124m).  Saving model ...\u001B[39m\u001B[38;5;124m'\u001B[39m)\n\u001B[0;32m---> 47\u001B[0m \u001B[43mtorch\u001B[49m\u001B[38;5;241;43m.\u001B[39;49m\u001B[43msave\u001B[49m\u001B[43m(\u001B[49m\u001B[43mmodel\u001B[49m\u001B[38;5;241;43m.\u001B[39;49m\u001B[43mstate_dict\u001B[49m\u001B[43m(\u001B[49m\u001B[43m)\u001B[49m\u001B[43m,\u001B[49m\u001B[43m \u001B[49m\u001B[38;5;28;43mself\u001B[39;49m\u001B[38;5;241;43m.\u001B[39;49m\u001B[43mpath\u001B[49m\u001B[43m)\u001B[49m\n\u001B[1;32m     48\u001B[0m \u001B[38;5;28mself\u001B[39m\u001B[38;5;241m.\u001B[39mval_loss_min \u001B[38;5;241m=\u001B[39m val_loss\n",
      "File \u001B[0;32m/opt/conda/lib/python3.10/site-packages/torch/serialization.py:618\u001B[0m, in \u001B[0;36msave\u001B[0;34m(obj, f, pickle_module, pickle_protocol, _use_new_zipfile_serialization, _disable_byteorder_record)\u001B[0m\n\u001B[1;32m    615\u001B[0m _check_save_filelike(f)\n\u001B[1;32m    617\u001B[0m \u001B[38;5;28;01mif\u001B[39;00m _use_new_zipfile_serialization:\n\u001B[0;32m--> 618\u001B[0m     \u001B[38;5;28;01mwith\u001B[39;00m _open_zipfile_writer(f) \u001B[38;5;28;01mas\u001B[39;00m opened_zipfile:\n\u001B[1;32m    619\u001B[0m         _save(obj, opened_zipfile, pickle_module, pickle_protocol, _disable_byteorder_record)\n\u001B[1;32m    620\u001B[0m         \u001B[38;5;28;01mreturn\u001B[39;00m\n",
      "File \u001B[0;32m/opt/conda/lib/python3.10/site-packages/torch/serialization.py:466\u001B[0m, in \u001B[0;36m_open_zipfile_writer_file.__exit__\u001B[0;34m(self, *args)\u001B[0m\n\u001B[1;32m    465\u001B[0m \u001B[38;5;28;01mdef\u001B[39;00m \u001B[38;5;21m__exit__\u001B[39m(\u001B[38;5;28mself\u001B[39m, \u001B[38;5;241m*\u001B[39margs) \u001B[38;5;241m-\u001B[39m\u001B[38;5;241m>\u001B[39m \u001B[38;5;28;01mNone\u001B[39;00m:\n\u001B[0;32m--> 466\u001B[0m     \u001B[38;5;28;43mself\u001B[39;49m\u001B[38;5;241;43m.\u001B[39;49m\u001B[43mfile_like\u001B[49m\u001B[38;5;241;43m.\u001B[39;49m\u001B[43mwrite_end_of_file\u001B[49m\u001B[43m(\u001B[49m\u001B[43m)\u001B[49m\n\u001B[1;32m    467\u001B[0m     \u001B[38;5;28;01mif\u001B[39;00m \u001B[38;5;28mself\u001B[39m\u001B[38;5;241m.\u001B[39mfile_stream \u001B[38;5;129;01mis\u001B[39;00m \u001B[38;5;129;01mnot\u001B[39;00m \u001B[38;5;28;01mNone\u001B[39;00m:\n\u001B[1;32m    468\u001B[0m         \u001B[38;5;28mself\u001B[39m\u001B[38;5;241m.\u001B[39mfile_stream\u001B[38;5;241m.\u001B[39mclose()\n",
      "\u001B[0;31mKeyboardInterrupt\u001B[0m: "
     ],
     "ename": "KeyboardInterrupt",
     "evalue": "",
     "output_type": "error"
    }
   ]
  },
  {
   "cell_type": "code",
   "source": [
    "print(\"testing\")\n",
    "\n",
    "# Tracking variables\n",
    "total_test_accuracy = 0\n",
    "total_test_loss = 0\n",
    "nb_test_steps = 0\n",
    "\n",
    "all_predictions = []\n",
    "\n",
    "# Evaluate data for one epoch\n",
    "for batch in test_dataloader:\n",
    "\n",
    "    # Unpack this training batch from our dataloader.\n",
    "    #\n",
    "    # As we unpack the batch, we'll also copy each tensor to the GPU using\n",
    "    # the `to` method.\n",
    "    #\n",
    "    # `batch` contains three pytorch tensors:\n",
    "    #   [0]: input ids\n",
    "    #   [1]: attention masks\n",
    "    #   [2]: labels\n",
    "    b_input_ids = batch[0].to(device)\n",
    "\n",
    "    b_input_mask = batch[1].to(device)\n",
    "    # b_poincare = batch[2].to(device)\n",
    "    # b_difficulty = batch[3].to(device)\n",
    "    b_labels = batch[2].to(device)\n",
    "    # skill_labels = batch[3].to(device)\n",
    "\n",
    "    # Tell pytorch not to bother with constructing the compute graph during\n",
    "    # the forward pass, since this is only needed for backprop (training).\n",
    "    with torch.no_grad():\n",
    "\n",
    "        # Forward pass, calculate logit predictions.\n",
    "        logits = model(b_input_ids,b_input_mask)\n",
    "\n",
    "    # Accumulate the validation loss.\n",
    "    loss = loss_func(logits, b_labels)\n",
    "    total_test_loss += loss.item()\n",
    "\n",
    "    # Move logits and labels to CPU\n",
    "    logits = logits.detach().cpu().numpy()\n",
    "    label_ids = b_labels.to('cpu').numpy()\n",
    "\n",
    "    # Calculate the accuracy for this batch of test sentences, and\n",
    "    # accumulate it over all batches.\n",
    "    total_test_accuracy += flat_accuracy(logits, label_ids)\n",
    "    \n",
    "    predictions = np.argmax(logits, axis=1)\n",
    "    all_predictions.extend(predictions.tolist())\n",
    "\n",
    "\n",
    "# Report the final accuracy for this validation run.\n",
    "avg_val_accuracy = total_test_accuracy / len(test_dataloader)\n",
    "print(\"  Accuracy: {0:.2f}\".format(avg_val_accuracy))\n",
    "\n",
    "# Calculate the average loss over all of the batches.\n",
    "avg_val_loss = total_test_loss / len(test_dataloader)\n",
    "# Measure how long the validation run took.\n",
    "\n",
    "print(\"  Validation Loss: {0:.2f}\".format(avg_val_loss))\n",
    "import csv\n",
    "with open('predictions.csv', 'w', newline='') as file:\n",
    "    writer = csv.writer(file)\n",
    "    \n",
    "    # Write the list as a single row in the CSV\n",
    "    writer.writerow(all_predictions)\n"
   ],
   "metadata": {
    "execution": {
     "iopub.status.busy": "2024-05-16T18:45:56.229462Z",
     "iopub.execute_input": "2024-05-16T18:45:56.230135Z",
     "iopub.status.idle": "2024-05-16T18:45:56.451432Z",
     "shell.execute_reply.started": "2024-05-16T18:45:56.230101Z",
     "shell.execute_reply": "2024-05-16T18:45:56.450525Z"
    },
    "trusted": true
   },
   "execution_count": 149,
   "outputs": [
    {
     "name": "stdout",
     "text": "testing\n  Accuracy: 0.50\n  Validation Loss: 1.05\n",
     "output_type": "stream"
    }
   ]
  }
 ]
}
