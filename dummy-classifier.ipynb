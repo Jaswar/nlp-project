{
 "cells": [
  {
   "cell_type": "code",
   "id": "initial_id",
   "metadata": {
    "collapsed": true,
    "ExecuteTime": {
     "end_time": "2024-05-24T21:17:51.836170Z",
     "start_time": "2024-05-24T21:17:51.249943Z"
    }
   },
   "source": [
    "import json\n",
    "\n",
    "# Changed from NumTemp-E9C0/output/bm25_top_100_train\n",
    "with open(\"NumTemp-E9C0/output/bm25_top_100_train\") as f:\n",
    "    train_data = json.load(f)\n",
    "with open('NumTemp-E9C0/output/bm25_top_100_val') as f:\n",
    "    val_data = json.load(f)\n",
    "with open('NumTemp-E9C0/output/bm25_top_100_test') as f:\n",
    "    test_data = json.load(f)\n",
    "    \n",
    "targets_train = [claim['label'] for claim in train_data]\n",
    "targets_val = [claim['label'] for claim in val_data]\n",
    "targets_test = [claim['label'] for claim in test_data]\n",
    "print(targets_train[:10])"
   ],
   "outputs": [
    {
     "name": "stdout",
     "output_type": "stream",
     "text": [
      "['False', 'Conflicting', 'False', 'False', 'True', 'True', 'False', 'False', 'False', 'False']\n"
     ]
    }
   ],
   "execution_count": 11
  },
  {
   "metadata": {
    "ExecuteTime": {
     "end_time": "2024-05-24T21:17:51.840589Z",
     "start_time": "2024-05-24T21:17:51.836749Z"
    }
   },
   "cell_type": "code",
   "source": [
    "from sklearn.preprocessing import LabelEncoder\n",
    "\n",
    "LE = LabelEncoder()\n",
    "targets_train = LE.fit_transform(targets_train)\n",
    "targets_val = LE.transform(targets_val)\n",
    "targets_test = LE.transform(targets_test)\n",
    "print(targets_train[:10])"
   ],
   "id": "a802a5eda92828bf",
   "outputs": [
    {
     "name": "stdout",
     "output_type": "stream",
     "text": [
      "[1 0 1 1 2 2 1 1 1 1]\n"
     ]
    }
   ],
   "execution_count": 12
  },
  {
   "metadata": {
    "ExecuteTime": {
     "end_time": "2024-05-24T21:17:51.849336Z",
     "start_time": "2024-05-24T21:17:51.840966Z"
    }
   },
   "cell_type": "code",
   "source": [
    "from sklearn.dummy import DummyClassifier\n",
    "\n",
    "classifier = DummyClassifier(strategy='most_frequent')\n",
    "classifier.fit(train_data, targets_train)\n",
    "predictions_train = classifier.predict(train_data)\n",
    "predictions_val = classifier.predict(val_data)\n",
    "print(predictions_train[:10])"
   ],
   "id": "4f4fb8b9b5006698",
   "outputs": [
    {
     "name": "stdout",
     "output_type": "stream",
     "text": [
      "[1 1 1 1 1 1 1 1 1 1]\n"
     ]
    }
   ],
   "execution_count": 13
  },
  {
   "metadata": {
    "ExecuteTime": {
     "end_time": "2024-05-24T21:17:51.866013Z",
     "start_time": "2024-05-24T21:17:51.850051Z"
    }
   },
   "cell_type": "code",
   "source": [
    "from sklearn.metrics import accuracy_score\n",
    "acc = accuracy_score(targets_train, predictions_train)\n",
    "print(f\"Train accuracy: {acc}\")\n",
    "acc = accuracy_score(targets_val, predictions_val)\n",
    "print(f\"Validation accuracy: {acc}\")"
   ],
   "id": "aeb30323a039c58e",
   "outputs": [
    {
     "name": "stdout",
     "output_type": "stream",
     "text": [
      "Train accuracy: 0.5807750377453448\n",
      "Validation accuracy: 0.5820363164721142\n"
     ]
    }
   ],
   "execution_count": 14
  },
  {
   "metadata": {
    "ExecuteTime": {
     "end_time": "2024-05-24T21:17:52.299569Z",
     "start_time": "2024-05-24T21:17:52.297760Z"
    }
   },
   "cell_type": "code",
   "source": [
    "import csv\n",
    "\n",
    "predictions_test = classifier.predict(test_data)\n",
    "\n",
    "with open('predictions/predictions_dummy.csv', 'w', newline='') as file:\n",
    "    writer = csv.writer(file)\n",
    "    \n",
    "    # Write the list as a single row in the CSV\n",
    "    writer.writerow(predictions_test)"
   ],
   "id": "72795057cef2e41b",
   "outputs": [],
   "execution_count": 15
  },
  {
   "metadata": {},
   "cell_type": "code",
   "outputs": [],
   "execution_count": null,
   "source": "",
   "id": "32a2e1fda726c3af"
  }
 ],
 "metadata": {
  "kernelspec": {
   "display_name": "Python 3",
   "language": "python",
   "name": "python3"
  },
  "language_info": {
   "codemirror_mode": {
    "name": "ipython",
    "version": 2
   },
   "file_extension": ".py",
   "mimetype": "text/x-python",
   "name": "python",
   "nbconvert_exporter": "python",
   "pygments_lexer": "ipython2",
   "version": "2.7.6"
  }
 },
 "nbformat": 4,
 "nbformat_minor": 5
}
